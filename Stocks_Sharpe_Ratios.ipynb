{
  "nbformat": 4,
  "nbformat_minor": 0,
  "metadata": {
    "colab": {
      "name": "Stocks-Sharpe-Ratios.ipynb",
      "provenance": [],
      "collapsed_sections": [
        "3eMgeZ1DP0mk",
        "2cIO2qK4QDfx",
        "zNdb7qv4Qacw"
      ],
      "authorship_tag": "ABX9TyM6hxLj/9dJl/u4F7i9OHQX",
      "include_colab_link": true
    },
    "kernelspec": {
      "name": "python3",
      "display_name": "Python 3"
    }
  },
  "cells": [
    {
      "cell_type": "markdown",
      "metadata": {
        "id": "view-in-github",
        "colab_type": "text"
      },
      "source": [
        "<a href=\"https://colab.research.google.com/github/PedroGuimaraesFerreira/Stocks-Sharpe-Ratios/blob/master/Stocks_Sharpe_Ratios.ipynb\" target=\"_parent\"><img src=\"https://colab.research.google.com/assets/colab-badge.svg\" alt=\"Open In Colab\"/></a>"
      ]
    },
    {
      "cell_type": "code",
      "metadata": {
        "id": "CgKKeDykIRBE",
        "colab_type": "code",
        "colab": {
          "base_uri": "https://localhost:8080/",
          "height": 204
        },
        "outputId": "883ecfb0-dc5b-4849-c56c-6923cb3115be"
      },
      "source": [
        "import pandas as pd\n",
        "import numpy as np\n",
        "!pip install bokeh\n",
        "\n",
        "from bokeh.io import curdoc\n",
        "\n",
        "#bokeh.sampledata.download()\n",
        "#from bokeh.sampledata.stocks import AAPL\n",
        "\n",
        "# Perform necessary imports\n",
        "from bokeh.io import output_file, show\n",
        "from bokeh.plotting import figure\n",
        "from bokeh.models import HoverTool, ColumnDataSource, Band\n",
        "from bokeh.models import NumeralTickFormatter\n",
        "from bokeh.layouts import gridplot\n",
        "from bokeh.io import output_notebook, show\n",
        "from bokeh.plotting import figure\n",
        "output_notebook()"
      ],
      "execution_count": 10,
      "outputs": [
        {
          "output_type": "stream",
          "text": [
            "Requirement already satisfied: bokeh in /usr/local/lib/python3.6/dist-packages (1.4.0)\n",
            "Requirement already satisfied: PyYAML>=3.10 in /usr/local/lib/python3.6/dist-packages (from bokeh) (3.13)\n",
            "Requirement already satisfied: six>=1.5.2 in /usr/local/lib/python3.6/dist-packages (from bokeh) (1.12.0)\n",
            "Requirement already satisfied: packaging>=16.8 in /usr/local/lib/python3.6/dist-packages (from bokeh) (20.4)\n",
            "Requirement already satisfied: python-dateutil>=2.1 in /usr/local/lib/python3.6/dist-packages (from bokeh) (2.8.1)\n",
            "Requirement already satisfied: tornado>=4.3 in /usr/local/lib/python3.6/dist-packages (from bokeh) (4.5.3)\n",
            "Requirement already satisfied: numpy>=1.7.1 in /usr/local/lib/python3.6/dist-packages (from bokeh) (1.18.4)\n",
            "Requirement already satisfied: pillow>=4.0 in /usr/local/lib/python3.6/dist-packages (from bokeh) (7.0.0)\n",
            "Requirement already satisfied: Jinja2>=2.7 in /usr/local/lib/python3.6/dist-packages (from bokeh) (2.11.2)\n",
            "Requirement already satisfied: pyparsing>=2.0.2 in /usr/local/lib/python3.6/dist-packages (from packaging>=16.8->bokeh) (2.4.7)\n",
            "Requirement already satisfied: MarkupSafe>=0.23 in /usr/local/lib/python3.6/dist-packages (from Jinja2>=2.7->bokeh) (1.1.1)\n"
          ],
          "name": "stdout"
        }
      ]
    },
    {
      "cell_type": "code",
      "metadata": {
        "id": "tiOi-Uui1kv3",
        "colab_type": "code",
        "colab": {}
      },
      "source": [
        "# Reading in the data\n",
        "stock_data = pd.read_csv('https://raw.githubusercontent.com/PedroGuimaraesFerreira/Stocks-Sharpe-Ratios/master/stock_data.csv',\n",
        "                         parse_dates=['Date'],\n",
        "                         index_col='Date').dropna()\n",
        "\n",
        "benchmark_data = pd.read_csv('https://raw.githubusercontent.com/PedroGuimaraesFerreira/Stocks-Sharpe-Ratios/master/benchmark_data.csv',\n",
        "                             parse_dates=['Date'],\n",
        "                             index_col='Date').dropna()\n",
        "\n",
        "\n",
        "stock_returns = stock_data.pct_change()\n",
        "\n",
        "sp_returns = benchmark_data['S&P 500'].pct_change()\n",
        "\n",
        "\n"
      ],
      "execution_count": 0,
      "outputs": []
    },
    {
      "cell_type": "code",
      "metadata": {
        "id": "BYMjzF_SIf79",
        "colab_type": "code",
        "colab": {}
      },
      "source": [
        "def bollinger_bands(series, window=20, stds=2):\n",
        "    \n",
        "    #rolling metrics\n",
        "    sma = series.rolling(window).mean()\n",
        "    std = series.rolling(window).std()\n",
        "\n",
        "    #bounds\n",
        "    upper = sma + std * stds\n",
        "    lower = sma - std * stds\n",
        "\n",
        "    #yields\n",
        "    return pd.DataFrame(index=series.index, data={\n",
        "        'upper': upper,\n",
        "        'mid': sma,\n",
        "        'lower': lower\n",
        "    })\n"
      ],
      "execution_count": 0,
      "outputs": []
    },
    {
      "cell_type": "code",
      "metadata": {
        "id": "87Ho9KtVA-qr",
        "colab_type": "code",
        "colab": {}
      },
      "source": [
        " df_amazon = bollinger_bands(stock_data.Amazon)\n",
        " df_facebook = bollinger_bands(stock_data.Facebook)\n",
        " df_snp = bollinger_bands(benchmark_data['S&P 500'])"
      ],
      "execution_count": 0,
      "outputs": []
    },
    {
      "cell_type": "code",
      "metadata": {
        "id": "E1pG1mYwIge0",
        "colab_type": "code",
        "outputId": "a8de54fb-60af-4972-c625-2d0e924ab8fc",
        "colab": {
          "base_uri": "https://localhost:8080/",
          "height": 685
        }
      },
      "source": [
        "stock_data.info()\n",
        "display(stock_data.shape)\n",
        "display(stock_data.head())\n",
        "display(stock_data.describe())"
      ],
      "execution_count": 14,
      "outputs": [
        {
          "output_type": "stream",
          "text": [
            "<class 'pandas.core.frame.DataFrame'>\n",
            "DatetimeIndex: 252 entries, 2016-01-04 to 2016-12-30\n",
            "Data columns (total 2 columns):\n",
            " #   Column    Non-Null Count  Dtype  \n",
            "---  ------    --------------  -----  \n",
            " 0   Amazon    252 non-null    float64\n",
            " 1   Facebook  252 non-null    float64\n",
            "dtypes: float64(2)\n",
            "memory usage: 5.9 KB\n"
          ],
          "name": "stdout"
        },
        {
          "output_type": "display_data",
          "data": {
            "text/plain": [
              "(252, 2)"
            ]
          },
          "metadata": {
            "tags": []
          }
        },
        {
          "output_type": "display_data",
          "data": {
            "text/html": [
              "<div>\n",
              "<style scoped>\n",
              "    .dataframe tbody tr th:only-of-type {\n",
              "        vertical-align: middle;\n",
              "    }\n",
              "\n",
              "    .dataframe tbody tr th {\n",
              "        vertical-align: top;\n",
              "    }\n",
              "\n",
              "    .dataframe thead th {\n",
              "        text-align: right;\n",
              "    }\n",
              "</style>\n",
              "<table border=\"1\" class=\"dataframe\">\n",
              "  <thead>\n",
              "    <tr style=\"text-align: right;\">\n",
              "      <th></th>\n",
              "      <th>Amazon</th>\n",
              "      <th>Facebook</th>\n",
              "    </tr>\n",
              "    <tr>\n",
              "      <th>Date</th>\n",
              "      <th></th>\n",
              "      <th></th>\n",
              "    </tr>\n",
              "  </thead>\n",
              "  <tbody>\n",
              "    <tr>\n",
              "      <th>2016-01-04</th>\n",
              "      <td>636.989990</td>\n",
              "      <td>102.220001</td>\n",
              "    </tr>\n",
              "    <tr>\n",
              "      <th>2016-01-05</th>\n",
              "      <td>633.789978</td>\n",
              "      <td>102.730003</td>\n",
              "    </tr>\n",
              "    <tr>\n",
              "      <th>2016-01-06</th>\n",
              "      <td>632.650024</td>\n",
              "      <td>102.970001</td>\n",
              "    </tr>\n",
              "    <tr>\n",
              "      <th>2016-01-07</th>\n",
              "      <td>607.940002</td>\n",
              "      <td>97.919998</td>\n",
              "    </tr>\n",
              "    <tr>\n",
              "      <th>2016-01-08</th>\n",
              "      <td>607.049988</td>\n",
              "      <td>97.330002</td>\n",
              "    </tr>\n",
              "  </tbody>\n",
              "</table>\n",
              "</div>"
            ],
            "text/plain": [
              "                Amazon    Facebook\n",
              "Date                              \n",
              "2016-01-04  636.989990  102.220001\n",
              "2016-01-05  633.789978  102.730003\n",
              "2016-01-06  632.650024  102.970001\n",
              "2016-01-07  607.940002   97.919998\n",
              "2016-01-08  607.049988   97.330002"
            ]
          },
          "metadata": {
            "tags": []
          }
        },
        {
          "output_type": "display_data",
          "data": {
            "text/html": [
              "<div>\n",
              "<style scoped>\n",
              "    .dataframe tbody tr th:only-of-type {\n",
              "        vertical-align: middle;\n",
              "    }\n",
              "\n",
              "    .dataframe tbody tr th {\n",
              "        vertical-align: top;\n",
              "    }\n",
              "\n",
              "    .dataframe thead th {\n",
              "        text-align: right;\n",
              "    }\n",
              "</style>\n",
              "<table border=\"1\" class=\"dataframe\">\n",
              "  <thead>\n",
              "    <tr style=\"text-align: right;\">\n",
              "      <th></th>\n",
              "      <th>Amazon</th>\n",
              "      <th>Facebook</th>\n",
              "    </tr>\n",
              "  </thead>\n",
              "  <tbody>\n",
              "    <tr>\n",
              "      <th>count</th>\n",
              "      <td>252.000000</td>\n",
              "      <td>252.000000</td>\n",
              "    </tr>\n",
              "    <tr>\n",
              "      <th>mean</th>\n",
              "      <td>699.523135</td>\n",
              "      <td>117.035873</td>\n",
              "    </tr>\n",
              "    <tr>\n",
              "      <th>std</th>\n",
              "      <td>92.362312</td>\n",
              "      <td>8.899858</td>\n",
              "    </tr>\n",
              "    <tr>\n",
              "      <th>min</th>\n",
              "      <td>482.070007</td>\n",
              "      <td>94.160004</td>\n",
              "    </tr>\n",
              "    <tr>\n",
              "      <th>25%</th>\n",
              "      <td>606.929993</td>\n",
              "      <td>112.202499</td>\n",
              "    </tr>\n",
              "    <tr>\n",
              "      <th>50%</th>\n",
              "      <td>727.875000</td>\n",
              "      <td>117.765000</td>\n",
              "    </tr>\n",
              "    <tr>\n",
              "      <th>75%</th>\n",
              "      <td>767.882492</td>\n",
              "      <td>123.902503</td>\n",
              "    </tr>\n",
              "    <tr>\n",
              "      <th>max</th>\n",
              "      <td>844.359985</td>\n",
              "      <td>133.279999</td>\n",
              "    </tr>\n",
              "  </tbody>\n",
              "</table>\n",
              "</div>"
            ],
            "text/plain": [
              "           Amazon    Facebook\n",
              "count  252.000000  252.000000\n",
              "mean   699.523135  117.035873\n",
              "std     92.362312    8.899858\n",
              "min    482.070007   94.160004\n",
              "25%    606.929993  112.202499\n",
              "50%    727.875000  117.765000\n",
              "75%    767.882492  123.902503\n",
              "max    844.359985  133.279999"
            ]
          },
          "metadata": {
            "tags": []
          }
        }
      ]
    },
    {
      "cell_type": "code",
      "metadata": {
        "id": "jdxxuEpGI3BI",
        "colab_type": "code",
        "colab": {}
      },
      "source": [
        "def datetime(x):\n",
        "    return np.array(x, dtype=np.datetime64)\n",
        "\n",
        "source = ColumnDataSource(data={\n",
        "    'x' : datetime(stock_data.index),\n",
        "    #amazon data\n",
        "    'Amazon' : stock_data.Amazon,\n",
        "    'Amazon_l' : df_amazon.lower,\n",
        "    'Amazon_m' : df_amazon.mid,\n",
        "    'Amazon_u' : df_amazon.upper,\n",
        "    'Amazon_r' : stock_returns.Amazon,\n",
        "\n",
        "    #facebook data\n",
        "    'Facebook' : stock_data.Facebook,\n",
        "    'Facebook_l' : df_facebook.lower,\n",
        "    'Facebook_m' : df_facebook.mid,\n",
        "    'Facebook_u' : df_facebook.upper,\n",
        "    'Facebook_r' : stock_returns.Facebook\n",
        "})\n",
        "\n",
        "source_snp = ColumnDataSource(data={\n",
        "    'x' : datetime(benchmark_data.index),\n",
        "\n",
        "    #S&P 500 data\n",
        "    'y' : benchmark_data['S&P 500'],\n",
        "    'l' : df_snp.lower,\n",
        "    'm' : df_snp.mid,\n",
        "    'u' : df_snp.upper,\n",
        "    'r' : sp_returns\n",
        "})\n",
        "\n",
        "TOOLS=\"hover,crosshair,pan,wheel_zoom,zoom_in,zoom_out,box_zoom,undo,redo,reset,tap,save,box_select,poly_select,lasso_select,\""
      ],
      "execution_count": 0,
      "outputs": []
    },
    {
      "cell_type": "markdown",
      "metadata": {
        "id": "0YHWOo-APNzg",
        "colab_type": "text"
      },
      "source": [
        "### Amazon"
      ]
    },
    {
      "cell_type": "markdown",
      "metadata": {
        "id": "bxd4yIIKPuU8",
        "colab_type": "text"
      },
      "source": [
        ">#### Stock"
      ]
    },
    {
      "cell_type": "code",
      "metadata": {
        "id": "ibIJep10uDib",
        "colab_type": "code",
        "colab": {}
      },
      "source": [
        "p1 = figure(x_axis_type='datetime',\n",
        "           title='Amazon Stock Data', \n",
        "           #x_axis_label='Date',\n",
        "           #y_axis_label='Value ($)',\n",
        "           plot_height=400,\n",
        "           plot_width=700,\n",
        "           )\n",
        "p1.yaxis.formatter = NumeralTickFormatter(format=\"$0.00\")\n",
        "\n",
        "# change just some things about the x-grid\n",
        "p1.xgrid.grid_line_color = None\n",
        "\n",
        "# change just some things about the y-grid\n",
        "p1.ygrid.grid_line_alpha = 0.5\n",
        "#p.ygrid.grid_line_dash = [6, 4]\n",
        "\n",
        "p1.background_fill_color=\"white\"\n",
        "\n",
        "#Amazon line plot\n",
        "p1.line('x', 'Amazon', color='#FF9900', line_width=2, source=source)\n",
        "p1.line('x', 'Amazon_m', color='black', source=source)\n",
        "cr1 = p1.circle('x', 'Amazon', source=source, size=2,\n",
        "              fill_color=None, hover_fill_color='black',\n",
        "              fill_alpha=0.05, hover_alpha=1,\n",
        "              line_color=None, hover_line_color=\"black\")\n",
        "\n",
        "band1 = Band(base='x', lower='Amazon_l', upper='Amazon_u',\n",
        "             source=source,\n",
        "             fill_alpha=0.08, fill_color='black',\n",
        "             line_width=1, line_color='black',\n",
        "             level='underlay')\n",
        "\n",
        "p1.add_layout(band1)\n",
        "\n",
        "p1.add_tools(HoverTool(\n",
        "    tooltips=[\n",
        "        ( 'date',   '@x{%F}'            ),\n",
        "        #( 'Value ($)',  '$@{Facebook}' ),\n",
        "        ( 'Value ($)',  '$@{Amazon}') \n",
        "    ],\n",
        "    formatters={\n",
        "        'x'      : 'datetime', # use 'datetime' formatter for 'date' field\n",
        "    },\n",
        "    # display a tooltip whenever the cursor is vertically in line with a glyph\n",
        "    mode='vline',\n",
        "    renderers=[cr1], \n",
        "    #show_arrow=True\n",
        "))\n",
        "\n",
        "output_notebook()\n",
        "#show(p1)\n"
      ],
      "execution_count": 0,
      "outputs": []
    },
    {
      "cell_type": "markdown",
      "metadata": {
        "id": "3eMgeZ1DP0mk",
        "colab_type": "text"
      },
      "source": [
        "> #### Daily %"
      ]
    },
    {
      "cell_type": "code",
      "metadata": {
        "id": "3LHLOUZwP3y0",
        "colab_type": "code",
        "colab": {}
      },
      "source": [
        "r1 = figure(x_axis_type='datetime',\n",
        "           title='Amazon Daily % Returns', \n",
        "           #x_axis_label='Date',\n",
        "           #y_axis_label='Value ($)',\n",
        "           plot_height=400,\n",
        "           plot_width=700\n",
        "           )\n",
        "r1.yaxis.formatter = NumeralTickFormatter(format=\"0.00%\")\n",
        "\n",
        "# change just some things about the x-grid\n",
        "r1.xgrid.grid_line_color = None\n",
        "\n",
        "# change just some things about the y-grid\n",
        "r1.ygrid.grid_line_alpha = 0.5\n",
        "#p.ygrid.grid_line_dash = [6, 4]\n",
        "\n",
        "r1.background_fill_color=\"white\"\n",
        "\n",
        "#bands\n",
        "band_1r1 = Band(base='x',\n",
        "               lower=stock_returns.Amazon.mean() - stock_returns.Amazon.std(),\n",
        "               upper=stock_returns.Amazon.mean() + stock_returns.Amazon.std(),\n",
        "               source=source,\n",
        "               fill_alpha=0.1, fill_color='black',\n",
        "               line_width=1, line_color='black',\n",
        "               level='underlay')\n",
        "\n",
        "r1.add_layout(band_1r1)\n",
        "\n",
        "band_2r1 = Band(base='x',\n",
        "               lower=stock_returns.Amazon.mean() - 2*stock_returns.Amazon.std(),\n",
        "               upper=stock_returns.Amazon.mean() + 2*stock_returns.Amazon.std(),\n",
        "               source=source,\n",
        "               fill_alpha=0.067, fill_color='black',\n",
        "               line_width=1, line_color='black',\n",
        "               level='underlay')\n",
        "\n",
        "r1.add_layout(band_2r1)\n",
        "\n",
        "band_3r1 = Band(base='x',\n",
        "               lower=stock_returns.Amazon.mean() - 3*stock_returns.Amazon.std(),\n",
        "               upper=stock_returns.Amazon.mean() + 3*stock_returns.Amazon.std(),\n",
        "               source=source,\n",
        "               fill_alpha=0.035, fill_color='black',\n",
        "               line_width=1, line_color='black',\n",
        "               level='underlay')\n",
        "\n",
        "r1.add_layout(band_3r1)\n",
        "\n",
        "#Amazon line plot\n",
        "r1.line('x', 'Amazon_r', color='#FF9900', line_width=3, source=source)\n",
        "\n",
        "cr_r1 = r1.circle('x', 'Amazon_r', source=source, size=2,\n",
        "              fill_color=None, hover_fill_color='black',\n",
        "              fill_alpha=0.05, hover_alpha=1,\n",
        "              line_color=None, hover_line_color=\"black\")\n",
        "\n",
        "r1.add_tools(HoverTool(\n",
        "    tooltips=[\n",
        "        ( 'date',   '@x{%F}'            ),\n",
        "        #( 'Value ($)',  '$@{Facebook}' ),\n",
        "        ( '% Change',  '@{Amazon_r}{0.00%}') \n",
        "    ],\n",
        "    formatters={\n",
        "        'x'      : 'datetime', # use 'datetime' formatter for 'date' field\n",
        "    },\n",
        "    # display a tooltip whenever the cursor is vertically in line with a glyph\n",
        "    mode='vline',\n",
        "    renderers=[cr_r1], \n",
        "    #show_arrow=True\n",
        "))\n",
        "\n",
        "output_notebook()\n",
        "show(r1)"
      ],
      "execution_count": 0,
      "outputs": []
    },
    {
      "cell_type": "markdown",
      "metadata": {
        "id": "rc3YAxUXPWMN",
        "colab_type": "text"
      },
      "source": [
        "### Facebook"
      ]
    },
    {
      "cell_type": "markdown",
      "metadata": {
        "id": "6BIY2WaCQAZQ",
        "colab_type": "text"
      },
      "source": [
        "> #### Stock"
      ]
    },
    {
      "cell_type": "code",
      "metadata": {
        "id": "DlXSYu6mPX-y",
        "colab_type": "code",
        "colab": {}
      },
      "source": [
        "p2 = figure(x_axis_type='datetime',\n",
        "           title='Facebook Stock Data', \n",
        "           #x_axis_label='Date',\n",
        "           #y_axis_label='Value ($)',\n",
        "           plot_height=400,\n",
        "           plot_width=700\n",
        "           )\n",
        "p2.yaxis.formatter = NumeralTickFormatter(format=\"$0.00\")\n",
        "\n",
        "# change just some things about the x-grid\n",
        "p2.xgrid.grid_line_color = None\n",
        "\n",
        "# change just some things about the y-grid\n",
        "p2.ygrid.grid_line_alpha = 0.5\n",
        "#p.ygrid.grid_line_dash = [6, 4]\n",
        "\n",
        "p2.background_fill_color=\"white\"\n",
        "\n",
        "p2.border_fill_color = \"white\"\n",
        "p2.min_border_left = 80\n",
        "\n",
        "band2 = Band(base='x', lower='Facebook_l', upper='Facebook_u',\n",
        "             source=source,\n",
        "             fill_alpha=0.3, fill_color='#6699ff',\n",
        "             line_width=1, line_color='#6699ff',\n",
        "             level='underlay')\n",
        "\n",
        "p2.add_layout(band2)\n",
        "\n",
        "#Facebook line plot\n",
        "p2.line('x', 'Facebook', color='#4267B2', line_width=2, source=source)\n",
        "\n",
        "cr2 = p2.triangle('x', 'Facebook', source=source, size=2,\n",
        "              fill_color=\"grey\", hover_fill_color='#8b9dc3',\n",
        "              fill_alpha=0.05, hover_alpha=1,\n",
        "              line_color=None, hover_line_color='#8b9dc3')\n",
        "\n",
        "#p.add_tools(HoverTool(tooltips=None, renderers=[cr], mode='vline'))\n",
        "\n",
        "p2.add_tools(HoverTool(\n",
        "    tooltips=[\n",
        "        ( 'date',   '@x{%F}'            ),\n",
        "        ( 'Value ($)',  '$@{Facebook}' ),\n",
        "        #( 'Value ($)',  '$@{Amazon}') \n",
        "    ],\n",
        "    formatters={\n",
        "        'x'      : 'datetime', # use 'datetime' formatter for 'date' field\n",
        "    },\n",
        "    # display a tooltip whenever the cursor is vertically in line with a glyph\n",
        "    mode='vline',\n",
        "    renderers=[cr2], \n",
        "    #show_arrow=True\n",
        "))\n",
        "\n",
        "\n",
        "output_notebook()\n",
        "#show(p2)\n",
        "\n",
        "\n",
        "\n"
      ],
      "execution_count": 0,
      "outputs": []
    },
    {
      "cell_type": "markdown",
      "metadata": {
        "id": "2cIO2qK4QDfx",
        "colab_type": "text"
      },
      "source": [
        "> #### Daily %"
      ]
    },
    {
      "cell_type": "code",
      "metadata": {
        "id": "wCOcztmYQGqs",
        "colab_type": "code",
        "colab": {}
      },
      "source": [
        "r2 = figure(x_axis_type='datetime',\n",
        "           title='Facebook Daily % Returns', \n",
        "           #x_axis_label='Date',\n",
        "           #y_axis_label='Value ($)',\n",
        "           plot_height=400,\n",
        "           plot_width=700\n",
        "           )\n",
        "r2.yaxis.formatter = NumeralTickFormatter(format=\"0.00%\")\n",
        "\n",
        "# change just some things about the x-grid\n",
        "r2.xgrid.grid_line_color = None\n",
        "\n",
        "# change just some things about the y-grid\n",
        "r2.ygrid.grid_line_alpha = 0.5\n",
        "#p.ygrid.grid_line_dash = [6, 4]\n",
        "\n",
        "r2.background_fill_color=\"white\"\n",
        "\n",
        "#bands\n",
        "band_1r1 = Band(base='x',\n",
        "               lower=stock_returns.Facebook.mean() - stock_returns.Facebook.std(),\n",
        "               upper=stock_returns.Facebook.mean() + stock_returns.Facebook.std(),\n",
        "               source=source,\n",
        "               fill_alpha=0.1, fill_color='#6699ff',\n",
        "               line_width=1, line_color='#6699ff',\n",
        "               level='underlay')\n",
        "\n",
        "r2.add_layout(band_1r1)\n",
        "\n",
        "band_2r1 = Band(base='x',\n",
        "               lower=stock_returns.Facebook.mean() - 2*stock_returns.Facebook.std(),\n",
        "               upper=stock_returns.Facebook.mean() + 2*stock_returns.Facebook.std(),\n",
        "               source=source,\n",
        "               fill_alpha=0.067, fill_color='#6699ff',\n",
        "               line_width=1, line_color='#6699ff',\n",
        "               level='underlay')\n",
        "\n",
        "r2.add_layout(band_2r1)\n",
        "\n",
        "band_3r1 = Band(base='x',\n",
        "               lower=stock_returns.Facebook.mean() - 3*stock_returns.Facebook.std(),\n",
        "               upper=stock_returns.Facebook.mean() + 3*stock_returns.Facebook.std(),\n",
        "               source=source,\n",
        "               fill_alpha=0.035, fill_color='#6699ff',\n",
        "               line_width=1, line_color='#6699ff',\n",
        "               level='underlay')\n",
        "\n",
        "r2.add_layout(band_3r1)\n",
        "\n",
        "\n",
        "r2.line('x', 'Facebook_r', color='#4267B2', line_width=3, source=source)\n",
        "\n",
        "cr_r2 = r2.circle('x', 'Facebook_r', source=source, size=3,\n",
        "              fill_color=None, hover_fill_color='#8b9dc3',\n",
        "              fill_alpha=0.05, hover_alpha=1,\n",
        "              line_color=None, hover_line_color='#8b9dc3')\n",
        "\n",
        "r2.add_tools(HoverTool(\n",
        "    tooltips=[\n",
        "        ( 'date',   '@x{%F}'            ),\n",
        "        #( 'Value ($)',  '$@{Facebook}' ),\n",
        "        ( '% Change',  '@{Facebook_r}{0.00%}') \n",
        "    ],\n",
        "    formatters={\n",
        "        'x'      : 'datetime', # use 'datetime' formatter for 'date' field\n",
        "    },\n",
        "    # display a tooltip whenever the cursor is vertically in line with a glyph\n",
        "    mode='vline',\n",
        "    renderers=[cr_r2], \n",
        "    #show_arrow=True\n",
        "))\n",
        "\n",
        "output_notebook()\n",
        "show(r2)\n"
      ],
      "execution_count": 0,
      "outputs": []
    },
    {
      "cell_type": "markdown",
      "metadata": {
        "id": "bvVmrdMRPc1S",
        "colab_type": "text"
      },
      "source": [
        "### S&P 500"
      ]
    },
    {
      "cell_type": "markdown",
      "metadata": {
        "id": "PfbMGTZEQWW-",
        "colab_type": "text"
      },
      "source": [
        "> #### Stock"
      ]
    },
    {
      "cell_type": "code",
      "metadata": {
        "id": "QCTpJWJyPf9B",
        "colab_type": "code",
        "colab": {}
      },
      "source": [
        "p3 = figure(x_axis_type='datetime',\n",
        "           title='S&P 500 Data', \n",
        "           #x_axis_label='Date',\n",
        "           #y_axis_label='Value ($)',\n",
        "           plot_height=400,\n",
        "           plot_width=700\n",
        "           )\n",
        "p3.yaxis.formatter = NumeralTickFormatter(format=\"$0.00\")\n",
        "\n",
        "# change just some things about the x-grid\n",
        "p3.xgrid.grid_line_color = None\n",
        "\n",
        "# change just some things about the y-grid\n",
        "p3.ygrid.grid_line_alpha = 0.5\n",
        "#p.ygrid.grid_line_dash = [6, 4]\n",
        "\n",
        "p3.background_fill_color=\"white\"\n",
        "\n",
        "p3.border_fill_color = \"white\"\n",
        "p3.min_border_left = 80\n",
        "\n",
        "band3 = Band(base='x', lower='l', upper='u',\n",
        "             source=source_snp,\n",
        "             fill_alpha=0.3, fill_color='#b3b3ff',\n",
        "             line_width=1, line_color='#b3b3ff',\n",
        "             level='underlay')\n",
        "\n",
        "p3.add_layout(band3)\n",
        "\n",
        "\n",
        "p3.line('x', 'y', color='#8080ff', line_width=2, source=source_snp)\n",
        "\n",
        "cr3 = p3.circle('x', 'y', source=source_snp, size=2,\n",
        "              fill_color=\"grey\", hover_fill_color='#0000ff',\n",
        "              fill_alpha=0.05, hover_alpha=1,\n",
        "              line_color=None, hover_line_color='#0000ff')\n",
        "\n",
        "#p.add_tools(HoverTool(tooltips=None, renderers=[cr], mode='vline'))\n",
        "\n",
        "p3.add_tools(HoverTool(\n",
        "    tooltips=[\n",
        "        ( 'date',   '@x{%F}'            ),\n",
        "        ( 'Value ($)',  '$@{y}{0.000}' ),\n",
        "        #( 'Value ($)',  '$@{Amazon}') \n",
        "    ],\n",
        "    formatters={\n",
        "        'x'      : 'datetime', # use 'datetime' formatter for 'date' field\n",
        "    \n",
        "    },\n",
        "\n",
        "    # display a tooltip whenever the cursor is vertically in line with a glyph\n",
        "    mode='vline',\n",
        "    renderers=[cr3], \n",
        "    #show_arrow=True\n",
        "))\n",
        "\n",
        "\n",
        "output_notebook()\n",
        "#show(p3)\n",
        "\n",
        "\n"
      ],
      "execution_count": 0,
      "outputs": []
    },
    {
      "cell_type": "markdown",
      "metadata": {
        "id": "zNdb7qv4Qacw",
        "colab_type": "text"
      },
      "source": [
        "> #### Daily %"
      ]
    },
    {
      "cell_type": "code",
      "metadata": {
        "id": "JPrNLkusQS4Q",
        "colab_type": "code",
        "colab": {}
      },
      "source": [
        "r3 = figure(x_axis_type='datetime',\n",
        "           title='S&P 500 Daily % Returns', \n",
        "           #x_axis_label='Date',\n",
        "           #y_axis_label='Value ($)',\n",
        "           plot_height=400,\n",
        "           plot_width=700\n",
        "           )\n",
        "r3.yaxis.formatter = NumeralTickFormatter(format=\"0.00%\")\n",
        "\n",
        "# change just some things about the x-grid\n",
        "r3.xgrid.grid_line_color = None\n",
        "\n",
        "# change just some things about the y-grid\n",
        "r3.ygrid.grid_line_alpha = 0.5\n",
        "\n",
        "#p.ygrid.grid_line_dash = [6, 4]\n",
        "r3.background_fill_color=\"white\"\n",
        "\n",
        "#4d4dff\n",
        "\n",
        "#bands\n",
        "band_1r1 = Band(base='x',\n",
        "               lower=sp_returns.mean() - sp_returns.std(),\n",
        "               upper=sp_returns.mean() + sp_returns.std(),\n",
        "               source=source_snp,\n",
        "               fill_alpha=0.1, fill_color='#4d4dff',\n",
        "               line_width=1, line_color='#4d4dff',\n",
        "               level='underlay')\n",
        "\n",
        "r3.add_layout(band_1r1)\n",
        "\n",
        "band_2r1 = Band(base='x',\n",
        "               lower=sp_returns.mean() - 2*sp_returns.std(),\n",
        "               upper=sp_returns.mean() + 2*sp_returns.std(),\n",
        "               source=source_snp,\n",
        "               fill_alpha=0.1, fill_color='#4d4dff',\n",
        "               line_width=1, line_color='#4d4dff',\n",
        "               level='underlay')\n",
        "\n",
        "r3.add_layout(band_2r1)\n",
        "\n",
        "band_3r1 = Band(base='x',\n",
        "               lower=sp_returns.mean() - 3*sp_returns.std(),\n",
        "               upper=sp_returns.mean() + 3*sp_returns.std(),\n",
        "               source=source_snp,\n",
        "               fill_alpha=0.1, fill_color='#4d4dff',\n",
        "               line_width=1, line_color='#4d4dff',\n",
        "               level='underlay')\n",
        "\n",
        "r3.add_layout(band_3r1)\n",
        "\n",
        "\n",
        "r3.line('x', 'r', color='#8080ff', line_width=3, source=source_snp)\n",
        "\n",
        "cr_r3 = r3.circle('x', 'r', source=source_snp, size=3,\n",
        "              fill_color=None, hover_fill_color='#0000ff',\n",
        "              fill_alpha=0.05, hover_alpha=1,\n",
        "              line_color=None, hover_line_color='#0000ff')\n",
        "\n",
        "r3.add_tools(HoverTool(\n",
        "    tooltips=[\n",
        "        ( 'date',   '@x{%F}'            ),\n",
        "        #( 'Value ($)',  '$@{Facebook}' ),\n",
        "        ( '% Change',  '@{r}{0.00%}') \n",
        "    ],\n",
        "    formatters={\n",
        "        'x'      : 'datetime', # use 'datetime' formatter for 'date' field\n",
        "    },\n",
        "    # display a tooltip whenever the cursor is vertically in line with a glyph\n",
        "    mode='vline',\n",
        "    renderers=[cr_r3], \n",
        "    #show_arrow=True\n",
        "))\n",
        "\n",
        "output_notebook()\n",
        "show(r3)"
      ],
      "execution_count": 0,
      "outputs": []
    },
    {
      "cell_type": "markdown",
      "metadata": {
        "id": "Ge7lbGhAPiey",
        "colab_type": "text"
      },
      "source": [
        "### Assembling grid plot"
      ]
    },
    {
      "cell_type": "code",
      "metadata": {
        "id": "geICvuJH0AoU",
        "colab_type": "code",
        "colab": {}
      },
      "source": [
        "\n",
        "\n",
        "tab_1 = gridplot([[p1, r1], [p2, r2], [p3, r3]], plot_width=650, plot_height=280)  # open a browser"
      ],
      "execution_count": 0,
      "outputs": []
    },
    {
      "cell_type": "code",
      "metadata": {
        "id": "IerPGiTq0Add",
        "colab_type": "code",
        "colab": {
          "base_uri": "https://localhost:8080/",
          "height": 358
        },
        "outputId": "26a0be38-dd82-44de-ff36-4f9b86a453af"
      },
      "source": [
        "from bokeh.models.widgets import Panel\n",
        "from bokeh.models.widgets import Tabs\n",
        "from bokeh.plotting import figure, output_file, save\n",
        "\n",
        "from IPython.display import Javascript\n",
        "display(Javascript('''google.colab.output.setIframeHeight(0, true, {maxHeight: 5000})'''))\n",
        "\n",
        "tab1 = Panel(child=tab_1, title='gibberish')\n",
        "\n",
        "layout = Tabs(tabs=[tab1])\n",
        "\n",
        "# Specify the name of the output_file and show the result\n",
        "output_file('tabs.html', mode='inline')\n",
        "show(layout)\n",
        "\n"
      ],
      "execution_count": 43,
      "outputs": [
        {
          "output_type": "display_data",
          "data": {
            "application/javascript": [
              "google.colab.output.setIframeHeight(0, true, {maxHeight: 5000})"
            ],
            "text/plain": [
              "<IPython.core.display.Javascript object>"
            ]
          },
          "metadata": {
            "tags": []
          }
        },
        {
          "output_type": "error",
          "ename": "TypeError",
          "evalue": "ignored",
          "traceback": [
            "\u001b[0;31m---------------------------------------------------------------------------\u001b[0m",
            "\u001b[0;31mTypeError\u001b[0m                                 Traceback (most recent call last)",
            "\u001b[0;32m<ipython-input-43-aac27c3c2771>\u001b[0m in \u001b[0;36m<module>\u001b[0;34m()\u001b[0m\n\u001b[1;32m     12\u001b[0m \u001b[0;31m# Specify the name of the output_file and show the result\u001b[0m\u001b[0;34m\u001b[0m\u001b[0;34m\u001b[0m\u001b[0;34m\u001b[0m\u001b[0m\n\u001b[1;32m     13\u001b[0m \u001b[0moutput_file\u001b[0m\u001b[0;34m(\u001b[0m\u001b[0;34m'tabs.html'\u001b[0m\u001b[0;34m,\u001b[0m \u001b[0mmode\u001b[0m\u001b[0;34m=\u001b[0m\u001b[0;34m'inline'\u001b[0m\u001b[0;34m)\u001b[0m\u001b[0;34m\u001b[0m\u001b[0;34m\u001b[0m\u001b[0m\n\u001b[0;32m---> 14\u001b[0;31m \u001b[0mshow\u001b[0m\u001b[0;34m(\u001b[0m\u001b[0mlayout\u001b[0m\u001b[0;34m)\u001b[0m\u001b[0;34m\u001b[0m\u001b[0;34m\u001b[0m\u001b[0m\n\u001b[0m\u001b[1;32m     15\u001b[0m \u001b[0;34m\u001b[0m\u001b[0m\n",
            "\u001b[0;32m/usr/local/lib/python3.6/dist-packages/bokeh/io/showing.py\u001b[0m in \u001b[0;36mshow\u001b[0;34m(obj, browser, new, notebook_handle, notebook_url, **kw)\u001b[0m\n\u001b[1;32m    143\u001b[0m \u001b[0;31m#-----------------------------------------------------------------------------\u001b[0m\u001b[0;34m\u001b[0m\u001b[0;34m\u001b[0m\u001b[0;34m\u001b[0m\u001b[0m\n\u001b[1;32m    144\u001b[0m \u001b[0;34m\u001b[0m\u001b[0m\n\u001b[0;32m--> 145\u001b[0;31m \u001b[0;31m#-----------------------------------------------------------------------------\u001b[0m\u001b[0;34m\u001b[0m\u001b[0;34m\u001b[0m\u001b[0;34m\u001b[0m\u001b[0m\n\u001b[0m\u001b[1;32m    146\u001b[0m \u001b[0;31m# Private API\u001b[0m\u001b[0;34m\u001b[0m\u001b[0;34m\u001b[0m\u001b[0;34m\u001b[0m\u001b[0m\n\u001b[1;32m    147\u001b[0m \u001b[0;31m#-----------------------------------------------------------------------------\u001b[0m\u001b[0;34m\u001b[0m\u001b[0;34m\u001b[0m\u001b[0;34m\u001b[0m\u001b[0m\n",
            "\u001b[0;32m/usr/local/lib/python3.6/dist-packages/bokeh/io/showing.py\u001b[0m in \u001b[0;36m_show_with_state\u001b[0;34m(obj, state, browser, new, notebook_handle)\u001b[0m\n\u001b[1;32m    177\u001b[0m         \u001b[0m_show_file_with_state\u001b[0m\u001b[0;34m(\u001b[0m\u001b[0mobj\u001b[0m\u001b[0;34m,\u001b[0m \u001b[0mstate\u001b[0m\u001b[0;34m,\u001b[0m \u001b[0mnew\u001b[0m\u001b[0;34m,\u001b[0m \u001b[0mcontroller\u001b[0m\u001b[0;34m)\u001b[0m\u001b[0;34m\u001b[0m\u001b[0;34m\u001b[0m\u001b[0m\n\u001b[1;32m    178\u001b[0m \u001b[0;34m\u001b[0m\u001b[0m\n\u001b[0;32m--> 179\u001b[0;31m     \u001b[0;32mreturn\u001b[0m \u001b[0mcomms_handle\u001b[0m\u001b[0;34m\u001b[0m\u001b[0;34m\u001b[0m\u001b[0m\n\u001b[0m\u001b[1;32m    180\u001b[0m \u001b[0;34m\u001b[0m\u001b[0m\n\u001b[1;32m    181\u001b[0m \u001b[0;31m#-----------------------------------------------------------------------------\u001b[0m\u001b[0;34m\u001b[0m\u001b[0;34m\u001b[0m\u001b[0;34m\u001b[0m\u001b[0m\n",
            "\u001b[0;32m/usr/local/lib/python3.6/dist-packages/bokeh/io/notebook.py\u001b[0m in \u001b[0;36mrun_notebook_hook\u001b[0;34m(notebook_type, action, *args, **kw)\u001b[0m\n\u001b[1;32m    300\u001b[0m \u001b[0;31m#-----------------------------------------------------------------------------\u001b[0m\u001b[0;34m\u001b[0m\u001b[0;34m\u001b[0m\u001b[0;34m\u001b[0m\u001b[0m\n\u001b[1;32m    301\u001b[0m \u001b[0;31m# Dev API\u001b[0m\u001b[0;34m\u001b[0m\u001b[0;34m\u001b[0m\u001b[0;34m\u001b[0m\u001b[0m\n\u001b[0;32m--> 302\u001b[0;31m \u001b[0;31m#-----------------------------------------------------------------------------\u001b[0m\u001b[0;34m\u001b[0m\u001b[0;34m\u001b[0m\u001b[0;34m\u001b[0m\u001b[0m\n\u001b[0m\u001b[1;32m    303\u001b[0m \u001b[0;34m\u001b[0m\u001b[0m\n\u001b[1;32m    304\u001b[0m \u001b[0;32mdef\u001b[0m \u001b[0mdestroy_server\u001b[0m\u001b[0;34m(\u001b[0m\u001b[0mserver_id\u001b[0m\u001b[0;34m)\u001b[0m\u001b[0;34m:\u001b[0m\u001b[0;34m\u001b[0m\u001b[0;34m\u001b[0m\u001b[0m\n",
            "\u001b[0;32m/usr/local/lib/python3.6/dist-packages/google/colab/_import_hooks/_bokeh.py\u001b[0m in \u001b[0;36m_show_doc\u001b[0;34m(obj, state, notebook_handle)\u001b[0m\n\u001b[1;32m     80\u001b[0m     \u001b[0mIPython\u001b[0m\u001b[0;34m.\u001b[0m\u001b[0mget_ipython\u001b[0m\u001b[0;34m(\u001b[0m\u001b[0;34m)\u001b[0m\u001b[0;34m.\u001b[0m\u001b[0mevents\u001b[0m\u001b[0;34m.\u001b[0m\u001b[0mregister\u001b[0m\u001b[0;34m(\u001b[0m\u001b[0;34m'post_run_cell'\u001b[0m\u001b[0;34m,\u001b[0m \u001b[0m_post_execute\u001b[0m\u001b[0;34m)\u001b[0m  \u001b[0;31m# pylint: disable=undefined-variable\u001b[0m\u001b[0;34m\u001b[0m\u001b[0;34m\u001b[0m\u001b[0m\n\u001b[1;32m     81\u001b[0m     _bokeh_io_module.notebook.load_notebook(\n\u001b[0;32m---> 82\u001b[0;31m         resources=_bokeh_resources, hide_banner=True)\n\u001b[0m\u001b[1;32m     83\u001b[0m \u001b[0;34m\u001b[0m\u001b[0m\n\u001b[1;32m     84\u001b[0m   \u001b[0;31m# Call the default bokeh rendering path.\u001b[0m\u001b[0;34m\u001b[0m\u001b[0;34m\u001b[0m\u001b[0;34m\u001b[0m\u001b[0m\n",
            "\u001b[0;32m/usr/local/lib/python3.6/dist-packages/bokeh/io/notebook.py\u001b[0m in \u001b[0;36mload_notebook\u001b[0;34m(resources, verbose, hide_banner, load_timeout)\u001b[0m\n\u001b[1;32m    413\u001b[0m \u001b[0;34m\u001b[0m\u001b[0m\n\u001b[1;32m    414\u001b[0m     \u001b[0;32mif\u001b[0m \u001b[0;32mnot\u001b[0m \u001b[0mhide_banner\u001b[0m\u001b[0;34m:\u001b[0m\u001b[0;34m\u001b[0m\u001b[0;34m\u001b[0m\u001b[0m\n\u001b[0;32m--> 415\u001b[0;31m         \u001b[0mpublish_display_data\u001b[0m\u001b[0;34m(\u001b[0m\u001b[0;34m{\u001b[0m\u001b[0;34m'text/html'\u001b[0m\u001b[0;34m:\u001b[0m \u001b[0mhtml\u001b[0m\u001b[0;34m}\u001b[0m\u001b[0;34m)\u001b[0m\u001b[0;34m\u001b[0m\u001b[0;34m\u001b[0m\u001b[0m\n\u001b[0m\u001b[1;32m    416\u001b[0m     publish_display_data({\n\u001b[1;32m    417\u001b[0m         \u001b[0mJS_MIME_TYPE\u001b[0m   \u001b[0;34m:\u001b[0m \u001b[0mnb_js\u001b[0m\u001b[0;34m,\u001b[0m\u001b[0;34m\u001b[0m\u001b[0;34m\u001b[0m\u001b[0m\n",
            "\u001b[0;32m/usr/local/lib/python3.6/dist-packages/bokeh/io/notebook.py\u001b[0m in \u001b[0;36m_loading_js\u001b[0;34m(bundle, element_id, load_timeout, register_mime)\u001b[0m\n\u001b[1;32m    543\u001b[0m \u001b[0;34m\u001b[0m\u001b[0m\n\u001b[1;32m    544\u001b[0m \u001b[0;32mdef\u001b[0m \u001b[0m_origin_url\u001b[0m\u001b[0;34m(\u001b[0m\u001b[0murl\u001b[0m\u001b[0;34m)\u001b[0m\u001b[0;34m:\u001b[0m\u001b[0;34m\u001b[0m\u001b[0;34m\u001b[0m\u001b[0m\n\u001b[0;32m--> 545\u001b[0;31m     '''\n\u001b[0m\u001b[1;32m    546\u001b[0m \u001b[0;34m\u001b[0m\u001b[0m\n\u001b[1;32m    547\u001b[0m     '''\n",
            "\u001b[0;32m/usr/local/lib/python3.6/dist-packages/jinja2/environment.py\u001b[0m in \u001b[0;36mrender\u001b[0;34m(self, *args, **kwargs)\u001b[0m\n\u001b[1;32m   1088\u001b[0m             \u001b[0;32mreturn\u001b[0m \u001b[0mconcat\u001b[0m\u001b[0;34m(\u001b[0m\u001b[0mself\u001b[0m\u001b[0;34m.\u001b[0m\u001b[0mroot_render_func\u001b[0m\u001b[0;34m(\u001b[0m\u001b[0mself\u001b[0m\u001b[0;34m.\u001b[0m\u001b[0mnew_context\u001b[0m\u001b[0;34m(\u001b[0m\u001b[0mvars\u001b[0m\u001b[0;34m)\u001b[0m\u001b[0;34m)\u001b[0m\u001b[0;34m)\u001b[0m\u001b[0;34m\u001b[0m\u001b[0;34m\u001b[0m\u001b[0m\n\u001b[1;32m   1089\u001b[0m         \u001b[0;32mexcept\u001b[0m \u001b[0mException\u001b[0m\u001b[0;34m:\u001b[0m\u001b[0;34m\u001b[0m\u001b[0;34m\u001b[0m\u001b[0m\n\u001b[0;32m-> 1090\u001b[0;31m             \u001b[0mself\u001b[0m\u001b[0;34m.\u001b[0m\u001b[0menvironment\u001b[0m\u001b[0;34m.\u001b[0m\u001b[0mhandle_exception\u001b[0m\u001b[0;34m(\u001b[0m\u001b[0;34m)\u001b[0m\u001b[0;34m\u001b[0m\u001b[0;34m\u001b[0m\u001b[0m\n\u001b[0m\u001b[1;32m   1091\u001b[0m \u001b[0;34m\u001b[0m\u001b[0m\n\u001b[1;32m   1092\u001b[0m     \u001b[0;32mdef\u001b[0m \u001b[0mrender_async\u001b[0m\u001b[0;34m(\u001b[0m\u001b[0mself\u001b[0m\u001b[0;34m,\u001b[0m \u001b[0;34m*\u001b[0m\u001b[0margs\u001b[0m\u001b[0;34m,\u001b[0m \u001b[0;34m**\u001b[0m\u001b[0mkwargs\u001b[0m\u001b[0;34m)\u001b[0m\u001b[0;34m:\u001b[0m\u001b[0;34m\u001b[0m\u001b[0;34m\u001b[0m\u001b[0m\n",
            "\u001b[0;32m/usr/local/lib/python3.6/dist-packages/jinja2/environment.py\u001b[0m in \u001b[0;36mhandle_exception\u001b[0;34m(self, source)\u001b[0m\n\u001b[1;32m    830\u001b[0m         \u001b[0;32mfrom\u001b[0m \u001b[0;34m.\u001b[0m\u001b[0mdebug\u001b[0m \u001b[0;32mimport\u001b[0m \u001b[0mrewrite_traceback_stack\u001b[0m\u001b[0;34m\u001b[0m\u001b[0;34m\u001b[0m\u001b[0m\n\u001b[1;32m    831\u001b[0m \u001b[0;34m\u001b[0m\u001b[0m\n\u001b[0;32m--> 832\u001b[0;31m         \u001b[0mreraise\u001b[0m\u001b[0;34m(\u001b[0m\u001b[0;34m*\u001b[0m\u001b[0mrewrite_traceback_stack\u001b[0m\u001b[0;34m(\u001b[0m\u001b[0msource\u001b[0m\u001b[0;34m=\u001b[0m\u001b[0msource\u001b[0m\u001b[0;34m)\u001b[0m\u001b[0;34m)\u001b[0m\u001b[0;34m\u001b[0m\u001b[0;34m\u001b[0m\u001b[0m\n\u001b[0m\u001b[1;32m    833\u001b[0m \u001b[0;34m\u001b[0m\u001b[0m\n\u001b[1;32m    834\u001b[0m     \u001b[0;32mdef\u001b[0m \u001b[0mjoin_path\u001b[0m\u001b[0;34m(\u001b[0m\u001b[0mself\u001b[0m\u001b[0;34m,\u001b[0m \u001b[0mtemplate\u001b[0m\u001b[0;34m,\u001b[0m \u001b[0mparent\u001b[0m\u001b[0;34m)\u001b[0m\u001b[0;34m:\u001b[0m\u001b[0;34m\u001b[0m\u001b[0;34m\u001b[0m\u001b[0m\n",
            "\u001b[0;32m/usr/local/lib/python3.6/dist-packages/jinja2/_compat.py\u001b[0m in \u001b[0;36mreraise\u001b[0;34m(tp, value, tb)\u001b[0m\n\u001b[1;32m     26\u001b[0m     \u001b[0;32mdef\u001b[0m \u001b[0mreraise\u001b[0m\u001b[0;34m(\u001b[0m\u001b[0mtp\u001b[0m\u001b[0;34m,\u001b[0m \u001b[0mvalue\u001b[0m\u001b[0;34m,\u001b[0m \u001b[0mtb\u001b[0m\u001b[0;34m=\u001b[0m\u001b[0;32mNone\u001b[0m\u001b[0;34m)\u001b[0m\u001b[0;34m:\u001b[0m\u001b[0;34m\u001b[0m\u001b[0;34m\u001b[0m\u001b[0m\n\u001b[1;32m     27\u001b[0m         \u001b[0;32mif\u001b[0m \u001b[0mvalue\u001b[0m\u001b[0;34m.\u001b[0m\u001b[0m__traceback__\u001b[0m \u001b[0;32mis\u001b[0m \u001b[0;32mnot\u001b[0m \u001b[0mtb\u001b[0m\u001b[0;34m:\u001b[0m\u001b[0;34m\u001b[0m\u001b[0;34m\u001b[0m\u001b[0m\n\u001b[0;32m---> 28\u001b[0;31m             \u001b[0;32mraise\u001b[0m \u001b[0mvalue\u001b[0m\u001b[0;34m.\u001b[0m\u001b[0mwith_traceback\u001b[0m\u001b[0;34m(\u001b[0m\u001b[0mtb\u001b[0m\u001b[0;34m)\u001b[0m\u001b[0;34m\u001b[0m\u001b[0;34m\u001b[0m\u001b[0m\n\u001b[0m\u001b[1;32m     29\u001b[0m         \u001b[0;32mraise\u001b[0m \u001b[0mvalue\u001b[0m\u001b[0;34m\u001b[0m\u001b[0;34m\u001b[0m\u001b[0m\n\u001b[1;32m     30\u001b[0m \u001b[0;34m\u001b[0m\u001b[0m\n",
            "\u001b[0;32m/usr/local/lib/python3.6/dist-packages/bokeh/core/_templates/autoload_nb_js.js\u001b[0m in \u001b[0;36mtop-level template code\u001b[0;34m()\u001b[0m\n\u001b[0;32m----> 1\u001b[0;31m \u001b[0;34m{\u001b[0m\u001b[0;34m%\u001b[0m \u001b[0mextends\u001b[0m \u001b[0;34m\"autoload_js.js\"\u001b[0m \u001b[0;34m%\u001b[0m\u001b[0;34m}\u001b[0m\u001b[0;34m\u001b[0m\u001b[0;34m\u001b[0m\u001b[0m\n\u001b[0m\u001b[1;32m      2\u001b[0m \u001b[0;34m\u001b[0m\u001b[0m\n\u001b[1;32m      3\u001b[0m \u001b[0;34m{\u001b[0m\u001b[0;34m%\u001b[0m \u001b[0mblock\u001b[0m \u001b[0mregister_mimetype\u001b[0m \u001b[0;34m%\u001b[0m\u001b[0;34m}\u001b[0m\u001b[0;34m\u001b[0m\u001b[0;34m\u001b[0m\u001b[0m\n\u001b[1;32m      4\u001b[0m \u001b[0;34m\u001b[0m\u001b[0m\n\u001b[1;32m      5\u001b[0m   \u001b[0;34m{\u001b[0m\u001b[0;34m%\u001b[0m\u001b[0;34m-\u001b[0m \u001b[0;32mif\u001b[0m \u001b[0mregister_mime\u001b[0m \u001b[0;34m-\u001b[0m\u001b[0;34m%\u001b[0m\u001b[0;34m}\u001b[0m\u001b[0;34m\u001b[0m\u001b[0;34m\u001b[0m\u001b[0m\n",
            "\u001b[0;32m/usr/local/lib/python3.6/dist-packages/bokeh/core/_templates/autoload_js.js\u001b[0m in \u001b[0;36mtop-level template code\u001b[0;34m()\u001b[0m\n\u001b[1;32m     92\u001b[0m     }\n\u001b[1;32m     93\u001b[0m \u001b[0;34m\u001b[0m\u001b[0m\n\u001b[0;32m---> 94\u001b[0;31m     \u001b[0mconst\u001b[0m \u001b[0mhashes\u001b[0m \u001b[0;34m=\u001b[0m \u001b[0;34m{\u001b[0m\u001b[0;34m{\u001b[0m \u001b[0mbundle\u001b[0m\u001b[0;34m.\u001b[0m\u001b[0mhashes\u001b[0m\u001b[0;34m|\u001b[0m\u001b[0mjson\u001b[0m \u001b[0;34m}\u001b[0m\u001b[0;34m}\u001b[0m\u001b[0;34m;\u001b[0m\u001b[0;34m\u001b[0m\u001b[0;34m\u001b[0m\u001b[0m\n\u001b[0m\u001b[1;32m     95\u001b[0m \u001b[0;34m\u001b[0m\u001b[0m\n\u001b[1;32m     96\u001b[0m     for (var i = 0; i < js_urls.length; i++) {\n",
            "\u001b[0;32m/usr/local/lib/python3.6/dist-packages/bokeh/core/templates.py\u001b[0m in \u001b[0;36m<lambda>\u001b[0;34m(obj)\u001b[0m\n\u001b[1;32m     87\u001b[0m \u001b[0m_env\u001b[0m\u001b[0;34m.\u001b[0m\u001b[0mfilters\u001b[0m\u001b[0;34m[\u001b[0m\u001b[0;34m'json'\u001b[0m\u001b[0;34m]\u001b[0m \u001b[0;34m=\u001b[0m \u001b[0;32mlambda\u001b[0m \u001b[0mobj\u001b[0m\u001b[0;34m:\u001b[0m \u001b[0mMarkup\u001b[0m\u001b[0;34m(\u001b[0m\u001b[0mjson\u001b[0m\u001b[0;34m.\u001b[0m\u001b[0mdumps\u001b[0m\u001b[0;34m(\u001b[0m\u001b[0mobj\u001b[0m\u001b[0;34m)\u001b[0m\u001b[0;34m)\u001b[0m\u001b[0;34m\u001b[0m\u001b[0;34m\u001b[0m\u001b[0m\n\u001b[1;32m     88\u001b[0m \u001b[0;34m\u001b[0m\u001b[0m\n\u001b[0;32m---> 89\u001b[0;31m \u001b[0;31m#-----------------------------------------------------------------------------\u001b[0m\u001b[0;34m\u001b[0m\u001b[0;34m\u001b[0m\u001b[0;34m\u001b[0m\u001b[0m\n\u001b[0m\u001b[1;32m     90\u001b[0m \u001b[0;31m# General API\u001b[0m\u001b[0;34m\u001b[0m\u001b[0;34m\u001b[0m\u001b[0;34m\u001b[0m\u001b[0m\n\u001b[1;32m     91\u001b[0m \u001b[0;31m#-----------------------------------------------------------------------------\u001b[0m\u001b[0;34m\u001b[0m\u001b[0;34m\u001b[0m\u001b[0;34m\u001b[0m\u001b[0m\n",
            "\u001b[0;32m/usr/lib/python3.6/json/__init__.py\u001b[0m in \u001b[0;36mdumps\u001b[0;34m(obj, skipkeys, ensure_ascii, check_circular, allow_nan, cls, indent, separators, default, sort_keys, **kw)\u001b[0m\n\u001b[1;32m    229\u001b[0m         \u001b[0mcls\u001b[0m \u001b[0;32mis\u001b[0m \u001b[0;32mNone\u001b[0m \u001b[0;32mand\u001b[0m \u001b[0mindent\u001b[0m \u001b[0;32mis\u001b[0m \u001b[0;32mNone\u001b[0m \u001b[0;32mand\u001b[0m \u001b[0mseparators\u001b[0m \u001b[0;32mis\u001b[0m \u001b[0;32mNone\u001b[0m \u001b[0;32mand\u001b[0m\u001b[0;34m\u001b[0m\u001b[0;34m\u001b[0m\u001b[0m\n\u001b[1;32m    230\u001b[0m         default is None and not sort_keys and not kw):\n\u001b[0;32m--> 231\u001b[0;31m         \u001b[0;32mreturn\u001b[0m \u001b[0m_default_encoder\u001b[0m\u001b[0;34m.\u001b[0m\u001b[0mencode\u001b[0m\u001b[0;34m(\u001b[0m\u001b[0mobj\u001b[0m\u001b[0;34m)\u001b[0m\u001b[0;34m\u001b[0m\u001b[0;34m\u001b[0m\u001b[0m\n\u001b[0m\u001b[1;32m    232\u001b[0m     \u001b[0;32mif\u001b[0m \u001b[0mcls\u001b[0m \u001b[0;32mis\u001b[0m \u001b[0;32mNone\u001b[0m\u001b[0;34m:\u001b[0m\u001b[0;34m\u001b[0m\u001b[0;34m\u001b[0m\u001b[0m\n\u001b[1;32m    233\u001b[0m         \u001b[0mcls\u001b[0m \u001b[0;34m=\u001b[0m \u001b[0mJSONEncoder\u001b[0m\u001b[0;34m\u001b[0m\u001b[0;34m\u001b[0m\u001b[0m\n",
            "\u001b[0;32m/usr/lib/python3.6/json/encoder.py\u001b[0m in \u001b[0;36mencode\u001b[0;34m(self, o)\u001b[0m\n\u001b[1;32m    197\u001b[0m         \u001b[0;31m# exceptions aren't as detailed.  The list call should be roughly\u001b[0m\u001b[0;34m\u001b[0m\u001b[0;34m\u001b[0m\u001b[0;34m\u001b[0m\u001b[0m\n\u001b[1;32m    198\u001b[0m         \u001b[0;31m# equivalent to the PySequence_Fast that ''.join() would do.\u001b[0m\u001b[0;34m\u001b[0m\u001b[0;34m\u001b[0m\u001b[0;34m\u001b[0m\u001b[0m\n\u001b[0;32m--> 199\u001b[0;31m         \u001b[0mchunks\u001b[0m \u001b[0;34m=\u001b[0m \u001b[0mself\u001b[0m\u001b[0;34m.\u001b[0m\u001b[0miterencode\u001b[0m\u001b[0;34m(\u001b[0m\u001b[0mo\u001b[0m\u001b[0;34m,\u001b[0m \u001b[0m_one_shot\u001b[0m\u001b[0;34m=\u001b[0m\u001b[0;32mTrue\u001b[0m\u001b[0;34m)\u001b[0m\u001b[0;34m\u001b[0m\u001b[0;34m\u001b[0m\u001b[0m\n\u001b[0m\u001b[1;32m    200\u001b[0m         \u001b[0;32mif\u001b[0m \u001b[0;32mnot\u001b[0m \u001b[0misinstance\u001b[0m\u001b[0;34m(\u001b[0m\u001b[0mchunks\u001b[0m\u001b[0;34m,\u001b[0m \u001b[0;34m(\u001b[0m\u001b[0mlist\u001b[0m\u001b[0;34m,\u001b[0m \u001b[0mtuple\u001b[0m\u001b[0;34m)\u001b[0m\u001b[0;34m)\u001b[0m\u001b[0;34m:\u001b[0m\u001b[0;34m\u001b[0m\u001b[0;34m\u001b[0m\u001b[0m\n\u001b[1;32m    201\u001b[0m             \u001b[0mchunks\u001b[0m \u001b[0;34m=\u001b[0m \u001b[0mlist\u001b[0m\u001b[0;34m(\u001b[0m\u001b[0mchunks\u001b[0m\u001b[0;34m)\u001b[0m\u001b[0;34m\u001b[0m\u001b[0;34m\u001b[0m\u001b[0m\n",
            "\u001b[0;32m/usr/lib/python3.6/json/encoder.py\u001b[0m in \u001b[0;36miterencode\u001b[0;34m(self, o, _one_shot)\u001b[0m\n\u001b[1;32m    255\u001b[0m                 \u001b[0mself\u001b[0m\u001b[0;34m.\u001b[0m\u001b[0mkey_separator\u001b[0m\u001b[0;34m,\u001b[0m \u001b[0mself\u001b[0m\u001b[0;34m.\u001b[0m\u001b[0mitem_separator\u001b[0m\u001b[0;34m,\u001b[0m \u001b[0mself\u001b[0m\u001b[0;34m.\u001b[0m\u001b[0msort_keys\u001b[0m\u001b[0;34m,\u001b[0m\u001b[0;34m\u001b[0m\u001b[0;34m\u001b[0m\u001b[0m\n\u001b[1;32m    256\u001b[0m                 self.skipkeys, _one_shot)\n\u001b[0;32m--> 257\u001b[0;31m         \u001b[0;32mreturn\u001b[0m \u001b[0m_iterencode\u001b[0m\u001b[0;34m(\u001b[0m\u001b[0mo\u001b[0m\u001b[0;34m,\u001b[0m \u001b[0;36m0\u001b[0m\u001b[0;34m)\u001b[0m\u001b[0;34m\u001b[0m\u001b[0;34m\u001b[0m\u001b[0m\n\u001b[0m\u001b[1;32m    258\u001b[0m \u001b[0;34m\u001b[0m\u001b[0m\n\u001b[1;32m    259\u001b[0m def _make_iterencode(markers, _default, _encoder, _indent, _floatstr,\n",
            "\u001b[0;32m/usr/lib/python3.6/json/encoder.py\u001b[0m in \u001b[0;36mdefault\u001b[0;34m(self, o)\u001b[0m\n\u001b[1;32m    178\u001b[0m         \"\"\"\n\u001b[1;32m    179\u001b[0m         raise TypeError(\"Object of type '%s' is not JSON serializable\" %\n\u001b[0;32m--> 180\u001b[0;31m                         o.__class__.__name__)\n\u001b[0m\u001b[1;32m    181\u001b[0m \u001b[0;34m\u001b[0m\u001b[0m\n\u001b[1;32m    182\u001b[0m     \u001b[0;32mdef\u001b[0m \u001b[0mencode\u001b[0m\u001b[0;34m(\u001b[0m\u001b[0mself\u001b[0m\u001b[0;34m,\u001b[0m \u001b[0mo\u001b[0m\u001b[0;34m)\u001b[0m\u001b[0;34m:\u001b[0m\u001b[0;34m\u001b[0m\u001b[0;34m\u001b[0m\u001b[0m\n",
            "\u001b[0;31mTypeError\u001b[0m: Object of type 'Undefined' is not JSON serializable"
          ]
        }
      ]
    },
    {
      "cell_type": "code",
      "metadata": {
        "id": "JbpasrYnWczR",
        "colab_type": "code",
        "colab": {}
      },
      "source": [
        "excess_returns = stock_returns.sub(sp_returns, axis=0)"
      ],
      "execution_count": 0,
      "outputs": []
    },
    {
      "cell_type": "code",
      "metadata": {
        "id": "nwRKnhGxWcud",
        "colab_type": "code",
        "colab": {
          "base_uri": "https://localhost:8080/",
          "height": 422
        },
        "outputId": "593d004c-e052-425e-ce74-10e81ca875fb"
      },
      "source": [
        ""
      ],
      "execution_count": 35,
      "outputs": [
        {
          "output_type": "stream",
          "text": [
            "/usr/local/lib/python3.6/dist-packages/statsmodels/tools/_testing.py:19: FutureWarning: pandas.util.testing is deprecated. Use the functions in the public API at pandas.testing instead.\n",
            "  import pandas.util.testing as tm\n"
          ],
          "name": "stderr"
        },
        {
          "output_type": "error",
          "ename": "ImportError",
          "evalue": "ignored",
          "traceback": [
            "\u001b[0;31m---------------------------------------------------------------------------\u001b[0m",
            "\u001b[0;31mImportError\u001b[0m                               Traceback (most recent call last)",
            "\u001b[0;32m<ipython-input-35-a288e7fd6335>\u001b[0m in \u001b[0;36m<module>\u001b[0;34m()\u001b[0m\n\u001b[1;32m      2\u001b[0m \u001b[0;32mimport\u001b[0m \u001b[0mseaborn\u001b[0m \u001b[0;32mas\u001b[0m \u001b[0msns\u001b[0m\u001b[0;34m\u001b[0m\u001b[0;34m\u001b[0m\u001b[0m\n\u001b[1;32m      3\u001b[0m \u001b[0;34m\u001b[0m\u001b[0m\n\u001b[0;32m----> 4\u001b[0;31m \u001b[0;32mfrom\u001b[0m \u001b[0mbokeh\u001b[0m \u001b[0;32mimport\u001b[0m \u001b[0mmpl\u001b[0m\u001b[0;34m\u001b[0m\u001b[0;34m\u001b[0m\u001b[0m\n\u001b[0m\u001b[1;32m      5\u001b[0m \u001b[0;32mfrom\u001b[0m \u001b[0mbokeh\u001b[0m\u001b[0;34m.\u001b[0m\u001b[0mplotting\u001b[0m \u001b[0;32mimport\u001b[0m \u001b[0moutput_file\u001b[0m\u001b[0;34m,\u001b[0m \u001b[0mshow\u001b[0m\u001b[0;34m\u001b[0m\u001b[0;34m\u001b[0m\u001b[0m\n\u001b[1;32m      6\u001b[0m \u001b[0;34m\u001b[0m\u001b[0m\n",
            "\u001b[0;31mImportError\u001b[0m: cannot import name 'mpl'",
            "",
            "\u001b[0;31m---------------------------------------------------------------------------\u001b[0;32m\nNOTE: If your import is failing due to a missing package, you can\nmanually install dependencies using either !pip or !apt.\n\nTo view examples of installing some common dependencies, click the\n\"Open Examples\" button below.\n\u001b[0;31m---------------------------------------------------------------------------\u001b[0m\n"
          ]
        }
      ]
    },
    {
      "cell_type": "code",
      "metadata": {
        "id": "I6kPPc53Wcsj",
        "colab_type": "code",
        "colab": {
          "base_uri": "https://localhost:8080/",
          "height": 51
        },
        "outputId": "d2929ebd-ffbf-4bec-9d28-2e57f8ffd0ed"
      },
      "source": [
        ""
      ],
      "execution_count": 38,
      "outputs": [
        {
          "output_type": "stream",
          "text": [
            "\u001b[31mERROR: Could not find a version that satisfies the requirement bokeh.mpl (from versions: none)\u001b[0m\n",
            "\u001b[31mERROR: No matching distribution found for bokeh.mpl\u001b[0m\n"
          ],
          "name": "stdout"
        }
      ]
    },
    {
      "cell_type": "code",
      "metadata": {
        "id": "zYhHiL1KWcqj",
        "colab_type": "code",
        "colab": {
          "base_uri": "https://localhost:8080/",
          "height": 650
        },
        "outputId": "16bd70ab-9763-4a31-9245-e5cf8eafad88"
      },
      "source": [
        "!pip install -U ipykernel"
      ],
      "execution_count": 36,
      "outputs": [
        {
          "output_type": "stream",
          "text": [
            "Collecting ipykernel\n",
            "\u001b[?25l  Downloading https://files.pythonhosted.org/packages/61/18/f2350f0396fca562c22f880e25d668eaf6de129b6a56bf5b6786796a12e1/ipykernel-5.3.0-py3-none-any.whl (119kB)\n",
            "\r\u001b[K     |██▊                             | 10kB 17.0MB/s eta 0:00:01\r\u001b[K     |█████▌                          | 20kB 1.8MB/s eta 0:00:01\r\u001b[K     |████████▏                       | 30kB 2.3MB/s eta 0:00:01\r\u001b[K     |███████████                     | 40kB 2.6MB/s eta 0:00:01\r\u001b[K     |█████████████▊                  | 51kB 2.0MB/s eta 0:00:01\r\u001b[K     |████████████████▍               | 61kB 2.3MB/s eta 0:00:01\r\u001b[K     |███████████████████▏            | 71kB 2.6MB/s eta 0:00:01\r\u001b[K     |██████████████████████          | 81kB 2.8MB/s eta 0:00:01\r\u001b[K     |████████████████████████▋       | 92kB 3.0MB/s eta 0:00:01\r\u001b[K     |███████████████████████████▍    | 102kB 2.9MB/s eta 0:00:01\r\u001b[K     |██████████████████████████████  | 112kB 2.9MB/s eta 0:00:01\r\u001b[K     |████████████████████████████████| 122kB 2.9MB/s \n",
            "\u001b[?25hRequirement already satisfied, skipping upgrade: ipython>=5.0.0 in /usr/local/lib/python3.6/dist-packages (from ipykernel) (5.5.0)\n",
            "Requirement already satisfied, skipping upgrade: jupyter-client in /usr/local/lib/python3.6/dist-packages (from ipykernel) (5.3.4)\n",
            "Requirement already satisfied, skipping upgrade: traitlets>=4.1.0 in /usr/local/lib/python3.6/dist-packages (from ipykernel) (4.3.3)\n",
            "Requirement already satisfied, skipping upgrade: tornado>=4.2 in /usr/local/lib/python3.6/dist-packages (from ipykernel) (6.0.4)\n",
            "Requirement already satisfied, skipping upgrade: decorator in /usr/local/lib/python3.6/dist-packages (from ipython>=5.0.0->ipykernel) (4.4.2)\n",
            "Requirement already satisfied, skipping upgrade: pexpect; sys_platform != \"win32\" in /usr/local/lib/python3.6/dist-packages (from ipython>=5.0.0->ipykernel) (4.8.0)\n",
            "Requirement already satisfied, skipping upgrade: simplegeneric>0.8 in /usr/local/lib/python3.6/dist-packages (from ipython>=5.0.0->ipykernel) (0.8.1)\n",
            "Requirement already satisfied, skipping upgrade: prompt-toolkit<2.0.0,>=1.0.4 in /usr/local/lib/python3.6/dist-packages (from ipython>=5.0.0->ipykernel) (1.0.18)\n",
            "Requirement already satisfied, skipping upgrade: pygments in /usr/local/lib/python3.6/dist-packages (from ipython>=5.0.0->ipykernel) (2.1.3)\n",
            "Requirement already satisfied, skipping upgrade: setuptools>=18.5 in /usr/local/lib/python3.6/dist-packages (from ipython>=5.0.0->ipykernel) (47.1.1)\n",
            "Requirement already satisfied, skipping upgrade: pickleshare in /usr/local/lib/python3.6/dist-packages (from ipython>=5.0.0->ipykernel) (0.7.5)\n",
            "Requirement already satisfied, skipping upgrade: jupyter-core>=4.6.0 in /usr/local/lib/python3.6/dist-packages (from jupyter-client->ipykernel) (4.6.3)\n",
            "Requirement already satisfied, skipping upgrade: pyzmq>=13 in /usr/local/lib/python3.6/dist-packages (from jupyter-client->ipykernel) (19.0.1)\n",
            "Requirement already satisfied, skipping upgrade: python-dateutil>=2.1 in /usr/local/lib/python3.6/dist-packages (from jupyter-client->ipykernel) (2.8.1)\n",
            "Requirement already satisfied, skipping upgrade: ipython-genutils in /usr/local/lib/python3.6/dist-packages (from traitlets>=4.1.0->ipykernel) (0.2.0)\n",
            "Requirement already satisfied, skipping upgrade: six in /usr/local/lib/python3.6/dist-packages (from traitlets>=4.1.0->ipykernel) (1.12.0)\n",
            "Requirement already satisfied, skipping upgrade: ptyprocess>=0.5 in /usr/local/lib/python3.6/dist-packages (from pexpect; sys_platform != \"win32\"->ipython>=5.0.0->ipykernel) (0.6.0)\n",
            "Requirement already satisfied, skipping upgrade: wcwidth in /usr/local/lib/python3.6/dist-packages (from prompt-toolkit<2.0.0,>=1.0.4->ipython>=5.0.0->ipykernel) (0.1.9)\n",
            "\u001b[31mERROR: google-colab 1.0.0 has requirement ipykernel~=4.10, but you'll have ipykernel 5.3.0 which is incompatible.\u001b[0m\n",
            "Installing collected packages: ipykernel\n",
            "  Found existing installation: ipykernel 4.10.1\n",
            "    Uninstalling ipykernel-4.10.1:\n",
            "      Successfully uninstalled ipykernel-4.10.1\n",
            "Successfully installed ipykernel-5.3.0\n"
          ],
          "name": "stdout"
        },
        {
          "output_type": "display_data",
          "data": {
            "application/vnd.colab-display-data+json": {
              "pip_warning": {
                "packages": [
                  "ipykernel"
                ]
              }
            }
          },
          "metadata": {
            "tags": []
          }
        }
      ]
    },
    {
      "cell_type": "code",
      "metadata": {
        "id": "SIAYMiI4WcnH",
        "colab_type": "code",
        "colab": {}
      },
      "source": [
        ""
      ],
      "execution_count": 0,
      "outputs": []
    },
    {
      "cell_type": "code",
      "metadata": {
        "id": "F7yViMy4WclX",
        "colab_type": "code",
        "colab": {}
      },
      "source": [
        ""
      ],
      "execution_count": 0,
      "outputs": []
    },
    {
      "cell_type": "code",
      "metadata": {
        "id": "awPbZHlkWchh",
        "colab_type": "code",
        "colab": {}
      },
      "source": [
        ""
      ],
      "execution_count": 0,
      "outputs": []
    },
    {
      "cell_type": "code",
      "metadata": {
        "id": "9qn56MDs0AVV",
        "colab_type": "code",
        "colab": {
          "base_uri": "https://localhost:8080/",
          "height": 617
        },
        "outputId": "1ec5e972-c6ed-4874-ea22-add03d84e0c7"
      },
      "source": [
        "import numpy as np\n",
        "\n",
        "from bokeh.plotting import figure, output_file, show\n",
        "\n",
        "N = 4000\n",
        "x = np.random.random(size=N) * 100\n",
        "y = np.random.random(size=N) * 100\n",
        "radii = np.random.random(size=N) * 1.5\n",
        "colors = [\n",
        "    \"#%02x%02x%02x\" % (int(r), int(g), 150) for r, g in zip(50+2*x, 30+2*y)\n",
        "]\n",
        "\n",
        "TOOLS=\"hover,crosshair,pan,wheel_zoom,zoom_in,zoom_out,box_zoom,undo,redo,reset,tap,save,box_select,poly_select,lasso_select,\"\n",
        "\n",
        "p = figure(tools=TOOLS)\n",
        "\n",
        "p.scatter(x, y, radius=radii,\n",
        "          fill_color=colors, fill_alpha=0.6,\n",
        "          line_color=None)\n",
        "\n",
        "output_file(\"color_scatter.html\", title=\"color_scatter.py example\")\n",
        "\n",
        "show(p)  # open a browser"
      ],
      "execution_count": 244,
      "outputs": [
        {
          "output_type": "display_data",
          "data": {
            "application/javascript": [
              "\n",
              "(function(root) {\n",
              "  function now() {\n",
              "    return new Date();\n",
              "  }\n",
              "\n",
              "  var force = true;\n",
              "\n",
              "  if (typeof root._bokeh_onload_callbacks === \"undefined\" || force === true) {\n",
              "    root._bokeh_onload_callbacks = [];\n",
              "    root._bokeh_is_loading = undefined;\n",
              "  }\n",
              "\n",
              "  var JS_MIME_TYPE = 'application/javascript';\n",
              "  var HTML_MIME_TYPE = 'text/html';\n",
              "  var EXEC_MIME_TYPE = 'application/vnd.bokehjs_exec.v0+json';\n",
              "  var CLASS_NAME = 'output_bokeh rendered_html';\n",
              "\n",
              "  /**\n",
              "   * Render data to the DOM node\n",
              "   */\n",
              "  function render(props, node) {\n",
              "    var script = document.createElement(\"script\");\n",
              "    node.appendChild(script);\n",
              "  }\n",
              "\n",
              "  /**\n",
              "   * Handle when an output is cleared or removed\n",
              "   */\n",
              "  function handleClearOutput(event, handle) {\n",
              "    var cell = handle.cell;\n",
              "\n",
              "    var id = cell.output_area._bokeh_element_id;\n",
              "    var server_id = cell.output_area._bokeh_server_id;\n",
              "    // Clean up Bokeh references\n",
              "    if (id != null && id in Bokeh.index) {\n",
              "      Bokeh.index[id].model.document.clear();\n",
              "      delete Bokeh.index[id];\n",
              "    }\n",
              "\n",
              "    if (server_id !== undefined) {\n",
              "      // Clean up Bokeh references\n",
              "      var cmd = \"from bokeh.io.state import curstate; print(curstate().uuid_to_server['\" + server_id + \"'].get_sessions()[0].document.roots[0]._id)\";\n",
              "      cell.notebook.kernel.execute(cmd, {\n",
              "        iopub: {\n",
              "          output: function(msg) {\n",
              "            var id = msg.content.text.trim();\n",
              "            if (id in Bokeh.index) {\n",
              "              Bokeh.index[id].model.document.clear();\n",
              "              delete Bokeh.index[id];\n",
              "            }\n",
              "          }\n",
              "        }\n",
              "      });\n",
              "      // Destroy server and session\n",
              "      var cmd = \"import bokeh.io.notebook as ion; ion.destroy_server('\" + server_id + \"')\";\n",
              "      cell.notebook.kernel.execute(cmd);\n",
              "    }\n",
              "  }\n",
              "\n",
              "  /**\n",
              "   * Handle when a new output is added\n",
              "   */\n",
              "  function handleAddOutput(event, handle) {\n",
              "    var output_area = handle.output_area;\n",
              "    var output = handle.output;\n",
              "\n",
              "    // limit handleAddOutput to display_data with EXEC_MIME_TYPE content only\n",
              "    if ((output.output_type != \"display_data\") || (!output.data.hasOwnProperty(EXEC_MIME_TYPE))) {\n",
              "      return\n",
              "    }\n",
              "\n",
              "    var toinsert = output_area.element.find(\".\" + CLASS_NAME.split(' ')[0]);\n",
              "\n",
              "    if (output.metadata[EXEC_MIME_TYPE][\"id\"] !== undefined) {\n",
              "      toinsert[toinsert.length - 1].firstChild.textContent = output.data[JS_MIME_TYPE];\n",
              "      // store reference to embed id on output_area\n",
              "      output_area._bokeh_element_id = output.metadata[EXEC_MIME_TYPE][\"id\"];\n",
              "    }\n",
              "    if (output.metadata[EXEC_MIME_TYPE][\"server_id\"] !== undefined) {\n",
              "      var bk_div = document.createElement(\"div\");\n",
              "      bk_div.innerHTML = output.data[HTML_MIME_TYPE];\n",
              "      var script_attrs = bk_div.children[0].attributes;\n",
              "      for (var i = 0; i < script_attrs.length; i++) {\n",
              "        toinsert[toinsert.length - 1].firstChild.setAttribute(script_attrs[i].name, script_attrs[i].value);\n",
              "      }\n",
              "      // store reference to server id on output_area\n",
              "      output_area._bokeh_server_id = output.metadata[EXEC_MIME_TYPE][\"server_id\"];\n",
              "    }\n",
              "  }\n",
              "\n",
              "  function register_renderer(events, OutputArea) {\n",
              "\n",
              "    function append_mime(data, metadata, element) {\n",
              "      // create a DOM node to render to\n",
              "      var toinsert = this.create_output_subarea(\n",
              "        metadata,\n",
              "        CLASS_NAME,\n",
              "        EXEC_MIME_TYPE\n",
              "      );\n",
              "      this.keyboard_manager.register_events(toinsert);\n",
              "      // Render to node\n",
              "      var props = {data: data, metadata: metadata[EXEC_MIME_TYPE]};\n",
              "      render(props, toinsert[toinsert.length - 1]);\n",
              "      element.append(toinsert);\n",
              "      return toinsert\n",
              "    }\n",
              "\n",
              "    /* Handle when an output is cleared or removed */\n",
              "    events.on('clear_output.CodeCell', handleClearOutput);\n",
              "    events.on('delete.Cell', handleClearOutput);\n",
              "\n",
              "    /* Handle when a new output is added */\n",
              "    events.on('output_added.OutputArea', handleAddOutput);\n",
              "\n",
              "    /**\n",
              "     * Register the mime type and append_mime function with output_area\n",
              "     */\n",
              "    OutputArea.prototype.register_mime_type(EXEC_MIME_TYPE, append_mime, {\n",
              "      /* Is output safe? */\n",
              "      safe: true,\n",
              "      /* Index of renderer in `output_area.display_order` */\n",
              "      index: 0\n",
              "    });\n",
              "  }\n",
              "\n",
              "  // register the mime type if in Jupyter Notebook environment and previously unregistered\n",
              "  if (root.Jupyter !== undefined) {\n",
              "    var events = require('base/js/events');\n",
              "    var OutputArea = require('notebook/js/outputarea').OutputArea;\n",
              "\n",
              "    if (OutputArea.prototype.mime_types().indexOf(EXEC_MIME_TYPE) == -1) {\n",
              "      register_renderer(events, OutputArea);\n",
              "    }\n",
              "  }\n",
              "\n",
              "  \n",
              "  if (typeof (root._bokeh_timeout) === \"undefined\" || force === true) {\n",
              "    root._bokeh_timeout = Date.now() + 5000;\n",
              "    root._bokeh_failed_load = false;\n",
              "  }\n",
              "\n",
              "  var NB_LOAD_WARNING = {'data': {'text/html':\n",
              "     \"<div style='background-color: #fdd'>\\n\"+\n",
              "     \"<p>\\n\"+\n",
              "     \"BokehJS does not appear to have successfully loaded. If loading BokehJS from CDN, this \\n\"+\n",
              "     \"may be due to a slow or bad network connection. Possible fixes:\\n\"+\n",
              "     \"</p>\\n\"+\n",
              "     \"<ul>\\n\"+\n",
              "     \"<li>re-rerun `output_notebook()` to attempt to load from CDN again, or</li>\\n\"+\n",
              "     \"<li>use INLINE resources instead, as so:</li>\\n\"+\n",
              "     \"</ul>\\n\"+\n",
              "     \"<code>\\n\"+\n",
              "     \"from bokeh.resources import INLINE\\n\"+\n",
              "     \"output_notebook(resources=INLINE)\\n\"+\n",
              "     \"</code>\\n\"+\n",
              "     \"</div>\"}};\n",
              "\n",
              "  function display_loaded() {\n",
              "    var el = document.getElementById(null);\n",
              "    if (el != null) {\n",
              "      el.textContent = \"BokehJS is loading...\";\n",
              "    }\n",
              "    if (root.Bokeh !== undefined) {\n",
              "      if (el != null) {\n",
              "        el.textContent = \"BokehJS \" + root.Bokeh.version + \" successfully loaded.\";\n",
              "      }\n",
              "    } else if (Date.now() < root._bokeh_timeout) {\n",
              "      setTimeout(display_loaded, 100)\n",
              "    }\n",
              "  }\n",
              "\n",
              "\n",
              "  function run_callbacks() {\n",
              "    try {\n",
              "      root._bokeh_onload_callbacks.forEach(function(callback) {\n",
              "        if (callback != null)\n",
              "          callback();\n",
              "      });\n",
              "    } finally {\n",
              "      delete root._bokeh_onload_callbacks\n",
              "    }\n",
              "    console.debug(\"Bokeh: all callbacks have finished\");\n",
              "  }\n",
              "\n",
              "  function load_libs(css_urls, js_urls, callback) {\n",
              "    if (css_urls == null) css_urls = [];\n",
              "    if (js_urls == null) js_urls = [];\n",
              "\n",
              "    root._bokeh_onload_callbacks.push(callback);\n",
              "    if (root._bokeh_is_loading > 0) {\n",
              "      console.debug(\"Bokeh: BokehJS is being loaded, scheduling callback at\", now());\n",
              "      return null;\n",
              "    }\n",
              "    if (js_urls == null || js_urls.length === 0) {\n",
              "      run_callbacks();\n",
              "      return null;\n",
              "    }\n",
              "    console.debug(\"Bokeh: BokehJS not loaded, scheduling load and callback at\", now());\n",
              "    root._bokeh_is_loading = css_urls.length + js_urls.length;\n",
              "\n",
              "    function on_load() {\n",
              "      root._bokeh_is_loading--;\n",
              "      if (root._bokeh_is_loading === 0) {\n",
              "        console.debug(\"Bokeh: all BokehJS libraries/stylesheets loaded\");\n",
              "        run_callbacks()\n",
              "      }\n",
              "    }\n",
              "\n",
              "    function on_error() {\n",
              "      console.error(\"failed to load \" + url);\n",
              "    }\n",
              "\n",
              "    for (var i = 0; i < css_urls.length; i++) {\n",
              "      var url = css_urls[i];\n",
              "      const element = document.createElement(\"link\");\n",
              "      element.onload = on_load;\n",
              "      element.onerror = on_error;\n",
              "      element.rel = \"stylesheet\";\n",
              "      element.type = \"text/css\";\n",
              "      element.href = url;\n",
              "      console.debug(\"Bokeh: injecting link tag for BokehJS stylesheet: \", url);\n",
              "      document.body.appendChild(element);\n",
              "    }\n",
              "\n",
              "    for (var i = 0; i < js_urls.length; i++) {\n",
              "      var url = js_urls[i];\n",
              "      var element = document.createElement('script');\n",
              "      element.onload = on_load;\n",
              "      element.onerror = on_error;\n",
              "      element.async = false;\n",
              "      element.src = url;\n",
              "      console.debug(\"Bokeh: injecting script tag for BokehJS library: \", url);\n",
              "      document.head.appendChild(element);\n",
              "    }\n",
              "  };\n",
              "\n",
              "  function inject_raw_css(css) {\n",
              "    const element = document.createElement(\"style\");\n",
              "    element.appendChild(document.createTextNode(css));\n",
              "    document.body.appendChild(element);\n",
              "  }\n",
              "\n",
              "  \n",
              "  var js_urls = [\"https://cdn.pydata.org/bokeh/release/bokeh-1.4.0.min.js\", \"https://cdn.pydata.org/bokeh/release/bokeh-widgets-1.4.0.min.js\", \"https://cdn.pydata.org/bokeh/release/bokeh-tables-1.4.0.min.js\", \"https://cdn.pydata.org/bokeh/release/bokeh-gl-1.4.0.min.js\"];\n",
              "  var css_urls = [];\n",
              "  \n",
              "\n",
              "  var inline_js = [\n",
              "    function(Bokeh) {\n",
              "      Bokeh.set_log_level(\"info\");\n",
              "    },\n",
              "    function(Bokeh) {\n",
              "    \n",
              "    \n",
              "    }\n",
              "  ];\n",
              "\n",
              "  function run_inline_js() {\n",
              "    \n",
              "    if (root.Bokeh !== undefined || force === true) {\n",
              "      \n",
              "    for (var i = 0; i < inline_js.length; i++) {\n",
              "      inline_js[i].call(root, root.Bokeh);\n",
              "    }\n",
              "    } else if (Date.now() < root._bokeh_timeout) {\n",
              "      setTimeout(run_inline_js, 100);\n",
              "    } else if (!root._bokeh_failed_load) {\n",
              "      console.log(\"Bokeh: BokehJS failed to load within specified timeout.\");\n",
              "      root._bokeh_failed_load = true;\n",
              "    } else if (force !== true) {\n",
              "      var cell = $(document.getElementById(null)).parents('.cell').data().cell;\n",
              "      cell.output_area.append_execute_result(NB_LOAD_WARNING)\n",
              "    }\n",
              "\n",
              "  }\n",
              "\n",
              "  if (root._bokeh_is_loading === 0) {\n",
              "    console.debug(\"Bokeh: BokehJS loaded, going straight to plotting\");\n",
              "    run_inline_js();\n",
              "  } else {\n",
              "    load_libs(css_urls, js_urls, function() {\n",
              "      console.debug(\"Bokeh: BokehJS plotting callback run at\", now());\n",
              "      run_inline_js();\n",
              "    });\n",
              "  }\n",
              "}(window));"
            ],
            "application/vnd.bokehjs_load.v0+json": "\n(function(root) {\n  function now() {\n    return new Date();\n  }\n\n  var force = true;\n\n  if (typeof root._bokeh_onload_callbacks === \"undefined\" || force === true) {\n    root._bokeh_onload_callbacks = [];\n    root._bokeh_is_loading = undefined;\n  }\n\n  \n\n  \n  if (typeof (root._bokeh_timeout) === \"undefined\" || force === true) {\n    root._bokeh_timeout = Date.now() + 5000;\n    root._bokeh_failed_load = false;\n  }\n\n  var NB_LOAD_WARNING = {'data': {'text/html':\n     \"<div style='background-color: #fdd'>\\n\"+\n     \"<p>\\n\"+\n     \"BokehJS does not appear to have successfully loaded. If loading BokehJS from CDN, this \\n\"+\n     \"may be due to a slow or bad network connection. Possible fixes:\\n\"+\n     \"</p>\\n\"+\n     \"<ul>\\n\"+\n     \"<li>re-rerun `output_notebook()` to attempt to load from CDN again, or</li>\\n\"+\n     \"<li>use INLINE resources instead, as so:</li>\\n\"+\n     \"</ul>\\n\"+\n     \"<code>\\n\"+\n     \"from bokeh.resources import INLINE\\n\"+\n     \"output_notebook(resources=INLINE)\\n\"+\n     \"</code>\\n\"+\n     \"</div>\"}};\n\n  function display_loaded() {\n    var el = document.getElementById(null);\n    if (el != null) {\n      el.textContent = \"BokehJS is loading...\";\n    }\n    if (root.Bokeh !== undefined) {\n      if (el != null) {\n        el.textContent = \"BokehJS \" + root.Bokeh.version + \" successfully loaded.\";\n      }\n    } else if (Date.now() < root._bokeh_timeout) {\n      setTimeout(display_loaded, 100)\n    }\n  }\n\n\n  function run_callbacks() {\n    try {\n      root._bokeh_onload_callbacks.forEach(function(callback) {\n        if (callback != null)\n          callback();\n      });\n    } finally {\n      delete root._bokeh_onload_callbacks\n    }\n    console.debug(\"Bokeh: all callbacks have finished\");\n  }\n\n  function load_libs(css_urls, js_urls, callback) {\n    if (css_urls == null) css_urls = [];\n    if (js_urls == null) js_urls = [];\n\n    root._bokeh_onload_callbacks.push(callback);\n    if (root._bokeh_is_loading > 0) {\n      console.debug(\"Bokeh: BokehJS is being loaded, scheduling callback at\", now());\n      return null;\n    }\n    if (js_urls == null || js_urls.length === 0) {\n      run_callbacks();\n      return null;\n    }\n    console.debug(\"Bokeh: BokehJS not loaded, scheduling load and callback at\", now());\n    root._bokeh_is_loading = css_urls.length + js_urls.length;\n\n    function on_load() {\n      root._bokeh_is_loading--;\n      if (root._bokeh_is_loading === 0) {\n        console.debug(\"Bokeh: all BokehJS libraries/stylesheets loaded\");\n        run_callbacks()\n      }\n    }\n\n    function on_error() {\n      console.error(\"failed to load \" + url);\n    }\n\n    for (var i = 0; i < css_urls.length; i++) {\n      var url = css_urls[i];\n      const element = document.createElement(\"link\");\n      element.onload = on_load;\n      element.onerror = on_error;\n      element.rel = \"stylesheet\";\n      element.type = \"text/css\";\n      element.href = url;\n      console.debug(\"Bokeh: injecting link tag for BokehJS stylesheet: \", url);\n      document.body.appendChild(element);\n    }\n\n    for (var i = 0; i < js_urls.length; i++) {\n      var url = js_urls[i];\n      var element = document.createElement('script');\n      element.onload = on_load;\n      element.onerror = on_error;\n      element.async = false;\n      element.src = url;\n      console.debug(\"Bokeh: injecting script tag for BokehJS library: \", url);\n      document.head.appendChild(element);\n    }\n  };\n\n  function inject_raw_css(css) {\n    const element = document.createElement(\"style\");\n    element.appendChild(document.createTextNode(css));\n    document.body.appendChild(element);\n  }\n\n  \n  var js_urls = [\"https://cdn.pydata.org/bokeh/release/bokeh-1.4.0.min.js\", \"https://cdn.pydata.org/bokeh/release/bokeh-widgets-1.4.0.min.js\", \"https://cdn.pydata.org/bokeh/release/bokeh-tables-1.4.0.min.js\", \"https://cdn.pydata.org/bokeh/release/bokeh-gl-1.4.0.min.js\"];\n  var css_urls = [];\n  \n\n  var inline_js = [\n    function(Bokeh) {\n      Bokeh.set_log_level(\"info\");\n    },\n    function(Bokeh) {\n    \n    \n    }\n  ];\n\n  function run_inline_js() {\n    \n    if (root.Bokeh !== undefined || force === true) {\n      \n    for (var i = 0; i < inline_js.length; i++) {\n      inline_js[i].call(root, root.Bokeh);\n    }\n    } else if (Date.now() < root._bokeh_timeout) {\n      setTimeout(run_inline_js, 100);\n    } else if (!root._bokeh_failed_load) {\n      console.log(\"Bokeh: BokehJS failed to load within specified timeout.\");\n      root._bokeh_failed_load = true;\n    } else if (force !== true) {\n      var cell = $(document.getElementById(null)).parents('.cell').data().cell;\n      cell.output_area.append_execute_result(NB_LOAD_WARNING)\n    }\n\n  }\n\n  if (root._bokeh_is_loading === 0) {\n    console.debug(\"Bokeh: BokehJS loaded, going straight to plotting\");\n    run_inline_js();\n  } else {\n    load_libs(css_urls, js_urls, function() {\n      console.debug(\"Bokeh: BokehJS plotting callback run at\", now());\n      run_inline_js();\n    });\n  }\n}(window));"
          },
          "metadata": {
            "tags": []
          }
        },
        {
          "output_type": "display_data",
          "data": {
            "text/html": [
              "\n",
              "\n",
              "\n",
              "\n",
              "\n",
              "\n",
              "  <div class=\"bk-root\" id=\"1b182cc2-9d99-42a1-984c-c51119fe3091\" data-root-id=\"273191\"></div>\n"
            ]
          },
          "metadata": {
            "tags": []
          }
        },
        {
          "output_type": "display_data",
          "data": {
            "application/javascript": [
              "(function(root) {\n",
              "  function embed_document(root) {\n",
              "    \n",
              "  var docs_json = {\"964498c0-444c-4ab5-ad96-54c823397819\":{\"roots\":{\"references\":[{\"attributes\":{\"below\":[{\"id\":\"273200\",\"type\":\"LinearAxis\"}],\"center\":[{\"id\":\"273204\",\"type\":\"Grid\"},{\"id\":\"273209\",\"type\":\"Grid\"}],\"left\":[{\"id\":\"273205\",\"type\":\"LinearAxis\"}],\"renderers\":[{\"id\":\"273244\",\"type\":\"GlyphRenderer\"}],\"title\":{\"id\":\"276675\",\"type\":\"Title\"},\"toolbar\":{\"id\":\"273225\",\"type\":\"Toolbar\"},\"x_range\":{\"id\":\"273192\",\"type\":\"DataRange1d\"},\"x_scale\":{\"id\":\"273196\",\"type\":\"LinearScale\"},\"y_range\":{\"id\":\"273194\",\"type\":\"DataRange1d\"},\"y_scale\":{\"id\":\"273198\",\"type\":\"LinearScale\"}},\"id\":\"273191\",\"subtype\":\"Figure\",\"type\":\"Plot\"},{\"attributes\":{\"data_source\":{\"id\":\"273241\",\"type\":\"ColumnDataSource\"},\"glyph\":{\"id\":\"273242\",\"type\":\"Circle\"},\"hover_glyph\":null,\"muted_glyph\":null,\"nonselection_glyph\":{\"id\":\"273243\",\"type\":\"Circle\"},\"selection_glyph\":null,\"view\":{\"id\":\"273245\",\"type\":\"CDSView\"}},\"id\":\"273244\",\"type\":\"GlyphRenderer\"},{\"attributes\":{\"fill_alpha\":{\"value\":0.1},\"fill_color\":{\"value\":\"#1f77b4\"},\"line_alpha\":{\"value\":0.1},\"line_color\":{\"value\":\"#1f77b4\"},\"radius\":{\"field\":\"radius\",\"units\":\"data\"},\"x\":{\"field\":\"x\"},\"y\":{\"field\":\"y\"}},\"id\":\"273243\",\"type\":\"Circle\"},{\"attributes\":{\"fill_alpha\":{\"value\":0.6},\"fill_color\":{\"field\":\"fill_color\"},\"line_color\":{\"value\":null},\"radius\":{\"field\":\"radius\",\"units\":\"data\"},\"x\":{\"field\":\"x\"},\"y\":{\"field\":\"y\"}},\"id\":\"273242\",\"type\":\"Circle\"},{\"attributes\":{\"fill_alpha\":{\"value\":0.5},\"fill_color\":{\"value\":\"lightgrey\"},\"level\":\"overlay\",\"line_alpha\":{\"value\":1.0},\"line_color\":{\"value\":\"black\"},\"line_dash\":[4,4],\"line_width\":{\"value\":2},\"xs_units\":\"screen\",\"ys_units\":\"screen\"},\"id\":\"276682\",\"type\":\"PolyAnnotation\"},{\"attributes\":{\"bottom_units\":\"screen\",\"fill_alpha\":{\"value\":0.5},\"fill_color\":{\"value\":\"lightgrey\"},\"left_units\":\"screen\",\"level\":\"overlay\",\"line_alpha\":{\"value\":1.0},\"line_color\":{\"value\":\"black\"},\"line_dash\":[4,4],\"line_width\":{\"value\":2},\"render_mode\":\"css\",\"right_units\":\"screen\",\"top_units\":\"screen\"},\"id\":\"276681\",\"type\":\"BoxAnnotation\"},{\"attributes\":{\"callback\":null,\"data\":{\"fill_color\":[\"#747596\",\"#3ed696\",\"#8d7596\",\"#dcae96\",\"#f24896\",\"#685696\",\"#34ad96\",\"#99c396\",\"#dfd296\",\"#4e9196\",\"#7e9296\",\"#4fb096\",\"#a17996\",\"#f64596\",\"#e5e596\",\"#592196\",\"#8e8096\",\"#a7ba96\",\"#392b96\",\"#f93796\",\"#ea9396\",\"#692c96\",\"#d64896\",\"#cc8c96\",\"#e7ac96\",\"#a46496\",\"#98c396\",\"#c73896\",\"#697b96\",\"#945896\",\"#839296\",\"#751f96\",\"#a92296\",\"#5d3896\",\"#3d6796\",\"#8aaa96\",\"#58d796\",\"#af7f96\",\"#dbdd96\",\"#4fda96\",\"#77b996\",\"#608296\",\"#756696\",\"#959596\",\"#ed6696\",\"#482f96\",\"#b2b796\",\"#85b296\",\"#9a2696\",\"#f27096\",\"#388b96\",\"#88e496\",\"#70c296\",\"#a75496\",\"#d5dd96\",\"#819a96\",\"#ae5596\",\"#532196\",\"#7fcc96\",\"#908596\",\"#d46c96\",\"#655196\",\"#7ec796\",\"#f18396\",\"#78b896\",\"#ec6396\",\"#b1c996\",\"#8c3f96\",\"#db2a96\",\"#a8b896\",\"#363a96\",\"#546996\",\"#aac996\",\"#df7a96\",\"#46b096\",\"#f29596\",\"#f2d896\",\"#557996\",\"#33a996\",\"#e4dd96\",\"#457a96\",\"#ce3896\",\"#b58596\",\"#da9b96\",\"#563d96\",\"#56da96\",\"#593196\",\"#a95596\",\"#f67a96\",\"#f4e396\",\"#808296\",\"#554796\",\"#458c96\",\"#888e96\",\"#c48d96\",\"#c2b496\",\"#6aa696\",\"#aead96\",\"#54be96\",\"#cf6096\",\"#e0c996\",\"#667496\",\"#bd2796\",\"#394d96\",\"#a6b896\",\"#d4cb96\",\"#6f3896\",\"#7c2f96\",\"#b12796\",\"#b5dc96\",\"#af6e96\",\"#f6a896\",\"#3d8396\",\"#725396\",\"#a7bb96\",\"#9f9896\",\"#efdd96\",\"#cb2c96\",\"#b76496\",\"#b1b596\",\"#bbb296\",\"#7d7296\",\"#3a2496\",\"#7f5696\",\"#79df96\",\"#943c96\",\"#dc6596\",\"#958396\",\"#949e96\",\"#749d96\",\"#d3e396\",\"#9c5996\",\"#ed4d96\",\"#83bb96\",\"#de7b96\",\"#5a5596\",\"#aaa296\",\"#ee9796\",\"#562096\",\"#3c2096\",\"#34d596\",\"#d82796\",\"#bf2496\",\"#836e96\",\"#f5a996\",\"#332d96\",\"#969a96\",\"#4f3c96\",\"#a69b96\",\"#464d96\",\"#e28b96\",\"#429996\",\"#6be296\",\"#b97796\",\"#cfa496\",\"#d96a96\",\"#4cb796\",\"#8ea196\",\"#5c2896\",\"#c8dd96\",\"#bf4d96\",\"#566796\",\"#c5af96\",\"#99b496\",\"#9add96\",\"#f3db96\",\"#cb5996\",\"#dbc396\",\"#973096\",\"#bb2b96\",\"#ba2196\",\"#b0c496\",\"#b76b96\",\"#46cc96\",\"#67b696\",\"#948096\",\"#f39996\",\"#395496\",\"#c14696\",\"#d85d96\",\"#554e96\",\"#d3b396\",\"#416096\",\"#652a96\",\"#b89196\",\"#ba9196\",\"#a2da96\",\"#e07496\",\"#553e96\",\"#bc4c96\",\"#a4ca96\",\"#5fa496\",\"#449396\",\"#b4b496\",\"#90c996\",\"#ee9796\",\"#d1a496\",\"#8dad96\",\"#3e7f96\",\"#eac996\",\"#706796\",\"#c98796\",\"#3a5096\",\"#ebc296\",\"#6b2c96\",\"#4d6c96\",\"#bea396\",\"#7bcb96\",\"#b19996\",\"#8dc596\",\"#a6de96\",\"#923196\",\"#d59496\",\"#589f96\",\"#ccdb96\",\"#74e196\",\"#c2b396\",\"#8a5096\",\"#e3a696\",\"#c02c96\",\"#d57096\",\"#ec2696\",\"#45cf96\",\"#e1a996\",\"#615e96\",\"#7a4596\",\"#419496\",\"#6ea896\",\"#dc7c96\",\"#412296\",\"#625696\",\"#444996\",\"#6a6496\",\"#ae9496\",\"#703c96\",\"#866c96\",\"#3c7c96\",\"#b3ca96\",\"#ce4f96\",\"#40e096\",\"#4bba96\",\"#bd3896\",\"#93da96\",\"#b9d196\",\"#af3f96\",\"#6d7696\",\"#49c196\",\"#d47696\",\"#b6b796\",\"#76de96\",\"#89db96\",\"#cc3896\",\"#774096\",\"#d92096\",\"#c93496\",\"#9daf96\",\"#da9f96\",\"#b1af96\",\"#a88996\",\"#c67596\",\"#f57496\",\"#4c7896\",\"#de3796\",\"#f95d96\",\"#41bc96\",\"#633396\",\"#da2996\",\"#47d896\",\"#9ca396\",\"#6ec296\",\"#8f2996\",\"#4e4d96\",\"#dd5196\",\"#a86696\",\"#cc7d96\",\"#c5db96\",\"#9c4596\",\"#5d3596\",\"#735c96\",\"#b46496\",\"#72a796\",\"#b27996\",\"#5dd996\",\"#534396\",\"#7b3496\",\"#bcba96\",\"#7b3896\",\"#d13196\",\"#912996\",\"#975496\",\"#ed4996\",\"#338796\",\"#9b8996\",\"#4b9c96\",\"#ae4696\",\"#eb4a96\",\"#839296\",\"#327b96\",\"#593396\",\"#929796\",\"#333f96\",\"#ea5696\",\"#832796\",\"#3d5196\",\"#9cb296\",\"#65a196\",\"#c1d596\",\"#492896\",\"#e3d296\",\"#a84c96\",\"#566396\",\"#893196\",\"#da7396\",\"#c55096\",\"#9dae96\",\"#b39496\",\"#5ecb96\",\"#dbc396\",\"#e6cf96\",\"#b67496\",\"#8ea496\",\"#ec2896\",\"#838096\",\"#b28f96\",\"#36ce96\",\"#42b696\",\"#8ec296\",\"#712596\",\"#e3a196\",\"#c1c896\",\"#9f7896\",\"#b66696\",\"#3d6196\",\"#833496\",\"#cc7296\",\"#935996\",\"#df9f96\",\"#805b96\",\"#57a096\",\"#87d996\",\"#76b796\",\"#405496\",\"#db3796\",\"#f6dc96\",\"#a77b96\",\"#757796\",\"#ad5e96\",\"#5c2a96\",\"#832996\",\"#3ad796\",\"#d67a96\",\"#843596\",\"#b22096\",\"#aa9796\",\"#d0d696\",\"#572496\",\"#4ad596\",\"#716496\",\"#e67196\",\"#e46e96\",\"#50d796\",\"#80bd96\",\"#8b6596\",\"#4b3396\",\"#f51e96\",\"#943a96\",\"#932396\",\"#e29696\",\"#50e096\",\"#798896\",\"#ba3496\",\"#746096\",\"#c05d96\",\"#47ba96\",\"#a42f96\",\"#5e9d96\",\"#e9e596\",\"#afe396\",\"#b35296\",\"#ae4f96\",\"#59c196\",\"#924996\",\"#bfbe96\",\"#8c4896\",\"#ae9996\",\"#f56396\",\"#a5b296\",\"#875396\",\"#53bf96\",\"#a26596\",\"#9ab396\",\"#414196\",\"#364296\",\"#ddc596\",\"#4a6496\",\"#72ac96\",\"#99a096\",\"#749796\",\"#675596\",\"#af9d96\",\"#98d196\",\"#d48a96\",\"#edaa96\",\"#353c96\",\"#974796\",\"#cf1f96\",\"#329f96\",\"#964296\",\"#ba5396\",\"#585196\",\"#e7c096\",\"#73b896\",\"#3d8196\",\"#3e9796\",\"#a2a096\",\"#e3a796\",\"#5f9596\",\"#793896\",\"#902796\",\"#682596\",\"#f84696\",\"#636396\",\"#764e96\",\"#7faf96\",\"#c2d196\",\"#b67396\",\"#8cdd96\",\"#e22796\",\"#8f7e96\",\"#895396\",\"#a94596\",\"#626796\",\"#7fb196\",\"#c1a196\",\"#92a996\",\"#3bd296\",\"#ba3896\",\"#37b696\",\"#f3af96\",\"#8f5596\",\"#d75396\",\"#4a2a96\",\"#94cb96\",\"#32d696\",\"#659096\",\"#47d296\",\"#aebe96\",\"#3b8396\",\"#919696\",\"#cca396\",\"#65d396\",\"#517296\",\"#63c296\",\"#329696\",\"#be3196\",\"#bd9e96\",\"#d6d796\",\"#f07f96\",\"#c33c96\",\"#a46b96\",\"#357c96\",\"#787296\",\"#739496\",\"#95a896\",\"#ce3a96\",\"#d46a96\",\"#8a2c96\",\"#514a96\",\"#838896\",\"#cd9196\",\"#62ac96\",\"#eba396\",\"#dc2696\",\"#d17896\",\"#ce8896\",\"#ad2596\",\"#99e096\",\"#f69d96\",\"#e2d596\",\"#bdb096\",\"#602496\",\"#6a8096\",\"#cfd196\",\"#46d696\",\"#e05896\",\"#c32b96\",\"#886796\",\"#4d2496\",\"#388796\",\"#7c4c96\",\"#8c2d96\",\"#983496\",\"#f1db96\",\"#7e8f96\",\"#745c96\",\"#c45296\",\"#a8a196\",\"#5b2f96\",\"#8c3596\",\"#99c296\",\"#35c996\",\"#da2196\",\"#55be96\",\"#47e196\",\"#e08296\",\"#f5e596\",\"#c1e596\",\"#c69296\",\"#3a2996\",\"#3e2d96\",\"#943e96\",\"#692f96\",\"#dd6096\",\"#71dc96\",\"#373e96\",\"#46d596\",\"#ae2996\",\"#648b96\",\"#ac6696\",\"#a19596\",\"#e32396\",\"#b88196\",\"#8a6c96\",\"#95b496\",\"#9d9d96\",\"#96d596\",\"#95d096\",\"#87e196\",\"#708796\",\"#461f96\",\"#77dd96\",\"#42a196\",\"#752d96\",\"#33c496\",\"#bb4096\",\"#44a696\",\"#d7e096\",\"#8cdd96\",\"#4fdb96\",\"#3e3996\",\"#cd2096\",\"#be7196\",\"#8bd396\",\"#9ecb96\",\"#b87e96\",\"#82be96\",\"#ba6896\",\"#853d96\",\"#57a896\",\"#ad9796\",\"#a6a896\",\"#c65e96\",\"#789196\",\"#363096\",\"#a43e96\",\"#5d3196\",\"#b14596\",\"#883a96\",\"#d4d896\",\"#b66c96\",\"#e74996\",\"#418d96\",\"#d0a696\",\"#b6cb96\",\"#df2d96\",\"#efa996\",\"#7de496\",\"#c0d296\",\"#df8996\",\"#f82996\",\"#969d96\",\"#f3be96\",\"#465996\",\"#712596\",\"#328696\",\"#9cb496\",\"#71e596\",\"#7f7796\",\"#869896\",\"#716a96\",\"#864796\",\"#4ebf96\",\"#ceb596\",\"#76b296\",\"#9b8a96\",\"#43c496\",\"#90e596\",\"#6f5696\",\"#4ad296\",\"#6fb796\",\"#9baf96\",\"#60da96\",\"#49cc96\",\"#776096\",\"#b4bb96\",\"#91cc96\",\"#349196\",\"#e49196\",\"#ca9b96\",\"#d0de96\",\"#a37396\",\"#f01e96\",\"#bc8b96\",\"#dbb296\",\"#6dae96\",\"#c6c996\",\"#f44d96\",\"#57c296\",\"#719496\",\"#5a2b96\",\"#a07f96\",\"#748896\",\"#3a7f96\",\"#f21f96\",\"#754196\",\"#903896\",\"#76e296\",\"#e5bc96\",\"#7a2396\",\"#38bd96\",\"#59b696\",\"#99d596\",\"#dc6296\",\"#992296\",\"#d4a596\",\"#3fd496\",\"#ec8596\",\"#b7db96\",\"#99d596\",\"#a0ba96\",\"#964596\",\"#5bd196\",\"#3c3096\",\"#64d296\",\"#43ae96\",\"#853296\",\"#3f8d96\",\"#ea5196\",\"#429296\",\"#c12196\",\"#ba5396\",\"#a28b96\",\"#e93f96\",\"#f53496\",\"#836b96\",\"#bb5496\",\"#97c596\",\"#c44196\",\"#333896\",\"#9e2496\",\"#795f96\",\"#c95696\",\"#e87396\",\"#73b796\",\"#d0d796\",\"#cda996\",\"#da5796\",\"#61de96\",\"#dee096\",\"#802196\",\"#84e596\",\"#c8a296\",\"#aea996\",\"#c0c296\",\"#b1aa96\",\"#e17796\",\"#f06796\",\"#8ba896\",\"#bf2c96\",\"#53a496\",\"#cd5096\",\"#a4ac96\",\"#ec6096\",\"#338f96\",\"#e19896\",\"#613696\",\"#b82596\",\"#593b96\",\"#656196\",\"#5a9796\",\"#e3a396\",\"#f5e196\",\"#c44296\",\"#b23296\",\"#4dc596\",\"#e3df96\",\"#bd5096\",\"#7dd996\",\"#d03196\",\"#855596\",\"#502296\",\"#785096\",\"#84b296\",\"#6f9f96\",\"#f22c96\",\"#e69196\",\"#f99c96\",\"#f6d796\",\"#929b96\",\"#b0e296\",\"#36c296\",\"#6f8f96\",\"#5eb796\",\"#d1bc96\",\"#df2096\",\"#cc3196\",\"#7f9b96\",\"#c54396\",\"#839996\",\"#a53d96\",\"#d87c96\",\"#e6a996\",\"#f98096\",\"#b9af96\",\"#6ae296\",\"#6ca996\",\"#6d6096\",\"#4f3e96\",\"#6b5f96\",\"#7e6096\",\"#43bf96\",\"#b89b96\",\"#677d96\",\"#ec9296\",\"#c31e96\",\"#e38e96\",\"#832496\",\"#7c4996\",\"#ee1f96\",\"#e26996\",\"#3c9696\",\"#f15996\",\"#da2296\",\"#359096\",\"#9d1e96\",\"#884596\",\"#f2d996\",\"#806196\",\"#bd3d96\",\"#6a3296\",\"#61e596\",\"#9a7c96\",\"#99b696\",\"#f6b696\",\"#b1c696\",\"#5eb996\",\"#88bc96\",\"#bc2996\",\"#833e96\",\"#c68396\",\"#93bb96\",\"#c2dd96\",\"#d37796\",\"#4ca896\",\"#e44d96\",\"#e7c796\",\"#5f6496\",\"#9fc596\",\"#9ccf96\",\"#cede96\",\"#4e5696\",\"#445496\",\"#8c7196\",\"#3ea196\",\"#e43196\",\"#d54c96\",\"#5cb396\",\"#c03896\",\"#bb3d96\",\"#ada596\",\"#543896\",\"#874196\",\"#a83996\",\"#4bdb96\",\"#81da96\",\"#409896\",\"#862496\",\"#397796\",\"#4cde96\",\"#378b96\",\"#c84f96\",\"#a4aa96\",\"#d43f96\",\"#70cd96\",\"#ba4e96\",\"#753096\",\"#895596\",\"#41dd96\",\"#dd8e96\",\"#81d896\",\"#aa5e96\",\"#bd5196\",\"#906896\",\"#b07196\",\"#923696\",\"#d14196\",\"#b7e396\",\"#df3296\",\"#4dc096\",\"#7e7796\",\"#46ad96\",\"#653296\",\"#e6c696\",\"#9e2896\",\"#779496\",\"#db2996\",\"#49e496\",\"#81a196\",\"#c42a96\",\"#4d2496\",\"#c69f96\",\"#6ba696\",\"#c0ae96\",\"#61ab96\",\"#516b96\",\"#ca4f96\",\"#aa4296\",\"#ccbc96\",\"#6bc996\",\"#7fcb96\",\"#3d3d96\",\"#deaa96\",\"#f49d96\",\"#3c8f96\",\"#c7ab96\",\"#b66696\",\"#6dbc96\",\"#c1bd96\",\"#aa3f96\",\"#e95096\",\"#6e5996\",\"#de5596\",\"#e13696\",\"#d2ab96\",\"#705296\",\"#d1d996\",\"#b4e496\",\"#909b96\",\"#a27d96\",\"#74c496\",\"#604596\",\"#beb096\",\"#da2b96\",\"#6b2a96\",\"#46c196\",\"#9a1f96\",\"#ceab96\",\"#bf5d96\",\"#5be396\",\"#cd4296\",\"#95cf96\",\"#d87e96\",\"#6be196\",\"#e9a096\",\"#9f9096\",\"#5eb696\",\"#a88396\",\"#836496\",\"#664896\",\"#a22696\",\"#5dd896\",\"#c92b96\",\"#d88796\",\"#a2b596\",\"#945b96\",\"#72cb96\",\"#d81e96\",\"#77d996\",\"#83c596\",\"#a97f96\",\"#bb9196\",\"#87b696\",\"#d09c96\",\"#c2d696\",\"#6c2b96\",\"#db4296\",\"#6da796\",\"#f13596\",\"#c89a96\",\"#434996\",\"#50b696\",\"#4d9496\",\"#3e8096\",\"#ccbc96\",\"#36b996\",\"#639696\",\"#6a5e96\",\"#c68b96\",\"#e5da96\",\"#f3ae96\",\"#6c6296\",\"#602796\",\"#db8396\",\"#b3a396\",\"#795896\",\"#bd9096\",\"#a57a96\",\"#802296\",\"#e2db96\",\"#7d2c96\",\"#e24a96\",\"#705796\",\"#bed296\",\"#62c696\",\"#38bd96\",\"#c8a896\",\"#9b7596\",\"#4ba696\",\"#353f96\",\"#62cb96\",\"#532c96\",\"#a99d96\",\"#af6996\",\"#a55b96\",\"#7ba096\",\"#8d9396\",\"#f54d96\",\"#492d96\",\"#792096\",\"#a2d896\",\"#3ebe96\",\"#992596\",\"#c26f96\",\"#985896\",\"#c5e096\",\"#9a2896\",\"#647396\",\"#dae296\",\"#c09e96\",\"#d53a96\",\"#9bde96\",\"#ee4996\",\"#526396\",\"#9d3196\",\"#c23796\",\"#e02996\",\"#46b496\",\"#636096\",\"#59b496\",\"#a04e96\",\"#8f8996\",\"#af7f96\",\"#e8e596\",\"#5ed996\",\"#aa3796\",\"#3e9a96\",\"#f67296\",\"#64d396\",\"#a8d196\",\"#7e3396\",\"#988b96\",\"#adc696\",\"#3eb196\",\"#c45b96\",\"#744d96\",\"#324696\",\"#c43096\",\"#456896\",\"#6b5796\",\"#dc7996\",\"#929896\",\"#bc5196\",\"#b15a96\",\"#696c96\",\"#d64b96\",\"#c28b96\",\"#4cd996\",\"#b9d896\",\"#8a4196\",\"#588b96\",\"#975c96\",\"#809696\",\"#4d7b96\",\"#734b96\",\"#e4bd96\",\"#742196\",\"#a98296\",\"#96c596\",\"#4d4896\",\"#a5c796\",\"#859196\",\"#f35696\",\"#c9ca96\",\"#6eae96\",\"#61af96\",\"#d39896\",\"#e9af96\",\"#492d96\",\"#733f96\",\"#7db996\",\"#85a796\",\"#69ce96\",\"#db9696\",\"#34aa96\",\"#4ed096\",\"#6bb896\",\"#4a6896\",\"#518d96\",\"#d36d96\",\"#53db96\",\"#327996\",\"#78a896\",\"#456b96\",\"#dcca96\",\"#ce3d96\",\"#3c9896\",\"#4e8a96\",\"#d46496\",\"#f68396\",\"#bcbb96\",\"#935296\",\"#985f96\",\"#767c96\",\"#ed7496\",\"#d17b96\",\"#328f96\",\"#465b96\",\"#744b96\",\"#c88c96\",\"#dd5d96\",\"#4c5f96\",\"#b73996\",\"#c98f96\",\"#725396\",\"#593096\",\"#dbd896\",\"#3adc96\",\"#3a6396\",\"#b95b96\",\"#3b2b96\",\"#91ca96\",\"#344a96\",\"#f93596\",\"#b3c096\",\"#559696\",\"#5c4e96\",\"#42a796\",\"#3f5196\",\"#998c96\",\"#4a6a96\",\"#6c2996\",\"#ec5d96\",\"#9b8e96\",\"#bca196\",\"#77ca96\",\"#6d4496\",\"#5dd396\",\"#505d96\",\"#dabf96\",\"#879596\",\"#afa096\",\"#d49e96\",\"#aa3f96\",\"#b77296\",\"#d6ce96\",\"#bd4996\",\"#cebb96\",\"#f0e596\",\"#376e96\",\"#7fcb96\",\"#379196\",\"#6e6796\",\"#e16196\",\"#6d7b96\",\"#757f96\",\"#ba3096\",\"#5cb696\",\"#b5df96\",\"#844796\",\"#f77a96\",\"#aacf96\",\"#4cd596\",\"#61b496\",\"#5db996\",\"#41d196\",\"#b69196\",\"#4b8796\",\"#ad2896\",\"#855796\",\"#7f6a96\",\"#613596\",\"#96a696\",\"#744296\",\"#3eb296\",\"#9c5596\",\"#e16396\",\"#ee8c96\",\"#f55296\",\"#559196\",\"#9ea496\",\"#c58296\",\"#8f3796\",\"#a28e96\",\"#a9bc96\",\"#d2d096\",\"#6cdd96\",\"#ed1e96\",\"#af6296\",\"#9e2f96\",\"#88c796\",\"#e98396\",\"#88af96\",\"#473b96\",\"#b3a096\",\"#ea6396\",\"#b76896\",\"#cfd096\",\"#78db96\",\"#82c096\",\"#8acc96\",\"#bd2396\",\"#e35d96\",\"#9d7296\",\"#626096\",\"#823c96\",\"#423496\",\"#ef3a96\",\"#68c396\",\"#3a9796\",\"#db3a96\",\"#e7a396\",\"#aa5a96\",\"#c08a96\",\"#7e6396\",\"#8ddc96\",\"#c77096\",\"#398496\",\"#795e96\",\"#aea396\",\"#b5a796\",\"#389196\",\"#589696\",\"#e59b96\",\"#d77796\",\"#406396\",\"#876a96\",\"#91ae96\",\"#e1d896\",\"#989b96\",\"#a5c196\",\"#ef2696\",\"#7e1f96\",\"#b67096\",\"#b14896\",\"#7a4996\",\"#dcae96\",\"#436a96\",\"#ac2096\",\"#bbb496\",\"#3c4096\",\"#cf9c96\",\"#539f96\",\"#b49e96\",\"#c27796\",\"#7b4496\",\"#dbcd96\",\"#49e096\",\"#647696\",\"#f66996\",\"#58db96\",\"#604a96\",\"#4e6896\",\"#504096\",\"#f63096\",\"#6cd296\",\"#3c8896\",\"#767096\",\"#97be96\",\"#bf7596\",\"#5a2496\",\"#b45096\",\"#f0cb96\",\"#c2be96\",\"#535796\",\"#67c396\",\"#51bf96\",\"#517996\",\"#433496\",\"#836296\",\"#cb2f96\",\"#3f9696\",\"#b8bb96\",\"#c5a796\",\"#4de396\",\"#c73e96\",\"#496296\",\"#d92d96\",\"#492b96\",\"#849c96\",\"#d55a96\",\"#ef5796\",\"#34a596\",\"#97dc96\",\"#aa7296\",\"#59b796\",\"#abe096\",\"#e86496\",\"#a0bf96\",\"#6a2196\",\"#b2a896\",\"#7fdf96\",\"#dcb396\",\"#325096\",\"#803396\",\"#976196\",\"#be9c96\",\"#cb8296\",\"#747a96\",\"#ee2696\",\"#c32596\",\"#354196\",\"#435096\",\"#d62996\",\"#8d9e96\",\"#892396\",\"#b46196\",\"#da5b96\",\"#a97b96\",\"#385496\",\"#f37296\",\"#415c96\",\"#6ed796\",\"#62a896\",\"#f52996\",\"#639f96\",\"#736e96\",\"#e6e496\",\"#b47996\",\"#aebf96\",\"#f54196\",\"#a1b496\",\"#d84096\",\"#c56996\",\"#a22b96\",\"#b2b696\",\"#3cbc96\",\"#63be96\",\"#db2796\",\"#7c7096\",\"#835896\",\"#3cc496\",\"#ab9396\",\"#359596\",\"#b63f96\",\"#49c796\",\"#419896\",\"#e29796\",\"#f1a096\",\"#74cb96\",\"#7ea396\",\"#72c496\",\"#a4c196\",\"#953396\",\"#88cc96\",\"#b24496\",\"#f95596\",\"#77bd96\",\"#858c96\",\"#bd5496\",\"#8bbc96\",\"#5a1f96\",\"#547896\",\"#f77796\",\"#939096\",\"#a38f96\",\"#a85e96\",\"#423696\",\"#4f4b96\",\"#348e96\",\"#c9b696\",\"#903996\",\"#45a796\",\"#bd7f96\",\"#424196\",\"#3a5296\",\"#682e96\",\"#9e7496\",\"#5da796\",\"#c85696\",\"#b97696\",\"#958c96\",\"#a32396\",\"#e9d896\",\"#994096\",\"#674096\",\"#32b696\",\"#78db96\",\"#d14b96\",\"#878696\",\"#af7d96\",\"#d76096\",\"#3c8b96\",\"#eeb396\",\"#c66896\",\"#ed8196\",\"#877696\",\"#d12796\",\"#3b6f96\",\"#5d5496\",\"#a8bf96\",\"#724796\",\"#53a496\",\"#3f7d96\",\"#804b96\",\"#89e296\",\"#d2ac96\",\"#854696\",\"#557b96\",\"#cc2c96\",\"#389b96\",\"#712596\",\"#ed7196\",\"#9c5496\",\"#948996\",\"#b97b96\",\"#f39096\",\"#c84596\",\"#3cdb96\",\"#8bae96\",\"#59b496\",\"#346d96\",\"#cf9c96\",\"#67c396\",\"#642396\",\"#ad4996\",\"#aabe96\",\"#a96596\",\"#895196\",\"#529696\",\"#69bc96\",\"#c15096\",\"#c19296\",\"#453196\",\"#615a96\",\"#d79096\",\"#767e96\",\"#c9e396\",\"#c92196\",\"#604296\",\"#3f9496\",\"#e44b96\",\"#3d3296\",\"#e52796\",\"#44dc96\",\"#a34196\",\"#5dae96\",\"#c19896\",\"#d34296\",\"#9b4396\",\"#d3bf96\",\"#b6a296\",\"#80ca96\",\"#3ab496\",\"#c0d596\",\"#643296\",\"#cd4996\",\"#523a96\",\"#e23196\",\"#433b96\",\"#e54f96\",\"#b16a96\",\"#eb9f96\",\"#d94296\",\"#dcbe96\",\"#f7bf96\",\"#7e2296\",\"#c58196\",\"#a8da96\",\"#b33596\",\"#a27896\",\"#aa7496\",\"#3e4b96\",\"#ab6a96\",\"#eca596\",\"#d8cb96\",\"#f43596\",\"#b47c96\",\"#9a6096\",\"#5fa596\",\"#cc2e96\",\"#a6a996\",\"#394596\",\"#6abc96\",\"#3d8996\",\"#653e96\",\"#825696\",\"#906096\",\"#9f7c96\",\"#70c196\",\"#c7cd96\",\"#3e2b96\",\"#386f96\",\"#d27496\",\"#46ae96\",\"#a4b796\",\"#35c596\",\"#58b696\",\"#d68596\",\"#8bb496\",\"#47e296\",\"#368896\",\"#e7d196\",\"#da3796\",\"#bad496\",\"#896b96\",\"#825596\",\"#dfb296\",\"#e2ae96\",\"#f43196\",\"#83b296\",\"#bcd596\",\"#963e96\",\"#d92a96\",\"#35aa96\",\"#5acc96\",\"#6ccb96\",\"#d35496\",\"#ea4d96\",\"#67aa96\",\"#ce9196\",\"#f72a96\",\"#9dd396\",\"#7f8796\",\"#634b96\",\"#973b96\",\"#e63296\",\"#b6ad96\",\"#d56a96\",\"#3e7596\",\"#dab796\",\"#ece196\",\"#81cd96\",\"#c3ac96\",\"#892f96\",\"#3e5996\",\"#96a496\",\"#e13f96\",\"#ac6596\",\"#403d96\",\"#e59796\",\"#844d96\",\"#c14e96\",\"#405496\",\"#f6d096\",\"#9bda96\",\"#368796\",\"#528196\",\"#c13a96\",\"#a0c196\",\"#753f96\",\"#a8b396\",\"#f48b96\",\"#c2a696\",\"#7bcd96\",\"#932b96\",\"#dd2996\",\"#ed3596\",\"#88b696\",\"#a07a96\",\"#a86b96\",\"#6b7596\",\"#df9996\",\"#ad6b96\",\"#ae9096\",\"#65b396\",\"#3a3596\",\"#4c7d96\",\"#396f96\",\"#92c596\",\"#50ca96\",\"#ef4696\",\"#f99596\",\"#c9c096\",\"#96a596\",\"#ae5d96\",\"#c3bf96\",\"#cd8b96\",\"#7d6296\",\"#86c196\",\"#cb3896\",\"#bd7796\",\"#e7bc96\",\"#d9be96\",\"#4e7896\",\"#e4ad96\",\"#c24596\",\"#988896\",\"#e02696\",\"#e72d96\",\"#f7da96\",\"#b62896\",\"#395196\",\"#c2a796\",\"#489a96\",\"#952396\",\"#d43796\",\"#698096\",\"#d6ba96\",\"#37ad96\",\"#9c7196\",\"#e66f96\",\"#aa5a96\",\"#f95d96\",\"#9ae596\",\"#e56f96\",\"#7e8f96\",\"#3aa496\",\"#a3ce96\",\"#3b7b96\",\"#386896\",\"#c52096\",\"#6b4496\",\"#7b5796\",\"#525e96\",\"#a97b96\",\"#c89f96\",\"#904596\",\"#473496\",\"#e8dc96\",\"#eeae96\",\"#8d8496\",\"#98b796\",\"#852096\",\"#c7bb96\",\"#a24f96\",\"#c07296\",\"#6b9a96\",\"#983f96\",\"#b54996\",\"#945b96\",\"#d26d96\",\"#455496\",\"#f23296\",\"#929c96\",\"#6bb196\",\"#d45b96\",\"#5e7e96\",\"#bb5b96\",\"#da1f96\",\"#604d96\",\"#885196\",\"#d26d96\",\"#508a96\",\"#3bd196\",\"#4f5996\",\"#a5a596\",\"#b67096\",\"#f18196\",\"#55e096\",\"#a62a96\",\"#422d96\",\"#ea8f96\",\"#e24096\",\"#bf9496\",\"#909896\",\"#d3a796\",\"#667f96\",\"#48ac96\",\"#ef4696\",\"#593b96\",\"#eed996\",\"#8e7b96\",\"#826496\",\"#5ac496\",\"#c42796\",\"#c03d96\",\"#32da96\",\"#c26d96\",\"#e26196\",\"#d65896\",\"#4c7596\",\"#e52796\",\"#ab2296\",\"#776b96\",\"#587e96\",\"#3c9c96\",\"#aaa996\",\"#6f8e96\",\"#e04496\",\"#71af96\",\"#f06b96\",\"#384d96\",\"#c44696\",\"#3f5c96\",\"#b4b196\",\"#d2be96\",\"#e62596\",\"#4f8196\",\"#decd96\",\"#88e396\",\"#717696\",\"#e0dd96\",\"#ab2f96\",\"#752196\",\"#75d996\",\"#666896\",\"#aaa796\",\"#931f96\",\"#792b96\",\"#5f6496\",\"#7b3996\",\"#783296\",\"#bf9a96\",\"#d3ba96\",\"#842596\",\"#77ca96\",\"#9b3e96\",\"#939b96\",\"#49a496\",\"#70c096\",\"#eb5d96\",\"#89c096\",\"#cc9196\",\"#b9e196\",\"#756496\",\"#3dba96\",\"#f8b196\",\"#ab7a96\",\"#592696\",\"#868696\",\"#dfa996\",\"#75cd96\",\"#cfc496\",\"#e07896\",\"#b9d496\",\"#a08496\",\"#573796\",\"#c5a596\",\"#577096\",\"#782396\",\"#83b096\",\"#c12296\",\"#ee5896\",\"#ce4f96\",\"#4a5996\",\"#d26096\",\"#de7296\",\"#cd9d96\",\"#c63d96\",\"#824296\",\"#8f4d96\",\"#9a6f96\",\"#cbc096\",\"#ed7996\",\"#9ab496\",\"#3bd996\",\"#e7df96\",\"#466496\",\"#5a5b96\",\"#e4da96\",\"#464696\",\"#d15b96\",\"#af6896\",\"#d63c96\",\"#bbb196\",\"#342796\",\"#8fdc96\",\"#995696\",\"#63ae96\",\"#bd5c96\",\"#8bbc96\",\"#823f96\",\"#68e596\",\"#5f9f96\",\"#c72196\",\"#a3a496\",\"#f58696\",\"#ec2c96\",\"#5f9696\",\"#7d3496\",\"#539f96\",\"#e42196\",\"#dc4196\",\"#a3e496\",\"#861f96\",\"#c32896\",\"#40c696\",\"#91d696\",\"#448496\",\"#795b96\",\"#8cb896\",\"#a9ca96\",\"#b24b96\",\"#495496\",\"#b0b296\",\"#b3a496\",\"#749096\",\"#6d2f96\",\"#bb7a96\",\"#35cb96\",\"#544496\",\"#bbd396\",\"#a98096\",\"#ce6a96\",\"#f23096\",\"#b98e96\",\"#946796\",\"#f33396\",\"#9dba96\",\"#eb9596\",\"#ecb396\",\"#6ec796\",\"#bc9896\",\"#908296\",\"#393796\",\"#bbd796\",\"#6f9096\",\"#8fb496\",\"#529896\",\"#a0c396\",\"#689596\",\"#6eba96\",\"#c57896\",\"#e09d96\",\"#3dd496\",\"#db2296\",\"#6f3e96\",\"#af9c96\",\"#6e6396\",\"#cdbc96\",\"#5d3e96\",\"#d34396\",\"#bcb496\",\"#883096\",\"#c03596\",\"#3bdb96\",\"#506496\",\"#72df96\",\"#a27896\",\"#416b96\",\"#344596\",\"#74e196\",\"#4dc196\",\"#f07196\",\"#dc6596\",\"#837596\",\"#554396\",\"#ae3396\",\"#7f9a96\",\"#eeba96\",\"#db7d96\",\"#da6d96\",\"#dc1e96\",\"#ed4e96\",\"#e65796\",\"#9a7596\",\"#d1bb96\",\"#b5c496\",\"#9f9496\",\"#f37896\",\"#b83a96\",\"#dd8396\",\"#44e296\",\"#ada296\",\"#5a3f96\",\"#bccd96\",\"#5d4b96\",\"#72ca96\",\"#6c6d96\",\"#4f8796\",\"#977196\",\"#6c6396\",\"#cb1f96\",\"#487396\",\"#aeac96\",\"#ed8e96\",\"#582396\",\"#52d296\",\"#892996\",\"#e6b196\",\"#c59496\",\"#44a596\",\"#3e9b96\",\"#762d96\",\"#bed796\",\"#76a696\",\"#698796\",\"#379196\",\"#cd5096\",\"#d57096\",\"#c32096\",\"#c1d796\",\"#c04d96\",\"#8b9e96\",\"#46b396\",\"#546d96\",\"#c92396\",\"#664296\",\"#32c396\",\"#cf2896\",\"#9d3796\",\"#7db296\",\"#7a5e96\",\"#a36696\",\"#382d96\",\"#f19d96\",\"#662396\",\"#d46f96\",\"#b8a196\",\"#593296\",\"#f14796\",\"#a05696\",\"#535596\",\"#3d3296\",\"#395c96\",\"#6ec896\",\"#5bbd96\",\"#965296\",\"#53b896\",\"#afa096\",\"#663f96\",\"#8f7496\",\"#e77296\",\"#f88c96\",\"#712496\",\"#61c096\",\"#584f96\",\"#5b3196\",\"#753096\",\"#934e96\",\"#c9b796\",\"#4c9096\",\"#7fba96\",\"#512a96\",\"#5cac96\",\"#f2ce96\",\"#972596\",\"#61cb96\",\"#ba8296\",\"#423e96\",\"#326c96\",\"#d82e96\",\"#363796\",\"#da8196\",\"#e0ba96\",\"#8a4f96\",\"#d79896\",\"#e29c96\",\"#f59896\",\"#6e9096\",\"#6bc096\",\"#b02296\",\"#98e496\",\"#4fbd96\",\"#5e3f96\",\"#dba596\",\"#dcd496\",\"#337296\",\"#cd9696\",\"#3fd096\",\"#5dab96\",\"#862496\",\"#5b4196\",\"#f42496\",\"#74e596\",\"#c9af96\",\"#ae9c96\",\"#e64996\",\"#d33796\",\"#9dd496\",\"#686596\",\"#a02c96\",\"#c07896\",\"#78b396\",\"#c7e496\",\"#538e96\",\"#7eae96\",\"#f05d96\",\"#d7c696\",\"#a18596\",\"#8c8996\",\"#b75196\",\"#dbd396\",\"#899096\",\"#5b8d96\",\"#3dcd96\",\"#8f9996\",\"#438696\",\"#5d8496\",\"#427a96\",\"#d4a796\",\"#c94996\",\"#a0d896\",\"#cad396\",\"#c6a796\",\"#9c8996\",\"#67cd96\",\"#d77e96\",\"#3e6c96\",\"#775c96\",\"#a4be96\",\"#ba7396\",\"#629796\",\"#67a096\",\"#516b96\",\"#a17f96\",\"#5fc096\",\"#aaaa96\",\"#33a996\",\"#765496\",\"#768496\",\"#9a2f96\",\"#3a4196\",\"#703796\",\"#c2ab96\",\"#d66396\",\"#e99d96\",\"#d07096\",\"#da6796\",\"#ee9296\",\"#792596\",\"#3d9b96\",\"#cae496\",\"#482996\",\"#354196\",\"#59dc96\",\"#666496\",\"#b35d96\",\"#e58496\",\"#dc4896\",\"#7da096\",\"#de4e96\",\"#701e96\",\"#e84d96\",\"#422196\",\"#3c7c96\",\"#ec5496\",\"#7f7c96\",\"#7c8f96\",\"#9b7096\",\"#f6ac96\",\"#e35696\",\"#f37e96\",\"#3d6d96\",\"#c0ba96\",\"#b68296\",\"#4d7696\",\"#458096\",\"#d66296\",\"#545096\",\"#387796\",\"#63be96\",\"#ed4d96\",\"#aa2596\",\"#ce1f96\",\"#d74c96\",\"#ce6196\",\"#636396\",\"#e15696\",\"#ecd896\",\"#58d996\",\"#688d96\",\"#de6496\",\"#7eaf96\",\"#67ba96\",\"#df7496\",\"#902d96\",\"#56e196\",\"#91c696\",\"#49b396\",\"#a29996\",\"#685896\",\"#806a96\",\"#67b396\",\"#c8e596\",\"#edc196\",\"#b5d096\",\"#948796\",\"#db9a96\",\"#c79496\",\"#acde96\",\"#a34b96\",\"#443296\",\"#59b896\",\"#cf9296\",\"#dd9796\",\"#8c2c96\",\"#91d296\",\"#759c96\",\"#714896\",\"#459d96\",\"#f54596\",\"#336d96\",\"#b98896\",\"#7f5b96\",\"#c4db96\",\"#482d96\",\"#e97496\",\"#9dce96\",\"#b69a96\",\"#683b96\",\"#f16a96\",\"#d92a96\",\"#f87d96\",\"#3ca196\",\"#c92796\",\"#682796\",\"#8f5c96\",\"#c32a96\",\"#7ba596\",\"#43d796\",\"#cada96\",\"#c35596\",\"#407396\",\"#81dd96\",\"#d63696\",\"#3b5696\",\"#aee296\",\"#d14496\",\"#a4a396\",\"#6cab96\",\"#73b796\",\"#b47196\",\"#d7a896\",\"#e79c96\",\"#ba3896\",\"#bce496\",\"#788596\",\"#d57e96\",\"#3ebc96\",\"#918d96\",\"#e53396\",\"#74df96\",\"#37af96\",\"#f48b96\",\"#912496\",\"#81b096\",\"#d95596\",\"#e53296\",\"#e66096\",\"#465796\",\"#9c3696\",\"#4b8e96\",\"#945996\",\"#b8d496\",\"#663d96\",\"#ec3596\",\"#c7d996\",\"#6fa796\",\"#8a7e96\",\"#ed5b96\",\"#953b96\",\"#d58096\",\"#8acf96\",\"#682e96\",\"#ea8996\",\"#3a9596\",\"#bc6396\",\"#c6a796\",\"#914796\",\"#9cd996\",\"#e03796\",\"#d4dc96\",\"#b3a296\",\"#a6bd96\",\"#6cb696\",\"#ade396\",\"#783996\",\"#6e5496\",\"#d2d596\",\"#6db896\",\"#7c2496\",\"#825696\",\"#bf3096\",\"#9f4996\",\"#a63196\",\"#b93796\",\"#b6e496\",\"#d02296\",\"#489896\",\"#38d696\",\"#69bf96\",\"#c42596\",\"#8e8496\",\"#738496\",\"#d44f96\",\"#4a8096\",\"#3d5396\",\"#aec596\",\"#555096\",\"#f04b96\",\"#a9cc96\",\"#8a9796\",\"#d75f96\",\"#365c96\",\"#363c96\",\"#a82e96\",\"#9da796\",\"#cd7a96\",\"#abcb96\",\"#50c596\",\"#c71e96\",\"#d6ba96\",\"#9c6b96\",\"#346f96\",\"#4fcb96\",\"#c36296\",\"#d19296\",\"#ceda96\",\"#e4b696\",\"#736496\",\"#819e96\",\"#948d96\",\"#b34396\",\"#e79d96\",\"#a57f96\",\"#8dd396\",\"#9e3296\",\"#c62396\",\"#94d996\",\"#d82c96\",\"#bdd196\",\"#95c296\",\"#6ac396\",\"#929e96\",\"#ecc696\",\"#b57396\",\"#d7e296\",\"#7cc196\",\"#406896\",\"#ecce96\",\"#d3cc96\",\"#e14a96\",\"#c62696\",\"#5a6f96\",\"#c95096\",\"#cd8996\",\"#d15496\",\"#cbba96\",\"#8c7d96\",\"#89a996\",\"#9ddd96\",\"#af2496\",\"#582796\",\"#745696\",\"#dfc396\",\"#324596\",\"#7cd896\",\"#516596\",\"#3b8e96\",\"#503196\",\"#63da96\",\"#eab296\",\"#843996\",\"#6b3696\",\"#ab7996\",\"#346e96\",\"#f12c96\",\"#804596\",\"#acb796\",\"#5d5a96\",\"#95aa96\",\"#b58696\",\"#eb5596\",\"#4fc296\",\"#ca3696\",\"#596796\",\"#f7c396\",\"#6f3096\",\"#7ecd96\",\"#598796\",\"#396796\",\"#76c796\",\"#5d9896\",\"#805596\",\"#b23896\",\"#ee9896\",\"#deab96\",\"#a4a296\",\"#3ed796\",\"#496496\",\"#349896\",\"#b2b896\",\"#ded096\",\"#3d2996\",\"#e36796\",\"#776796\",\"#7f2496\",\"#a0ba96\",\"#74df96\",\"#9faa96\",\"#c3ae96\",\"#497396\",\"#825496\",\"#c89796\",\"#d6a996\",\"#c14d96\",\"#735496\",\"#e48196\",\"#e5bf96\",\"#38ab96\",\"#51bc96\",\"#c44896\",\"#8f6a96\",\"#d62f96\",\"#378a96\",\"#8b7a96\",\"#8b9496\",\"#e54c96\",\"#6d8996\",\"#582596\",\"#f1d696\",\"#6d2b96\",\"#e77096\",\"#6fda96\",\"#e87496\",\"#b3e196\",\"#93c696\",\"#8e5c96\",\"#e26d96\",\"#869496\",\"#383796\",\"#773896\",\"#3a8a96\",\"#efd096\",\"#83c396\",\"#bcd196\",\"#394896\",\"#43c596\",\"#5c4e96\",\"#9ebb96\",\"#395496\",\"#a01e96\",\"#f68496\",\"#c38796\",\"#df2696\",\"#b54096\",\"#7cc896\",\"#e84196\",\"#566796\",\"#c97f96\",\"#70d596\",\"#d05196\",\"#cfac96\",\"#333e96\",\"#3fae96\",\"#e49696\",\"#cebb96\",\"#efa496\",\"#4de596\",\"#f6ba96\",\"#dd4596\",\"#bc3296\",\"#ce4196\",\"#5f6096\",\"#f06b96\",\"#ac7e96\",\"#658096\",\"#c07896\",\"#b64896\",\"#774796\",\"#9f8d96\",\"#efbc96\",\"#5c2196\",\"#f95096\",\"#e9e096\",\"#87bc96\",\"#f3bf96\",\"#e95696\",\"#387996\",\"#9fcb96\",\"#8c2a96\",\"#b14096\",\"#996196\",\"#50b996\",\"#6f2e96\",\"#614a96\",\"#814d96\",\"#9faf96\",\"#d93496\",\"#d09a96\",\"#333c96\",\"#5c7396\",\"#893896\",\"#422296\",\"#828796\",\"#d0ba96\",\"#8d5396\",\"#8c9896\",\"#81b396\",\"#9d5896\",\"#599696\",\"#817096\",\"#eb2996\",\"#9edf96\",\"#7c9e96\",\"#393396\",\"#ceb396\",\"#b5c296\",\"#95df96\",\"#ba3696\",\"#b57096\",\"#a8c896\",\"#d58696\",\"#bd9796\",\"#e8d796\",\"#714996\",\"#b18b96\",\"#ce6096\",\"#d7dd96\",\"#8fc796\",\"#a2b196\",\"#ae3996\",\"#c0d096\",\"#c4c796\",\"#5a3396\",\"#d25896\",\"#515a96\",\"#cd2d96\",\"#e12c96\",\"#d77096\",\"#66aa96\",\"#698396\",\"#6f5c96\",\"#ea2196\",\"#90c796\",\"#968596\",\"#a6a596\",\"#dda096\",\"#e8be96\",\"#ce4e96\",\"#debc96\",\"#ea2996\",\"#728b96\",\"#4f5c96\",\"#b93996\",\"#52e296\",\"#f6bd96\",\"#d7d396\",\"#5bb096\",\"#9d7096\",\"#489396\",\"#db9296\",\"#b4ad96\",\"#982296\",\"#48bd96\",\"#9f9f96\",\"#4f9a96\",\"#f76896\",\"#44c296\",\"#aca196\",\"#5f7e96\",\"#988596\",\"#ef3896\",\"#565796\",\"#4db096\",\"#d16196\",\"#e6a496\",\"#419296\",\"#f29a96\",\"#c3a496\",\"#596c96\",\"#e09a96\",\"#b13796\",\"#ba4d96\",\"#48d496\",\"#8c6996\",\"#338596\",\"#823996\",\"#4f6896\",\"#b2c396\",\"#75b996\",\"#a65096\",\"#e9ad96\",\"#7ce196\",\"#785196\",\"#7cce96\",\"#dfc996\",\"#585f96\",\"#a33496\",\"#cc5196\",\"#3b5f96\",\"#536696\",\"#a4a396\",\"#4f8696\",\"#d53896\",\"#716d96\",\"#58d196\",\"#ae8e96\",\"#5fca96\",\"#c1a396\",\"#e79796\",\"#6fd296\",\"#b79496\",\"#e47f96\",\"#7ac996\",\"#8fd796\",\"#7a4f96\",\"#b13196\",\"#f06d96\",\"#567496\",\"#62d896\",\"#bac796\",\"#b07d96\",\"#597296\",\"#604d96\",\"#d44c96\",\"#6d6296\",\"#4e8296\",\"#753196\",\"#a2bb96\",\"#dd5a96\",\"#42b896\",\"#952c96\",\"#5ae196\",\"#a2d896\",\"#8eb096\",\"#582596\",\"#4f5396\",\"#c35a96\",\"#9fb196\",\"#9c3296\",\"#a2d196\",\"#de8b96\",\"#d2c096\",\"#989396\",\"#b59796\",\"#ad6296\",\"#8aca96\",\"#ba5f96\",\"#897796\",\"#9da696\",\"#ccbd96\",\"#eb7b96\",\"#3f7196\",\"#667596\",\"#923796\",\"#ee4896\",\"#b13196\",\"#68be96\",\"#b14196\",\"#be9e96\",\"#a1b896\",\"#aca596\",\"#4f4f96\",\"#a78496\",\"#8b8d96\",\"#e09896\",\"#547496\",\"#b84c96\",\"#65de96\",\"#5f3796\",\"#9c2b96\",\"#b5b796\",\"#40c296\",\"#ed3f96\",\"#8cab96\",\"#69c496\",\"#afc896\",\"#663296\",\"#4aa096\",\"#ec2796\",\"#e12496\",\"#b5e096\",\"#667496\",\"#cd6a96\",\"#38ac96\",\"#8a2096\",\"#e86c96\",\"#858d96\",\"#d08796\",\"#7a9d96\",\"#69b696\",\"#649296\",\"#cd4596\",\"#bb2a96\",\"#a27796\",\"#eacc96\",\"#e76d96\",\"#595796\",\"#c1db96\",\"#68e596\",\"#682f96\",\"#602e96\",\"#a66d96\",\"#65c096\",\"#f94896\",\"#392b96\",\"#5b2e96\",\"#a89f96\",\"#918296\",\"#e98696\",\"#cd8e96\",\"#717d96\",\"#9fab96\",\"#deab96\",\"#4f6b96\",\"#539a96\",\"#b3da96\",\"#728196\",\"#716a96\",\"#60b396\",\"#6b9b96\",\"#da6a96\",\"#ad5b96\",\"#605296\",\"#7e3096\",\"#876596\",\"#e22a96\",\"#4e6e96\",\"#3b4496\",\"#bed396\",\"#a54196\",\"#d1d196\",\"#bad796\",\"#f0af96\",\"#c87996\",\"#964196\",\"#c15196\",\"#3dd096\",\"#c95a96\",\"#597696\",\"#3d5696\",\"#51cb96\",\"#9daf96\",\"#be4596\",\"#666f96\",\"#968296\",\"#4ddd96\",\"#e62c96\",\"#c8e296\",\"#d74c96\",\"#344b96\",\"#a05196\",\"#d6d896\",\"#5b3b96\",\"#5e9596\",\"#e0d296\",\"#6dce96\",\"#6a6996\",\"#dd9196\",\"#d42296\",\"#3c9b96\",\"#dca496\",\"#50d396\",\"#928396\",\"#c04096\",\"#46e296\",\"#8a8996\",\"#5a8196\",\"#d7d396\",\"#42db96\",\"#a9d096\",\"#9ac196\",\"#b09596\",\"#7f6396\",\"#542b96\",\"#65ab96\",\"#c54596\",\"#60cd96\",\"#783196\",\"#d3c596\",\"#66bd96\",\"#a4ab96\",\"#4fd796\",\"#ade596\",\"#f95c96\",\"#60b296\",\"#a03a96\",\"#9c6196\",\"#f48396\",\"#e46a96\",\"#caa896\",\"#b14c96\",\"#995396\",\"#4a7896\",\"#e46a96\",\"#e5ae96\",\"#c84e96\",\"#ba6996\",\"#824696\",\"#7d5b96\",\"#6c2896\",\"#452e96\",\"#909496\",\"#413596\",\"#71be96\",\"#958b96\",\"#de7096\",\"#799996\",\"#958396\",\"#6f7296\",\"#51e296\",\"#df4396\",\"#792496\",\"#36ae96\",\"#345896\",\"#bb3896\",\"#c64596\",\"#ce3296\",\"#ce3696\",\"#b28296\",\"#919d96\",\"#b05c96\",\"#939196\",\"#882496\",\"#49b796\",\"#634496\",\"#5d8496\",\"#a12496\",\"#747496\",\"#3b7a96\",\"#b75896\",\"#f66096\",\"#71d596\",\"#f1ad96\",\"#7d4496\",\"#ea4796\",\"#788d96\",\"#c02196\",\"#497596\",\"#8b4a96\",\"#70a796\",\"#5c5b96\",\"#6f4096\",\"#74c796\",\"#d15596\",\"#f75796\",\"#8c8d96\",\"#3c7c96\",\"#e06096\",\"#e51f96\",\"#832896\",\"#8c9596\",\"#87dd96\",\"#66ba96\",\"#f17196\",\"#d5a396\",\"#345f96\",\"#bcce96\",\"#613d96\",\"#7f3b96\",\"#a8a396\",\"#e89896\",\"#495796\",\"#c22096\",\"#882196\",\"#bdcc96\",\"#98b496\",\"#9b5b96\",\"#737d96\",\"#5ebf96\",\"#493196\",\"#599196\",\"#ba8396\",\"#be3696\",\"#77e096\",\"#7fc396\",\"#47c396\",\"#b25796\",\"#f5a896\",\"#d38296\",\"#b4b496\",\"#c86796\",\"#78df96\",\"#955796\",\"#b8c496\",\"#425b96\",\"#7e2a96\",\"#8cb696\",\"#80b596\",\"#722a96\",\"#a0b696\",\"#923796\",\"#aae196\",\"#9e8996\",\"#32e396\",\"#93bf96\",\"#63b296\",\"#f46396\",\"#ac4a96\",\"#c06f96\",\"#74a496\",\"#355c96\",\"#439c96\",\"#a36996\",\"#b04a96\",\"#793096\",\"#f85e96\",\"#e08e96\",\"#534796\",\"#b3b396\",\"#cb8196\",\"#877e96\",\"#4ad096\",\"#d5c796\",\"#3dc296\",\"#b4c796\",\"#4a7296\",\"#cbd496\",\"#96c896\",\"#6d8196\",\"#3d3796\",\"#5d5996\",\"#832496\",\"#856b96\",\"#7a7096\",\"#782196\",\"#4ad096\",\"#393f96\",\"#5c4096\",\"#cfaa96\",\"#6cbd96\",\"#d05496\",\"#884796\",\"#6c4096\",\"#b13996\",\"#7ecb96\",\"#ea9296\",\"#691e96\",\"#c76296\",\"#dc8196\",\"#419c96\",\"#e5e396\",\"#91c096\",\"#d68d96\",\"#57dc96\",\"#678996\",\"#649096\",\"#bec096\",\"#919796\",\"#615c96\",\"#d79296\",\"#643496\",\"#b26b96\",\"#e16296\",\"#e34596\",\"#3bd196\",\"#7c9d96\",\"#da9a96\",\"#742296\",\"#cd9296\",\"#d0b296\",\"#b17796\",\"#468796\",\"#614696\",\"#684396\",\"#353196\",\"#f05696\",\"#ee9c96\",\"#41d096\",\"#813b96\",\"#524d96\",\"#4fb896\",\"#63df96\",\"#b8e496\",\"#9c5896\",\"#f65596\",\"#c59196\",\"#f3c096\",\"#b29d96\",\"#476596\",\"#dc4996\",\"#9ebe96\",\"#c02a96\",\"#494696\",\"#625396\",\"#b05696\",\"#a87f96\",\"#f43896\",\"#71c396\",\"#832496\",\"#419896\",\"#a26d96\",\"#382096\",\"#816c96\",\"#bcc396\",\"#359a96\",\"#38c096\",\"#e87b96\",\"#cca796\",\"#e4c396\",\"#837c96\",\"#e5b696\",\"#d34296\",\"#b38996\",\"#80c396\",\"#73be96\",\"#afbb96\",\"#598196\",\"#e57096\",\"#44de96\",\"#3c3b96\",\"#39cb96\",\"#c9ce96\",\"#b46796\",\"#90cf96\",\"#e84f96\",\"#9b7996\",\"#8b5996\",\"#adb596\",\"#74a596\",\"#5f6396\",\"#e77096\",\"#858c96\",\"#698e96\",\"#3a7a96\",\"#aea296\",\"#b16096\",\"#b43696\",\"#f18a96\",\"#5edc96\",\"#3dc296\",\"#5a3396\",\"#949a96\",\"#a08296\",\"#403e96\",\"#f44196\",\"#c7b896\",\"#e8a996\",\"#55c896\",\"#8e4496\",\"#489e96\",\"#efe596\",\"#87bf96\",\"#e19e96\",\"#8fa496\",\"#96d796\",\"#d92996\",\"#c13596\",\"#a1b396\",\"#686196\",\"#dbb096\",\"#537796\",\"#a45a96\",\"#8b6b96\",\"#60df96\",\"#e1df96\",\"#985596\",\"#e8ab96\",\"#e28096\",\"#f16a96\",\"#e43296\",\"#3e5096\",\"#bd8296\",\"#445c96\",\"#4c3d96\",\"#6ce396\",\"#6c3896\",\"#c72e96\",\"#7c2796\",\"#f03896\",\"#516796\",\"#458b96\",\"#bd2396\",\"#cddb96\",\"#c79396\",\"#e19e96\",\"#967496\",\"#483996\",\"#ad4096\",\"#783496\",\"#f5a896\",\"#563096\",\"#442a96\",\"#41a196\",\"#cda996\",\"#7e7596\",\"#4a2096\",\"#bed396\",\"#d8b496\",\"#95ce96\",\"#f45d96\",\"#8f8796\",\"#399b96\",\"#5c4f96\",\"#c84f96\",\"#438c96\",\"#ed2296\",\"#a54796\",\"#3f2196\",\"#679a96\",\"#e67496\",\"#7c7996\",\"#35d996\",\"#cfdf96\",\"#c6de96\",\"#467a96\",\"#f1d696\",\"#909796\",\"#dba996\",\"#e39096\",\"#695496\",\"#665496\",\"#495196\",\"#439596\",\"#e5c896\",\"#acc196\",\"#6bdf96\",\"#c58296\",\"#5b9896\",\"#bcd396\",\"#3f4a96\",\"#8e6696\",\"#9be596\",\"#aba996\",\"#3a1f96\",\"#5fbc96\",\"#6dd696\",\"#dc6c96\",\"#d8cf96\",\"#9ae496\",\"#75e496\",\"#9a9896\",\"#747596\",\"#a99c96\",\"#874396\",\"#a75496\",\"#447596\",\"#aae496\",\"#ada296\",\"#bd8096\",\"#8cba96\",\"#76aa96\",\"#927396\",\"#f0c796\",\"#8b3196\",\"#f6c796\",\"#686996\",\"#eca996\",\"#ad4996\",\"#38a696\",\"#ae6a96\",\"#89c496\",\"#5b6696\",\"#855096\",\"#337896\",\"#88b296\",\"#f09396\",\"#6a6196\",\"#d49f96\",\"#f85096\",\"#772696\",\"#933d96\",\"#b1ae96\",\"#909196\",\"#3b2996\",\"#7ad396\",\"#a38c96\",\"#a52796\",\"#6fad96\",\"#422e96\",\"#ab6196\",\"#ac9396\",\"#6d3e96\",\"#d14b96\",\"#d5e296\",\"#f17396\",\"#785d96\",\"#e97696\",\"#99c996\",\"#c12c96\",\"#565096\",\"#ed4796\",\"#c2d396\",\"#542896\",\"#75c096\",\"#983496\",\"#e1c196\",\"#a82496\",\"#63e596\",\"#53b696\",\"#907496\",\"#da3396\",\"#88af96\",\"#bc8f96\",\"#762396\",\"#ebbe96\",\"#366196\",\"#af4796\",\"#eb1f96\",\"#8e3596\",\"#80ce96\",\"#b42396\",\"#bf2496\",\"#939196\",\"#47be96\",\"#3e3396\",\"#c3da96\",\"#86d896\",\"#da7896\",\"#88b796\",\"#5fb096\",\"#d8d696\",\"#79df96\",\"#b03196\",\"#9fb896\",\"#6d3c96\",\"#732996\",\"#f13296\",\"#e9da96\",\"#c4bb96\",\"#64dc96\",\"#968096\",\"#ee7696\",\"#346696\",\"#b26696\",\"#5d2c96\",\"#6b8f96\",\"#ae6996\",\"#6e3f96\",\"#6be596\",\"#dc1e96\",\"#5f7996\",\"#857696\",\"#e24f96\",\"#90c496\",\"#9a9a96\",\"#cd5a96\",\"#6dc096\",\"#de4596\",\"#c2b696\",\"#b55196\",\"#d37796\",\"#3e8796\",\"#4d8796\",\"#652696\",\"#9fa196\",\"#d7c696\",\"#cdae96\",\"#cce096\",\"#d2db96\",\"#818b96\",\"#7fdf96\",\"#a72096\",\"#848196\",\"#43b396\",\"#c34096\",\"#c5be96\",\"#ae9796\",\"#f1b696\",\"#8a6a96\",\"#b5a096\",\"#755a96\",\"#34d496\",\"#44dc96\",\"#91af96\",\"#dc4896\",\"#f7b096\",\"#f8d396\",\"#6d7596\",\"#3da396\",\"#84c296\",\"#eb8896\",\"#e1a196\",\"#a53296\",\"#688996\",\"#867f96\",\"#f0bb96\",\"#7b7096\",\"#959f96\",\"#4ea296\",\"#c82796\",\"#b5dd96\",\"#a44a96\",\"#d85596\",\"#ae7f96\",\"#c86996\",\"#dddf96\",\"#e0ab96\",\"#9a6796\",\"#d13d96\",\"#796796\",\"#558696\",\"#af6a96\",\"#627a96\",\"#3fe296\",\"#573896\",\"#6bca96\",\"#e85796\",\"#718a96\",\"#e0e596\",\"#ea5b96\",\"#c48b96\",\"#8ddd96\",\"#709896\",\"#41c296\",\"#d59596\",\"#5bab96\",\"#795996\",\"#ac8696\",\"#973196\",\"#75d996\",\"#384b96\",\"#edc896\",\"#d12396\",\"#757696\",\"#5c4b96\",\"#d8c796\",\"#947196\",\"#867d96\",\"#ae5b96\",\"#b1e396\",\"#c87196\",\"#dc5c96\",\"#a62196\",\"#8cc196\",\"#4b7696\",\"#e75496\",\"#7b7d96\",\"#e29996\",\"#6b7b96\",\"#c4a696\",\"#cbcc96\",\"#b93c96\",\"#734196\",\"#b5df96\",\"#856896\",\"#579096\",\"#c4df96\",\"#3c2496\",\"#877f96\",\"#e08696\",\"#607a96\",\"#716696\",\"#aa3a96\",\"#969596\",\"#562a96\",\"#676f96\",\"#4bc296\",\"#393e96\",\"#942c96\",\"#d89096\",\"#7b3f96\",\"#a83f96\",\"#93d996\",\"#b53c96\",\"#9a8a96\",\"#c35196\",\"#ce6c96\",\"#e5db96\",\"#325896\",\"#bfcb96\",\"#3b7f96\",\"#3fb796\",\"#b05f96\",\"#a04196\",\"#c44596\",\"#767a96\",\"#4aa996\",\"#9d9896\",\"#9f4496\",\"#c05396\",\"#acdc96\",\"#9ed996\",\"#d5ce96\",\"#895c96\",\"#538e96\",\"#bc6a96\",\"#cac996\",\"#dda896\",\"#462096\",\"#835e96\",\"#aa6a96\",\"#63a496\",\"#581f96\",\"#c87e96\",\"#649096\",\"#3d2f96\",\"#edc496\",\"#f2bf96\",\"#8f7396\",\"#f54596\",\"#b9aa96\",\"#786496\",\"#955096\",\"#d25896\",\"#f04796\",\"#4a3e96\",\"#c25596\",\"#df3596\",\"#ad8296\",\"#64b496\",\"#cd5796\",\"#c68f96\",\"#5bcf96\",\"#713a96\",\"#90cf96\",\"#935096\",\"#425b96\",\"#f09d96\",\"#cf9c96\",\"#f73996\",\"#5f9e96\",\"#678996\",\"#f4d096\",\"#7a5896\",\"#3dbf96\",\"#518896\",\"#e37a96\",\"#5eb496\",\"#ab4696\",\"#d3a996\",\"#d5ba96\",\"#e7b496\",\"#592e96\",\"#766696\",\"#a6a896\",\"#637c96\",\"#d77196\",\"#a8d096\",\"#4c5096\",\"#bd1f96\",\"#ef9a96\",\"#abbb96\",\"#3ed496\",\"#999096\",\"#84b496\",\"#a05196\",\"#cd7296\",\"#3ddd96\",\"#c66196\",\"#e4a796\",\"#7e7496\",\"#522096\",\"#7d6d96\",\"#613c96\",\"#b24696\",\"#a29096\",\"#ad6f96\",\"#b42f96\",\"#785e96\",\"#7e8a96\",\"#32e596\",\"#393a96\",\"#ace396\",\"#b8e196\",\"#be7c96\",\"#70bf96\",\"#788f96\",\"#afa996\",\"#3c8f96\",\"#dacc96\",\"#ec3f96\",\"#3db996\",\"#719696\",\"#f23a96\",\"#487e96\",\"#e96396\",\"#f3da96\",\"#355d96\",\"#4e6396\",\"#d2ac96\",\"#342396\",\"#e0e096\",\"#c36496\",\"#693896\",\"#8a8a96\",\"#4bcb96\",\"#4c8596\",\"#865896\",\"#763496\",\"#354396\",\"#879396\",\"#a7c196\",\"#825996\",\"#937d96\",\"#f98196\",\"#75ba96\",\"#3e2996\",\"#aed896\",\"#465d96\",\"#7c4c96\",\"#3b3596\",\"#d29496\",\"#37aa96\",\"#35b796\",\"#ab6f96\",\"#aec396\",\"#45d296\",\"#c79296\",\"#b28096\",\"#839396\",\"#6b3d96\",\"#bd7f96\",\"#cc5596\",\"#f4b796\",\"#a82c96\",\"#94ab96\",\"#6d5d96\",\"#b9c796\",\"#af3d96\",\"#833396\",\"#543e96\",\"#d5ab96\",\"#eddd96\",\"#48a696\",\"#ba4996\",\"#b5a296\",\"#8fc296\",\"#8cae96\",\"#9c5c96\",\"#dd1f96\",\"#497596\",\"#816e96\",\"#458d96\",\"#d4b196\",\"#efb096\",\"#5bc696\",\"#87a596\",\"#704596\",\"#3e9796\",\"#33a696\",\"#5b6596\",\"#ad4396\",\"#9cd096\",\"#c57096\",\"#aead96\",\"#652296\",\"#5abe96\",\"#9cc096\",\"#dd6896\",\"#f0af96\",\"#ac6c96\",\"#5b6b96\",\"#c3b596\",\"#763396\",\"#593a96\",\"#984396\",\"#bbad96\",\"#327596\",\"#da4096\",\"#b52096\",\"#92bd96\",\"#b39c96\",\"#698b96\",\"#713296\",\"#ba8096\",\"#3e4896\",\"#9d9d96\",\"#9e9b96\",\"#7a7196\",\"#e29296\",\"#588496\",\"#73a096\",\"#e92696\",\"#593296\",\"#99bb96\",\"#a8e396\",\"#84b696\",\"#984896\",\"#3ae096\",\"#82c096\",\"#818196\",\"#726a96\",\"#8f6096\",\"#b53c96\",\"#75b296\",\"#403a96\",\"#acc696\",\"#ed5f96\",\"#6edc96\",\"#a89e96\",\"#e3b096\",\"#565696\",\"#6d8396\",\"#393a96\",\"#67b396\",\"#441e96\",\"#5bd496\",\"#6d8796\",\"#40e496\",\"#b3df96\",\"#ec8d96\",\"#bca296\",\"#7e2f96\",\"#a7d996\",\"#449e96\",\"#c45896\",\"#b69096\",\"#b4b996\",\"#c1ab96\",\"#618f96\",\"#d4e096\",\"#559996\",\"#683196\",\"#8e4496\",\"#5fc896\",\"#cc9896\",\"#bebd96\",\"#cd4f96\",\"#b93596\",\"#928496\",\"#8cd896\",\"#3dc696\",\"#699b96\",\"#558f96\",\"#95ae96\",\"#5a3d96\",\"#f1ba96\",\"#9ecb96\",\"#e95e96\",\"#9fe496\",\"#c12a96\",\"#9a9c96\",\"#552b96\",\"#3ad696\",\"#ac6e96\",\"#7dd996\",\"#681e96\",\"#b19896\",\"#71cf96\",\"#e87796\",\"#51cb96\",\"#ec4396\",\"#62d396\",\"#ecbd96\",\"#63a896\",\"#a48b96\",\"#3a5e96\",\"#953096\",\"#9e7b96\",\"#a67096\",\"#e36b96\",\"#7cd096\",\"#347196\",\"#bb4296\",\"#dcbf96\",\"#f99096\",\"#659a96\",\"#42c696\",\"#a4e396\",\"#a7a596\",\"#d95f96\",\"#7a8d96\",\"#485896\",\"#782c96\",\"#62be96\",\"#7a5996\",\"#b78796\",\"#a1a796\",\"#813c96\",\"#996b96\",\"#50a096\",\"#a8a396\",\"#f96e96\",\"#595a96\",\"#d6d396\",\"#7db096\",\"#d29996\",\"#573096\",\"#752a96\",\"#56b496\",\"#322296\",\"#c33396\",\"#e09a96\",\"#90c896\",\"#b42696\",\"#aed896\",\"#94d996\",\"#a93f96\",\"#809696\",\"#c4d696\",\"#b3ad96\",\"#415596\",\"#5dc996\",\"#9c8c96\",\"#a91e96\",\"#4aa396\",\"#a37696\",\"#4fa196\",\"#8fd896\",\"#95cd96\",\"#f66196\",\"#342c96\",\"#589f96\",\"#c09196\",\"#75e196\",\"#53db96\",\"#c68396\",\"#903096\",\"#c0b496\",\"#32a896\",\"#4b4f96\",\"#eec996\",\"#f26596\",\"#b66996\",\"#bb2496\",\"#6dd796\",\"#f97196\",\"#479296\",\"#d73f96\",\"#cf9e96\",\"#bf2896\",\"#cfe596\",\"#60a796\",\"#ba2b96\",\"#ee3296\",\"#e94396\",\"#de2c96\",\"#e34496\",\"#bf2396\",\"#8c5396\",\"#eed296\",\"#77d896\",\"#773f96\",\"#8d9896\",\"#41d696\",\"#a8d396\",\"#f09596\",\"#f34896\",\"#dc6596\",\"#b3ae96\",\"#ee6796\",\"#406796\",\"#a7dd96\",\"#b37996\",\"#c96196\",\"#a62b96\",\"#65d296\",\"#c7c596\",\"#4c7f96\",\"#824396\",\"#d49896\",\"#3b1e96\",\"#855e96\",\"#f8b696\",\"#884a96\",\"#c8ce96\",\"#ea6696\",\"#5ae096\",\"#c24996\",\"#a1c596\",\"#bc4996\",\"#f14c96\",\"#e54c96\",\"#eca596\",\"#b23a96\",\"#d35696\",\"#a16596\",\"#57c696\",\"#9a5996\",\"#c82796\",\"#57e496\",\"#c19596\",\"#c3c396\",\"#6aac96\",\"#cbb896\",\"#b96896\",\"#338696\",\"#9e8b96\",\"#5f7996\",\"#4f2996\",\"#cb6296\",\"#4bdc96\",\"#b09896\",\"#f87896\",\"#c22596\",\"#793396\",\"#658f96\",\"#785896\",\"#998896\",\"#f6ba96\",\"#99be96\",\"#f48796\",\"#f0af96\",\"#b14096\",\"#334696\",\"#87cb96\",\"#359d96\",\"#605396\",\"#e6a196\",\"#52c696\",\"#7eac96\",\"#f79696\",\"#8d2a96\",\"#bb5796\",\"#c64896\",\"#eca296\",\"#dbc096\",\"#348596\",\"#639596\",\"#ef3996\",\"#b57496\",\"#714b96\",\"#948896\",\"#b04096\",\"#a62296\",\"#369a96\",\"#982596\",\"#bab796\",\"#8cc196\",\"#9d6696\",\"#57e396\",\"#3da496\",\"#f7b696\",\"#58d396\",\"#f08496\",\"#a38096\",\"#c34b96\",\"#f94496\",\"#f66296\",\"#d68c96\",\"#c64a96\",\"#5fa096\",\"#7d2296\",\"#6dcc96\",\"#93ca96\",\"#8f9696\",\"#3b3596\",\"#dd7096\",\"#d62c96\",\"#c9b496\",\"#a89a96\",\"#c04a96\",\"#5c6396\",\"#cd8896\",\"#4dde96\",\"#e85796\",\"#4b3c96\",\"#c3b896\",\"#b7b196\",\"#d37296\",\"#eaa596\",\"#422e96\",\"#932496\",\"#722d96\",\"#5d3296\",\"#455c96\",\"#437396\",\"#86d796\",\"#7fa996\",\"#5c8f96\",\"#ba4596\",\"#857f96\",\"#b7e496\",\"#69db96\",\"#3d9b96\",\"#8f3196\",\"#3d4596\",\"#5f6e96\",\"#92dd96\",\"#b7ad96\",\"#a9e496\",\"#e76d96\",\"#afc396\",\"#584696\",\"#f2c896\",\"#3cca96\",\"#5c9b96\",\"#9d2996\",\"#bce396\",\"#9ebd96\",\"#499796\",\"#c66696\",\"#698196\",\"#e5a496\",\"#e7e496\",\"#c14e96\",\"#b52496\",\"#b32e96\",\"#c3cf96\",\"#b3ab96\",\"#d3b196\",\"#823896\",\"#f56e96\",\"#85c796\",\"#dc9696\",\"#cba796\",\"#465a96\",\"#52e396\",\"#a4c396\",\"#f59696\",\"#802d96\",\"#86a996\",\"#9d8396\",\"#774f96\",\"#f1e096\",\"#8a4496\",\"#f18a96\",\"#97a696\",\"#c1ad96\",\"#365996\",\"#de4796\",\"#4f8596\",\"#71ae96\",\"#8e3796\",\"#c5ac96\",\"#f58c96\",\"#d89f96\",\"#83c196\",\"#67d796\",\"#f72d96\",\"#d17296\",\"#bc4d96\",\"#ddb596\",\"#553f96\",\"#b1a896\",\"#8aae96\",\"#7f5996\",\"#9d2c96\",\"#99b996\",\"#d7cc96\",\"#bd6096\",\"#e2a296\",\"#96c396\",\"#809d96\",\"#3ad096\",\"#dbdf96\",\"#719796\",\"#55b996\",\"#a29196\",\"#999496\",\"#328096\",\"#5f6096\",\"#e89396\",\"#af4996\",\"#e66e96\",\"#e39b96\",\"#8a2996\",\"#77ab96\",\"#3b6496\",\"#957d96\",\"#6a6a96\",\"#de3d96\",\"#863396\",\"#753796\",\"#e6d296\",\"#6d2d96\",\"#38af96\",\"#5a6e96\",\"#5dad96\",\"#ac8296\",\"#786096\",\"#3bcb96\",\"#3dc696\",\"#559e96\",\"#b75e96\",\"#ebe596\",\"#f58396\",\"#7e9b96\",\"#978a96\",\"#51a796\",\"#3eac96\",\"#6b2196\",\"#a73b96\",\"#be4296\",\"#58a696\",\"#98c996\",\"#34a496\",\"#805296\",\"#552696\",\"#94bb96\",\"#9a2c96\",\"#b58f96\",\"#c2a096\",\"#7bcc96\",\"#7a5896\",\"#93a896\",\"#afae96\",\"#a1ba96\",\"#346b96\",\"#5b5c96\",\"#7e8696\",\"#36e096\",\"#c66a96\",\"#72df96\",\"#b76b96\",\"#eb3c96\",\"#364c96\",\"#45af96\",\"#d64b96\",\"#f37196\",\"#9b6196\",\"#88bd96\",\"#573a96\",\"#64ae96\",\"#f45196\",\"#9fad96\",\"#b76796\",\"#947296\",\"#c32996\",\"#565096\",\"#6c2d96\",\"#cb9396\",\"#ae7196\",\"#b54396\",\"#d0c396\",\"#a8a496\",\"#c0ac96\",\"#6b3496\",\"#afa796\",\"#c8c096\",\"#51cc96\",\"#f4d296\",\"#8ca296\",\"#d7ac96\",\"#4da796\",\"#ef8596\",\"#bdd996\",\"#db2196\",\"#59c296\",\"#e24196\",\"#976996\",\"#a83a96\",\"#aa3896\",\"#edb996\",\"#3c2696\",\"#e99796\",\"#4da796\",\"#718896\",\"#974296\",\"#d9d096\",\"#5a3a96\",\"#be7e96\",\"#a6be96\",\"#7fcf96\",\"#ea5c96\",\"#dbda96\",\"#c3cc96\",\"#d6e096\",\"#ce6196\",\"#8f4496\",\"#e93796\",\"#adb896\",\"#c4c396\",\"#ee7d96\",\"#633396\",\"#c97f96\",\"#d39f96\",\"#3ae396\",\"#cb4996\",\"#e07296\",\"#b9d896\",\"#b0a196\",\"#e64d96\",\"#df7196\",\"#ccc096\",\"#8a6d96\",\"#796096\",\"#e7d196\",\"#39ab96\",\"#cf7396\",\"#a72596\",\"#f4c596\",\"#d27f96\",\"#5a2296\",\"#9cda96\",\"#a73b96\",\"#789096\",\"#3c7396\",\"#348996\",\"#ab7196\",\"#eb9796\",\"#33bf96\",\"#a5c096\",\"#727996\",\"#c45996\",\"#f8a696\",\"#a77e96\",\"#772b96\",\"#40b396\",\"#e39996\",\"#cc2396\",\"#ed1e96\",\"#9b7296\",\"#6ae396\",\"#ec4796\",\"#f89f96\",\"#a7bb96\",\"#83a696\",\"#dda696\",\"#c4e496\",\"#de5f96\",\"#3a7796\",\"#aa4096\",\"#904c96\",\"#af8b96\",\"#b3d296\",\"#6fdb96\",\"#ecc696\",\"#527696\",\"#4cc696\",\"#dc8296\",\"#d1ba96\",\"#946e96\",\"#f95a96\",\"#cb3096\",\"#e12996\",\"#f67596\",\"#4a9c96\",\"#9ec696\",\"#499296\",\"#e3a796\",\"#573c96\",\"#8db896\",\"#4da696\",\"#9fcd96\",\"#d83696\",\"#69a696\",\"#ab9196\",\"#9f5596\",\"#af3a96\",\"#89bd96\",\"#94c896\",\"#894596\",\"#b5e396\",\"#7b4996\",\"#eead96\",\"#de8796\",\"#a55196\",\"#c3dc96\",\"#cf1f96\",\"#6e6596\",\"#4fd496\",\"#b27796\",\"#922b96\",\"#c5cd96\",\"#4a6096\",\"#353896\",\"#e12496\",\"#742696\",\"#603996\",\"#4bcc96\",\"#a99196\",\"#d42d96\",\"#4aaa96\",\"#d35896\",\"#6dc396\",\"#7c6096\",\"#533596\",\"#dca196\",\"#c85d96\",\"#7d4e96\",\"#f88496\",\"#719a96\",\"#39cb96\",\"#4fb696\",\"#d0c996\",\"#9f6496\",\"#b0cd96\",\"#d75196\",\"#90b796\",\"#f59b96\",\"#b2a496\",\"#539896\",\"#e8d396\",\"#c55896\",\"#a7d496\",\"#f0c996\",\"#ba5a96\",\"#ef7496\",\"#877496\",\"#aba796\",\"#a4da96\",\"#65cc96\",\"#499596\",\"#cd7396\",\"#c4ba96\",\"#9d6196\",\"#eec596\",\"#65d096\",\"#de5496\",\"#c34b96\",\"#5a2596\",\"#51da96\",\"#8ada96\",\"#bd2896\",\"#602b96\",\"#356d96\",\"#98bd96\",\"#888c96\",\"#97db96\",\"#793c96\",\"#8d3296\",\"#53df96\",\"#d05296\",\"#549996\",\"#937b96\",\"#f38a96\",\"#8b3e96\",\"#ea6f96\",\"#38cf96\",\"#823896\",\"#4ee596\",\"#957296\",\"#b12996\",\"#3a8296\",\"#802696\",\"#3e3e96\",\"#97e596\",\"#6f6096\",\"#a12a96\",\"#92a396\",\"#757396\",\"#e3c896\",\"#475796\",\"#cac496\",\"#934796\",\"#ef6896\",\"#f57e96\",\"#c32a96\",\"#6a9e96\",\"#c0bd96\",\"#3e9396\",\"#6d7b96\",\"#aeda96\",\"#8d9d96\",\"#e04096\",\"#63d296\"],\"radius\":{\"__ndarray__\":\"Exneq5KR1j91d5HAXTzVPyTIJxXj9vQ/8rCCkQOm8j9Y1Dk4aIy7P7BCXj9rorY/m2wdIW0s9T8K2qFUYF/yP5ZDXMlwq+M/JFLJW4b35j+O8IYEYQnWP8I4MxUDnuY/1K80kKTCwD+EShgWCR3wP9KZ/W8nYOU/bhJsM3jm8j8adZG/GrnSPzaVtfZimN0/tLSZLEZruT+Yz8eY63/kPxTUGf1ndPE/4Jkq6bFJgD+benXbHD7kP/8zhga9xPA/NNBrILiD8D8MGiwZFPflPyCQ4U5hyOY/KNSEnpVE6D+oo5HWASWjP0+atiaTlOc/1J9yYOeQ7D+yGUS1xt7AP0Ir7iIf8eY/QtWerQ7B9T9gED3x3GGpP2BgZC0qJtU/cW6DUnnZ9T8MGLODBZfpP1OijgFfFOA/ptf84QxE8z8c4Izm1f32P9Dmc0ZSKps/nt400a2I9T+C1tHoZOzpP6xzBCLW5Mw/WEbdKSR27D+fPXBMcY/UP2R9L6TCEcw/xXvajJkn5T/OjiNha9PpPz6Hajd/sfI/4UVNlKTJ7z8fk7j0I3raPy6OEQ+nnvc/49pcdQNF9j/ThCqYhRDvP7gbCL3HavQ/3jBd7+Cq4z8Nfk2TXL7zP7LIWyKgkOU/zCbR+i3M9j/uoYKW8GfWPwjvHvGZlNI/koBzEX5U8j9GNbfwyKrRP5tCHy2PfvQ/5nKsb9hs4j/8JtHGfLHGP/BZvsxGP+Q/wUub/hdO1z9qldghTgnYP3YBzlkPcuk/o/R7JcYx8j9d5RaqdQ3QP+DwEsIvL4A/VmVkqb+iwD82DY78TVPzP39Cuu2Squk/SYeKl7w25z+AgeY/Wwr3P7zwqZGPVtM/44ED1qn/2j9UwzCqQWa0P2Y2dd9gsu8/3z/ca8Yv1T+YxcXJHr7XP2LYBHqdWvY/hv/nUF2d8z8llI9TKDTzPyZMshuBcu8/usQTtSHx9j8wx2Tdv0b0PwFASOVzCec/teuVc6j/8j/+S7yh68HPP2D0uCJo4aw/tO++cIGZuj9yOHzLc0XePwSI27Rxydo/Smv2HzX4xT8T2vKP5Zb3Pz7nwQnCzOs/EoNseFSG5D/EURD7q2jzP+aTemR79uw/Sjviewtt5j+arIdwI/jUP1pbE5n1Ru0/NKgehWLJ9j9u1k31sffcP8Ueoz9xSuo/1gInZE8q6D+py5zjiyfYP5TYsuhpa7M/oFWmuZHv6T8BK6IpKuT2P+CyZLCs39k/BPObi4jmwT+M9LJF05v3P6zhPmxiOuE/1grReF198D8sswuVEWfPPzOh2t5uEPE/AOns6v4etT9S9lu1OST2P/QZy20i3Ok/jV90rhyX0j8SaIKWTjHrPwUjq/JXfNQ/YX1DKbS99j9/A42IhvbdP76XJUz18fQ/OC4YnU2wwD/SLzFAD2XsP7g/Mqddfcc/bekt1ld16j9MnSEd2y+4P6SFj948V/I/6U/6SB3f8T83wSl78P/aPy4RPlGdPvc/hmdOQ4tM6T8KZUZJfEPEP6OawJddDfI/mAS3Mp8b5j/+O4MAOCPuP0Yh4I5m1Oc/FLAEv8Jy4T+L8XS3297xP6KspWLHVu8/+Agqemyh6z8czZgxa8XCPzEAw+8mlOU/LFpBqP2O5j8f4R1G9VvhPxcKR47yRtU/ygajWsfV6D+KkzoPN1PXP6A1q628feU/fEsMHfUw9T+6tNxh4qrsPzC1S5JGwcw/k1NAkLKf1D9E5ncEtunWPziW77XLEew/OcNyInW52z8YDviRZhLvPy2eA2+61PU/aMGvbyQPuj/G5kfg1wvnP6d1akezE98/CEDCXWuI6j9Y/2dgV8m5P6YK00Pwc/U/nqTOT9dg9T+qmt9j6pDrP627M0w2AfQ/ZNMKewBT4z+d3KfHOPPxPx6IL6qoM8A/oOpeKHyL8T+I7wk6IIn2P1BJXmEzK+o/L35/P3va5j9hVJ+NEfrtP+Aq0Q061as/1IRcMsYK5j9YOqPkGZvwPxZOSAxhU+Q/hlirOlKq8z8hsSGjqoLhP0UqXvuGKfQ/eB9XiGrmvz+O/NlCo+TFP/Y6j+88zfY/yNR5pykW8j/W21Cb1U7oP1qbF8ZLOdc/hL+vbB3A7D/6G6QqnO3YP6CJ4U0uupU/YHHY0uqs5j9M/dBlZYLgP0RFrff3meg/kPkVxqUixD8vB6W0zm7UP3blwv+279M/KRdg+VX21j8H5UrQTr33P6Z4C5pPx9s/lQAKlqe33D/a3hhoFgfYP5a+jNgyPeU/sFDes+vn5D8ChA81ZsnHP2Fx2aPdi/M//nrf4giT7D+UbSzu4PrjPx7aW6Egqe0/OnspQWO17j+leb1YmR3qP0X9WYqs/OQ/oKBsO6X+6z9JznV4D7XkP3LJNJNua+8/PAeHFuErsj/8/mp1D27gPxguodLUxPI/fst2CdA+8D8GY7VxqoHyP+zgNOfLf9k/2KpicqVM8j8aqWMQWbP1P7JH7/OPF/I/iEqA/V6RvD8TFYzJiYz2P68EnxOMl/E/Y/rJAyrE7z8evLL0d53UPxVysDxthfA/udfEeRkG5z89K5Ja/xHSP6yKWfOTJew/aZGWTKjJ4D/k5jh//fjzP1dT9fuilfI/DuKb8fFM9z8qjJ4UplvzP4SsUd24jeo/fvT+AX91zD/2D1y1vzLdP+mIuWINMvE/lkV4Y3RMwj+8w7194KHQP1Jy8Y3UQMY/YA1uieT28D9ZseoCxwbzP0gHIdIR7b4/HhvnWxrQ6D94vdq9UzHgPw6v63BaFPY/QJCvb+PC3j+q6lq8S2H1P7qpqMApGeM/hcMUNlRz3T//RauVy3bgP2Dv4syI4qw/tDhQ4xrR6j8IITOL2hjvP1BqR/TY1cU/6gQt7NpL3D86MbKnX7LcPzArnUWERNo/TlbgSoxO5z8LH39/99PRP5CbkGdJb+0/0jydWpOO9j/41d3F5hm7P9ijxxC+f+0/w+OYq1Bf0D8Ia0wJb0PqP16MKla0pOc/HX5qnoT38j/iLFoQeSv3P6Dptio7t50/DfXGbPMP7j8NlYU7yXDwPyPj2KZ8c9E/3nBfLWmF3T+MRNUELBC8P7K+QquYE/U/pOtZW+iI4z9ySZWcZRToPwF5Sx9OZe8/AePCIi/d9j989752fgPjPx4CKDUQ0fI/KuWoH4dr6T94KxBmg/iuP8gGR2wCr9o/2Dmdmvj2tD9qy3P72OnrP78+Ama5mdA/rAJmYJYytj+4GtOCksX1PwVO3o+XOdA/BCIHBzwd5T+wcqLE2BbwP5Yab4coTdk/ak8FAA7+4z/Ci3jgtm7nPzyQDBD8OfE/IHW2nIdt2T9/RmzcUgLoP/sTpnbPRvQ/JsAY+AiQ8T8yi80wnk7OP9iyot5w0b0/DPxBWamz6D/QXoRLmL2UP+WERy2dLdQ/I4eEnLZH7j8kGOwGK8X0P30l5Hk+LfA/SuEHqDwP8z9Av6a83KPcP1GIX0jYW+0/Osu37kM61T+9GaAH127xP1hlamPB3uc/wmoLls5Iyj/QMUzR5lLWP6YgbJuUtvU/02Z0L20A2z/1MdAV9LnhP5PZpF0KetU/6oIskJAV6z8+kN8/2K3hP6rjQmClJ+0/tt4DPL7u9D9YQPNnBS/kP9jVSotP1fA/ypEyYGz45j9QBbHO0tf0P3x8OhaHme0/vriZO8ti8T8KV86SuNvzP2oZIkDeRvI/KR+D5srl6z9errQsSWzKP8CDKBrEPIU/VGK85hoH8z93EKIlP+PoP6cZq0E83uM/Ncaqp7o13D9QLb3Nb9biPxptoeohq/c/giRDFSFn7D/E6fdSCJzEP1ocqgdS6OM/bvyH3dqc5T/sz6IKrgK5P3C8OEHSL/Y/6lyVIx9P8T9/ija+zwXaP0CuZb4DxOw/5S+Gck3z2j/ggT80QsTdP+8shpzUO+E/22frzVfL1j/w/Bjo67XtPxs5YscU+/Q/nCd5MMvTyj8FpZHTKA73P7Dcn3uXr58/lqgZ7cqJwT8DUAxdWi3ZPxTzQSCviuA/iT6Kl4Uf5D9e2zpOcSLsP74C2BSkd8U/blTIx99g4z9DF5tH8ePkP+a/J9anadQ/Zb9H/HSw1z88LVgV2ar3P2CGIetMkKo/Uw9SuyFv8z9pHL+9SybQP+53JQCX0/I/9tqSU79W9z/PxGz01ln3PxSx4mbuc7w/AH7p7Ie8SD/QqmQWIDuYP+Dnvp9xsI0/xmwF8e0y8T8zlEOT9irTP+HHcW8ftu4/0Qzr1v4y4D9I1lmNCHT1P2ZLJYfJBOg/SAmIWHso6D/fja6ASyDTP2iZHn+ugcg/7kU/nBiZxz/GX9BALcnoPwCEC0jWzpY/MH70UtKO9D/ev3jGR1/0P8x5+ibk6+E/oMcEBNjzxz/eD4NMofjuPw9DhyKlXfU/ksBR2bp+8z8gZTQAQeTRP/xifwPfDfU/ZPnY8sND5D/E61fHk/7oP7H8eQ80ifA/QqZ+yTDs6z/yXyMut5f2P3GV+HFluOA/h6ioa9sk3z8K/hus/bzKP7PJcc8Zgew/3DXTIfGw5z+oDo/Rk8PxPwZMshKH/8Y/QE7oERBXvD82lnhQz43mP/ED2QPfjOk/4ck682006z94KZOCed+/P7cJTWm6RNQ/MmkCOcnH9z8glu6ji1vIP3TMajC8qe0/IiiMrdLe8z8f+UEwa5PTPwxS38Y67tc/9RuP4NJ09T9/2+VpDsDdP5gVcRGkBs8/2JJjhVgU7T+GujbVRkHyP7MQgrri4+c/60Plx4HN4D8sgl6mrq70P/YsnGTH5/M/D1JCbopI8D/mIT/5vAjmPzzvbQZPM+Y/YQfSOBcn9D/KgNyP3hrMP0LwFg7RD+E/0WJVmaAx7T9EjdOl+bK3P88b4ePskew/JDQqemoDvT+Gsy/2DqXyPzx27fyonPY/W9faHxnq8T+jUkqRxI7dP19hScHDWt8/W5eYuzwd1D8I7JbPEGvkP8xTzjE+3PI/v159YAKT8z9mCub+NXjBP//PtNZaguw/NKMWqdM24T/ulqQWF2bIP5TDqmT5Y9o/a6j/MaO47D9oEQ1mfdLjP1WAocst8vc/hKJKlKny8T/sBiaS0Tm5P1syV8MRGN8/teGrIwJD9z8y9tYfAqDKP+fKUFRLD9U/O2/nPmG59z9zUepNmXj2P4ihyKZ2LeQ/3+p1vKui0j9MYfEkrivqP1DRX6d8X+Y/hOJ4fKXP5j/5XaPMaOvyPx/4z6i4Pus/IVuxcw/R9D9u4d4EAQ72P+AEyB99v6E/uBHFrChP3z9ERfJFXmjaPwrT1kGMIOM/JmGplo084j8BniSV4sTUP8jGJP3++ME/25xWjjuF8z+K2E9zxyTtP9QtDJW89bk/DKoBDrBZ6D9By6K4rxDaP2BYL5Ruh/E/2h+uCOfaxD965MiVmxrkP2TkNfkei9c/X+XPMOlJ9D9CxLPDzQvkP8arFvJFAfY/19kwbNoP4D+cmP4tjIX2P1J0x0+RsMM/xF5N4wi58j80Vd6XRCrsP5z1eXqaIeo/VVEN4y5Z9D/6QEXp5gPIP+ekapCxAdQ/pOyNX3Kb7D96RRtQ2KvyP6P2YETPmNk/hNSUfL6q7j8YK6ZeB8KiP1Nb1u16x/Q/sxMIVCww3T9M2shnoIrdP36qYGrHVPU/qOyibvps9D8shcyJYSP3P6/Imo7XxOM/FglVUPFs9T/q2pL9SSXlP5ftmgeApvU/zq9xgwvI7T+qnfMZJODjP7hGngbdW/U/U1kH5kLn8T+4VpSEct/xP6CNYZArK/I/X8vozzNo8j9mszVkH2f0P9YthRtSH+M/bm7Q0S7u2z/+i49h0O71P0NNwKmcitE/+W789ott2j8A6WvOKZ/uP4Qk/+UFFrE/VPtN7cI1xj/fYEkbJe3iP7yO22C24Os/LLWoQiDJ4T+AHV9Pz+bxP0aCturylN0/ADA156B5gT84jsoZDs3lP4tifYpuHvQ/JCVFdnEz7D81LCtCLL/oP3rZ1defPfI/PLx5VRBJ5z+DB6mKUELSPxo9Ow1sJOI/4NtB1iMFiD83LWSYUFLyP+QTKQBV9es/xDBS/eTpzz8i1cZlDLTeP2CsK/jrU9E/C98l/L1/7D8s4Ob2RhnqPxQIymtVGtc/1ClYNXGo2D8ruHkdyCLxP5E6epfhCtI/6LTUiAR14T98JczIbubJP7DF6wNSi+c/2CQ6Ibaj7D/ee6CDpiriP7jtV6r8L+E/BiMYcm5K8z//2eqp5oXmP2fkB0m8IfY/uMk8f+Vq7j/U5LswsnD1P+5aUr+hpOk/KA8HR0FT4T+QPvQ004qwPwwkL5z+4Pc/5ZpVR4+S9D8ufG3gPCjjP33ulouQ2vM/CEtkHUYK7T8elHLfIIblP7tqGgL8P9g/+zhOIu/l7D/QF0WejGPwP4rfROpsfeQ//Bz8vGpT5D+cpyTTqR/lP5Zx1/I9vsY/4RkpM5OO2j8sgB6L+rfVP+4yavhmRcg/WpnB1Zhq6D8XsKVK4hvkPywYw9qCK+c/51jcD66K6T/oXPHPAS7hP9uCtfokkdQ/KGCZFPOc7T/ErUV+J4C5PzI/9LCvYu4/34O0Co7G9T+nZrcamXzpP4+3jZHlKu0/xHMRsIZO7T+WzQGd8lT1P34zrzpXosw/SD31N2B67j/wpyEgOaTlP2TK2VBZ/u4/HEzoDszl8T9PwX55edz2Py5HkpaMouw/Un2CbApX7T8icJF3oyX1P0+VAETlPPE/l+5Uqubj9z//PHpMBLvzP8EKrZJsMPA/NPOUJ9eV8D9jiiVVc0TWP3pc0f5BWtE/pjE327+Q6j+0hqK6rmHlP4CZ5Sh7nsI/ouXJQWYe8T+q3PmbdP7wPwqRx10czvY/ACLR5z3M1D8MPwbhR9XyPzri8ySrEtM/rA1PmAqQ9D+INl/2DfvmP+HHerrTwPQ/yGvWwRto0z8D6IXpzDnyPxYb4eAJuew/D22kah2u8D8Gyh3igZTPP3KJ6jaeRvU/9io/BuEE4j8rUgcHFArXP37iDI+Ts/Y/TWFHYGr50j/XPkuQPDr2P85wycjF9/A/kzEBtSU99T8cMEZrnZjnP0A0vMlDA+A/1JyWZIeI6T9WhD2CAr72Pxvy9Wgjju4/EOla66NRpj8Y85O9N1zYP1qB2SkTA+s/1JkUb5nW4z/mLzkDHaDrP5AIojWqys0/VF8V97HHtz9tmivkn3rWP8gNkgwQ4eg/bJRYpfOR2z+7/3beVkTlP6CheqMcu8w/etMWGEKe4D/ZfgAWjObbP2ipVWRL8ro/m5Wezx/A8T+M0ItBWOvzP9SHj5RoreU/L9d7vovx8z8xfxQV7AP3P7cubaF5Yds/FGnV+Edktz9fJ7FPN+DuP/Cr1i6Afu0/znUP7e0M9D/sFFXEOEvZPxATVIRO3+0/Sl4OyV/t8j8u7AuKtP3wP1iWZbgwS+U/4zhz64gW3z8wUDJgndD0P9pvnkm6x+A/5VJnmXhT4z8pVT0wEPb3P0zeejpmz/A/L91+2cMJ9D8+S6GSWGLxP6fhXfyltvc/Ilm2G/Fzxz86QzXlh4PwP8LxM0O9o/c/wGldI3+R7D+agDmFb7TkP9lHFY6KwvI/RRsKC5xF2z87od+hlkj2P+fvn87CZfI/TazkB/0r1T+EV4zUM5zmP2C/ywBHY5g/58iqgiRl9T9f278DOsjaP5q6m3sIlsA/oBFEEDKp9j/2wCzm6W/qPyCNpnx+Pe8/a4CSg6Oi7j/Qchc5GQ7bP74X/UZBovM/Dtyv+T9X5z+ukva/FhriP8LFTVC6e+8/hK7yu5NO8T+W1+601RTmPxP+XWdpR/E/eIYNu7DA8T9Wjv5a57jnP7TcCWR/KvM/vEKMSqe98j+0zpv5uTn2P3U/6cWvXOc/0mo7afK86D8fGFV9O1jdP1GSNgiuRNs/8MB0t20g5j9YmhQpOqf0PwAyG6FuO88/ZKwiyhWMuD+8AeDSBXr2P77kUBIOIcY/ArFU3Ga98D/AorP733ftP/DVevavEuE/Vronzw9Q6D+s69q7CX7qP/7aV1HVhOs/kpf/c0DV9T/2wcqDOYvtP/Rb4H0usvI/rbsBuVHh8D8KT646jxrHPwZa8sdqp/U/zptATK7g7j8Wv/f6vUrRP9TMUnnKafU/cGfKLNG27z83JynTBSfoPzDUCZz1cPc/flRbw8Xvwz9mO69KOYPyPzE0crOyX/U/Sc1VC/Wt3j9aWVlcRPDDPxdphlFJkOM/PW5syFhh6j+WvK22lubzP5a6vkHVtPc/FksB7kdJ2z8Ch7BljG/hP8XW7PYJhOM/529qHvfB7j+WDijLWADxP4DD5yLNW+8/al3fd8fb9D96/XQEvIrgPyAA5LJtd7s/TOk/1sCI7z/y3OJDwdzlP1T/ef+JUtE/GOB0ju+hqz+8rAM7kOvuP7ExFZL9e/M/q7WOEyVI9T9WDywYjCLmPyDyhkW8GtE/Sv4bOzFO9D/mOqoeu4bWP44+t8QJ/PE/2FEpt9YorT9pnTtumyT2P4lvZ99rovE/nWwNCyxn0T8IrZUYjA3iPzpmQaJigu0/cudI0ZYf6T/o0ysyrmOzP9S+4ijtO+g/n/wQnJ1c9z8iIi4/6qv0P/zaOQ0Jmek/MES0dQ6wzj9W8EoZOsrdPzZYNITs4+s/WlKZUuvJ8T+YisBif4qmPy7m5uEQCNw/3B9cIWSm8T8kGmWi4tnIP2cAbfJsluc/dvzXOBh99j+azKsNPi/zP+C7+2Ros6c/ywuJnl4n8j+LHHSrTrXTP/VywIUYROk/7gbs4FiK9D/QVwtkfZCuP2GlTF2JcPY/ArDL900n1T/EgXLxeDfVP5IHJtIYS/I/FOvPnAk59j9Iaq6QHSbrP7FTDtYh+vM/U5CzW3Ds9D96rcYTQsHgPw5qA8Bho/U/9Ox3DXbivz+5mpX+fHX1PzoA5yuue/I/29wTNRuk6D+cj1YmJijnP3gQmtp+UeQ/jlcvKki85T/Dv0wuEArlP+0pe78YDts/Mz9XAPVf9T8m4nGB6zLtP/Y1895mRck/BoW5zP7k4D+hPzsp1InzPw5UgOmN8/M/uvr0C3SE9z/MG5zA/jrgP7V7I7oeWtg/mGUPM4vn3D/js1D4XA/tP7YvPEaTUts/cHmEKK5g9T96TaCSlubzP1LaapLH2+g/N5V8R0T+1z/W4jfyDwryP0zA7NMofbQ/XEagtkHA7D8xF9+q0sfxP1KdKt3NoOs/vjAPHivcyD9IGPY9vOPvP1QAVSrhzeQ/wGRJudnJyT/YJ23ZsvjyPweWFmSzwOM/gDCyusRU4z/gIr4PxjWeP1b7Wpr87NQ/u54tBTxX2T+8seo8YQLlP/cG/u9audE/YDoDyJhIoz921SVJP2b3P0Azed5sgaM/tJhPUUMwzT8Ebkx7n1f3P8xIetkUdfA/3hQdPLme4z/5HUw5gSLyP2pEh1ZRNuo/gLfm4EMj9D/k2wu4f9nzP+ELH+Dm7tk/GgJ+KFFn7z9vkpBoX3rcP4pQ367FlOo/O8Nn2i8P2j+oCzep89voP529cvmRxdo/lA5QksOV3j8ovYELD8jgP9VmoHqGluk/frYMqrfF6j+JRCvIsMTwPzEbJAlPYvE/QhpSX7ce6z8OHiIvHHn2P6yjstOlWuo/ETROfSvb1T9D628Iruz1PyTA6jMS1fQ/kes9YjyN9z+f1AIbNfLQP2DUAgI5GMg/+lfJ7YrIxT/qjetdd4XyP5NLv9YwV/c/xY+KdVmy7T+xerxXRWfQPyKu67QyF+4/HvludUkz9j9G9Cl3ur/WP6gKEJ6UtdU/ekbLIq6C6T+R7MDT6ZblPyzyoJWlpuE/z52AvhQA1T80HVuOkoXgP4hWewY3Duo/1jztBS2d9T82HHIw89bxPyDIu9dwavY/Htaw6a1s4D+AY5v6LB2YPxcsXXfqze0/rDu5SCKO9T/upVaAYwLzPxGmtVq2Dtk/Wt+xva6Jwj+hwgBQM93xP8UWXd3fuN0/bSRL1VO30j/cveFo5Wn2P0QtE6PekvY/oLhMHPQgrT9Yb2/A4y3kP1YFOPsisOk/eNKIs0RX7D8/UkFeopv3PzQkVL9H6PY/wH2gQimqpz9s2FGs6PbhPz5U2SUACeA/fxBe8bHe9T/V+XVUFW/0P4zbmTfVKd8/ZrSphegXxj8BilaLuBL3P3+Y/Vg2LfU/i1S3pjZn9j8W5/GsaFrfP4L1Himkfu4/Qs0Lz6E95D8r6UU3NfTqPxIjhJA119U/WyhhygWU8j+CxCgkGrfWPzLl7h2eGO0/HeT3KtNE9D8afUkp5rDZP5YohEfISvU/zwedBdVD8T/SCxtQiY/zP74i1AMxLfU/qnH7eG347T86FxIhm+rTP5SauktabvY/k5nkm6VH6j+rRJiU0vDZP9KieqOISvQ/a1hQNMoi4D/Ck6FOW6TnP4b8YfQ1vvI/qYRQMmGq2T9hftxJiwzhPxZERSusY9A/cj1ZiZ8s4D/6gpd6ShXiP7RK3qK6Qbc/JZ8cBCED5T9YAV9jeu66P6v1/gp2BPA/YZDSlFrt8D8A5t9BJaXCP1p4lhVZZ8g/lxuA6iP09z8oiD9kOJrsP+0s7lYys9I/R1UWo+ns8z8BahrNF1faP+CNJfWVGcM/xH35NQ7Vuj9IPTeaZ5vVP0BPEddJ6fc/TYYxkb4y4j/yiO6KxGTvP/MEe3Mx2ec/eOjYosgssz+STFPHsWr3P0D7ylR5E+A/Arsrymry6D8KYCCIu9jqP2oh2dvzheE/PySlXexi8D8PSL7sC9j3P87XtveWBM8/rkt5yXfs4j8IWLT76dDyP2CpkBIlPt0/ZMmsjdPu8j9Sgxc5EzzoP+IelucR7u4/HEmXW8cA9z8d5FBhPV3SPxGdAUJ5tPA//NdhxaEa9D/q30eT7lrBP5CnU7DWVuA/bu5K/fbH9j9CeV/D1jLVP0CEyjFVzH0/9oi5Nghy5T8FCsJW1ZbzP2K4imypUuQ/BnARysVH8j+41kwqJyLuP7pWa60JIu8//0OwXNvX1D+KrU6lAvfuP314i1jhJ9o/MC8sVtsz1T/NyzhwVBnhP1blT9cu4+E/yUSTxnYs6T9kJrw+tBriP2jDK+88L/A/eFmTY3Cd2j8l7jViX0fxPzgZTidCBOg/xEH6dIDFtz9eZ1LyFZ3iPxCBNKnpPs0//jaGjmD08T9NTzZKn6TxP6hFWts2pfM/mJaXAEpf9T9wJkbjKA3oP/Repo+CF/E/emvI6BLr5j86TWtqIB/YPwWJ/qT/xuM/3gybVh6B0T8ZMXR3vxbYP9iiJvyTK9g/JP1zSlKA9T++Q4NR6YzvP5B4fo3+VvM/kl7wmbb02D8YuO75hIb1P4zy+qj36tU/tGI+2Fuz8T85019mti7rP+giNiDaMMs/1Wrvp3Zl9j8392K6/QDsPwAIuTL0DGQ/SIBjfZQD9D9sPdtxIPXwPyJw8W6vjcU/ruuvMqv15T84DwvK8sq8PzZS1CmRUvA/ernvXYLS7j+C2PdsM1PaP6ZNzZzUB+c/LvaufO028j/2BUrdWp7vP8ArhIPFbvU/1ftX5Qbp5j/gDCIWH2W9P3Tji4OZNOg/ju7r3teu8D9z+qDhdvDtPxrmXz933+c/QOKBKMHH3z9yvjzRJ/TzPytSBp2y/ew/H4G2qjXS4T9vm8cHr6jxPx6wEn7LDuA/maoD1Zzu3j/WEtOUN6n3P9unFAMxKfc/VaWgJBv85j9DvJfIObv1P7ZkBbUNnPM/hPx+/ddv5T/8yPXj6ATDP5iM42taAKA/zaGSBZBy0T9+Tiwets/wPyrUCvw0ft0/wrskNwdW5z9r5vwlplf1P2yz9+meHNA/2CaVmpvMyj+vHLkKjfTwP+V90eeaxdA/vG4uIMz79z9fyIeNUebYP/grrQnieac/lK2892YB9T9+cItrEWnnP/Qaw+pI8es/WkzT9bBw7z/8NswgWm31P+itVcyv8+0/XhthtpOr9j/ULbGdaODaP/LTTPqEe98/HCQ7dx2n5z+8d5aHkFrxP9UwPTJ+UvU/HIinHCv18T+IpPFGS+XqP1zuVM9ZBOE/lC5SC+cuyD86L5kWUBfqP4eWhzjf7/E/cJRle0hm1z/Ko3l7HODkPzQgETwxy9A/pqXRQTXs6D/qJQPar430P32/KYDE39E/KllD11DW4j9APtqGtzHiP+gLvxbHFPI/GMrZdkxx9z+i9WA1LUbnPxisUU1JHPI/CqM1PYlz4j9k9+23r7DmPyr2XeuuJvQ/A9JQCavl4j+4HfBvzgzvP8A70N4GRsE/pBrJP5u39D8IIRIUrIPuP4NBUimvftA/HmTzasdr5j8Y5pTS1t/xPwzwupOri+4/aLS349Lx4j9CEwKPQcXYPxqfWQ1JRPE/mAxCaCuKvz++wBkzCeH1PwyL/CX5P/U/6oERcdPx6D/4ZshlrRLqPz/qNrSlbNg/jGoQNdse4z/KV5R64rvuP+9hO/Ire/I/mMeekMoS9z+1bKVaEaHTP5RQxMVxK+0/aZ2LKY7b9D+fxvPBEuHhP0juOJgUtc8/aI6bWihH9j9VAKVEk9XePzHXfccti+o/VhFKaB7V5D+ol0eVQE7lP9wwvptrnvM/tJ4myu3O2j/kKMBmWObzP/LJayFwguM/NxgTQZa14z+4j4qNCZ70P9zySQeUdOA/AtOEil1K6j9VYqaBGaXjPyFzc3BT9PQ/mi9c4rnD9D9AD40xr17wP2WNCZecR/A/Po1WX0uF7D8pqwdsr7n1P5zqbF1OfbY/7n7yYZYW4D8h08HZsuXZP909GZfv6uo/uMNBSzjU5j9E4os6sw31P0rmD0PIpfU/0r55R6+kxz/uCFlcB5XwPzbsRLFixuQ/z96lwXMC8T9IcHfydGznPzx0B5nK0PQ/4XLZyvoD3j+uaZyfJHfiP0tT0AvZNtg/lRRPKlK50z9us6eGMEHqPybMSCy5nu4/DO+uaddp6D8AEh93YlLvP/D7KYfCKa8/7BtdKdLfsz+6aq6/Ju3gPztVNgVjddM/qw6OpFW/7z9WCrB311zAP02yqVfdvuo/g+3aQBKy0j9YnKfUAh32P1BwwAw1FLo/ppuYccYe4T8yE4Lxy7b1P2Qt9VW3ves/Dl0s2xU30D8AWd44/v/CP5qfwQBTRdQ/hNN+AroF2T+ZzMh3X5j3P/p5UCJHEu0/kM0DsX784j/j6y/GvITwP/rr+plPf+A/IH4ABkhD8z92/v/8h731P0qK4vGiTfc/vh+HBJZ16D9i+P9uJEj0P/jAq/cSnus/wGAinahY7D9w+luw9X+jP6K0PeCcDO4/MzCHM+LW8z8Oyt/m8i/RP2LG6A2RhMY/KjprEFqR6j+m+yy9MhrxPwCzqdbbS20/bsws4oec1j8AiRHje9+6P9TsbbSqjr8/X+NEBZaS6j8FmMimdmHbP4ZFrhkhQuc/+4hMS68a8D8IETJQqF3cP+vFSQ4J2eQ/MoySx0et9T9+BvK0KojSP6bBC6s5Dc8/XocBMgBo5D+cbOt6A0zyP0/UUMT5se4/L+7p39tO9T9w097G72j2P+DU0PiWgqw/d9IJTsWa2T+uGj2CHBHzPxjCRhExx+c/Gkfc4if+9D/QYCs0h+udP69wa7eRJPM/IWXs2P/c9z91mzp2LJzYP7i8i2oVgvA/PvCSDxjd9j8YIyftG/CvPxACuuO+Xs0/Wa7QC+Lb0j/glmJPYROxP93tzvw+uN0/YkoHpbvK0T9ZAod8O53TPxBZXmzbdec/aaxQCclY7T81igm+f2D0P6XNhxQIheg/8+JRqBOj8T93U16zcATuPzdZWMwLwdo/o7LtEYu29z89eQPkYh71P+g43COA5/U/IPkDDjO4oz84z/fuPb/oP2+NyiFUJdY/e2X6jPJ/7z/88KX8p3jPP3U/+OuOcuQ/AJyQeqMuPT90IapK9I7jP+kv1SwTi+M/PBje2Kts5T8ZYQ1FMRL0P32VyR3vFNQ/QKtXkBve6T/KVIWi6WjyP174RAw/S+I/0N1TChXB8D86D3ormV7mP67c1nUDBt8/9fTseRqW9j/cEjsKPTzxPy1ao1ZaXdI/uikSwPzI6j8klZounV3xP85Ye+b9Deo/E/rtN5DF8z9wyfYlsPT0P6nq/FUuidA/dcsP20T26j980iix+3fyP1bH5YrR2Ns/Ti9hqoJj7j+mLA623NHwP+EgYYHmI+o/0yL1SP2u9D8/BzYvuubjP0zUXFWAsts/IRRO80QY7T/r4xvyKK7xPyx0PqNca9M/eukTsKkJ4z9uEUs/boTrP1879P2N+NA/a6NLyidX5D/wCNDEFm2uP+cF22ht3NU/voo4PnT+7T/qiygi5VL3P1hJz13S5fM/rPyOBBb88z+jb8HssATxP4OMv1W7rfQ/Q11rf//N9j/J9EWdD4zzP0rj3LruS/M/eWOEL/q05D8HpbHo8yfxP4QdWFM7Vck/YTStMc2l8z+XQypVi7LxP5TsUre0yu4/40UXCyK+9T8TaJeoWEDiP6CGHBKBKuk//DK9S7nm8z+AlnzYBqr0P4xsvKpCjvM//iNaFiTZyz+Qv3zmvLjMP3RwWGgDN70/OJeYfbeK1z92ME23K3rVP1/JC4xiUfE/KNpa/Imd8j/49ukCwurlP2C8QPlQZ/M/Az7aQr4p5z/BODyBaVzWP1qV8FEmQuk/KIS9RXLN9T/C10PVxTfqP7b+ILHuyug/Ymr7y7E91j/95vNgCYHYPyKMcC48I8Q/o1zSrZYZ8D9M9GPDQAXjPwoGcDH5mu8/OiSUzfvq3D+L9TmbrFDfP/XUe/YxQ+U/KxLZ3ig13z/IfvSqTTTfP/zE7PIO5eo/+pOKSBfF9z/0r0RMpYD1P7qTfZv+AM4/ZFMQenyP6T/8/HPdy/S1P4YktTVJrcw/+R3PY98a9D/DQ3wfAYLpPwr7NajC5PI/0BV/hPo17D/HFUxP347ZPxGojm16e/Y/ORPy7ENH9T/k3K+6VKL0P3Qq1bWkBOE/9Ot6hOQw6j+KCvmLEWT0P/SpThWAR8g/vbkIA+OC7T9egfG8FKzjP4yz//af/8o/BPKGhgqK6z9seckR03PpP1IThVq94vI/TKCMag7d3j8/5CBr+97iP2Ol7IamlNI/ILrhCbwS5D/iy2iCgVf1P6hKMzFBS/M/bm1icccf6D+/HnfJGq7wP4VDMAuUcfQ/JNSbtIdE1T/siFFgTWvyP2VUSLm6ku4/63SLxnhF0T84+rEXUDqjPyhWLMpsDec/wyXfETsy8T+QfzC4QVmlP8TUqJF0JOY/1v3gI2HE7z9fsShBgYHQPxa205+gQOc/XGjdCR1X9T81hPYVs9L3Py6LxjThifA//IPHZG1Z4D+3eTswqK7yPwyWsXXLw8k/rCn3XjLK6D94Pet8grXwPxyhY5hYk/c/j4/iokyL8D84XDCC+EKqPw33WktbrfI/EO+rr77Huz/QTMdbwifuP+jIAz2wOOU/OAnBPFMrqz/WHPbmyGX0PxbhbByF+eA/n1nTHcgz1D+6dei+Z1fSP3xnH4MklvI/okXBTjhxwz/Y7oaoheb2PwBW0Bqzxpo/4MMgE2tc4z/KeEpEP0/rP7yhTEVtrt4/GNr5tUSu9D8MHbpaAnXEP9awD2ZB5+I/JHmMyjQftT8wr+ZfY/rSP+k3+X2EFPM/IOxgWs729D8ovbfJG2naP/Lxd2PVAvM/eoM7VdR3zD/09U1+oMHyPxdIwSmapuQ/ygs7aiAY6D85zKbLRqz3P3ymdvTtrPQ/ALS2xTTRNz8YM1nZql70P3YQuXUavfE/R8L00X6l4T8A6DWtb/shP5z8sbkngOQ/zmz0ILtf9D9jatiPjhr1P7au9K9Ebsw/XbYDqctL4z8fTae3eSHlP8h5YELGVeQ/rLvFmL0byD+uRirlnl/0P6pNHqWcTPU/8k2EtFxe4z9eryhksLTeP3kNUneNafU/0HyQxRSL6T8xTXe4BrP2Pw40R8wDW+g/JIqc5Kkc9z8JNkPtrWLQP+J+LqG/uME/kn4Q06OS8D/C+aHOHjTkPyAYcRTnzvE/grPAQGBk8z+OJjknyNfaP77L3nbiCOo/fj7pi5Hq8j+Vcfzm/Mv3P9WWV+g9FdA/gGHcxhaOmz+xW2iD4JT0P4Ln5MknvfI/hLuGz1uk8z/ta3Aj+sHhPxQN8PjcL7A/gKOstrjeaj9l4ydBpqj0P2R0ckcwP/c/JxuVRC//9D92U2XPBZ3AP6osBLZN7MY/VGKT5oCO4j+mNP/dhzPoPz4f7MaE4/A/xg3gG9Xs6j+0XsUqWq/3P70qJbHiQ/Y/chMRJ+l46T+fnjxqc4f1PzdiFD7c5/M/WPxihQPUrj8tmX4YrOf1P6QKYDB9t+0/tyuNRVS+9T8SUN0tVtDwP84fFqQapt4/GpROJZ4W8z9utbgXUHXxP64rgWAJgPU/She1j4mM1j9FrmTjSMrzP87GYJClANA/57LGBy4Y2z9rxbae3rLlP6VPK/zcvvQ/sCLIeSq+6D+bWxPYIF7xP1C3+djNGfM/kPRIQDe55T9mLB4p+k71P6mQynaJ9vc/MF2ZEvAuvT+1VObggffYP/Re1SU+L+E/z1GqD5h89z8uPOUtz/f3Pyi4t9YdIPI//ICz3Kmc7z8uzAfHLsztP9emik6XNfQ/M3QzdRTA9T+M+TS+cSD0P3nE2lvQM94/AkMzzFF94D9ADpFQW6SOP/EaMNvnWfQ//xNR8J7+6T+fvAgHFgv2PwLGXK9E1u8/4qxbE+tv4j/g+EAvqCTvP1+Yhq4ENPM/Q3G9u7rr8z8/0JgIRnn0P4gpPopcCfU/btrzoAvO9T/UufvCEBLYP8ZgQUZfLNQ/sCOjyEJv1D/uLxi6RfP1P24krq3En+M/Gl6f4/wl4T+oyRzdwT3vP8Jya7sCoPU/IqP4BuvY9T+ubxMeP07xP76hOqgAaPY//l5LMYsP4j8qyNEIrU70PzO8tmt6h/U/vinJML9Y5z/IHb/x1V3tPzpsmRVF1dE/kVWTYI3b8z/bxAenDdX0PzK92KkMgvA/PgD93bPw6j/qlucY82z2P0svEVV8+vQ/INyPlWJW9j9+Q0TEn/71P2Bmp4QIG+4/9GpXerRt6T9Cy0BMzIXGP4nvR/0OHPA/2BcuZ5Z+pz9efZCfyEn0P2YeoDdtpd4/9Cm5ZDX85z+gnJVwPo/DP/y5i/rFn/M/mSf0ACGS2D/+IhcfNxXlPxRkpUS1b+U/maDuuDCq2T9dR/nwtODwP+T1zbw2z+8/OsmFRVGB8T+BBIVjGsLiP9iQkcDLo9E/hdBhP+ud3z/idwvrhG3HP6u82VWyCPE/OILk92kU7D/9GFwor6z3P/APa3N9SOY/qxJqjvdC1T80jXo8Q/zyP03r7K0qJfc/OZimKk2Z6T9MrsWDdRPVP86cZVw5QvQ/+mvKaLa89T+Arcp+Ad+aP5ggrzCN+eY/GOsuOozKsj/oVoR6+nfDP0fyesy2seY/CqDs/rlL8j/bXH/mF0rVPzjyx7WC/fI/52yMlar35z8yVWBChevQPx3wvbqO894/ZTFJEaMm8D/mlZfbnh30P8B1DiEP/3w/JtYlslTN5T9V6uCa3WvwP6iTIGME9MQ/VbYKXjiO8j8Ms1eUucH0P8ADDi/Qn/Q/i9xiPHTi8D8sL2xnu0DaPwCPF137Wsg/mC1QvXr88j86cMjaUkzJP2t1MInrQNs/4hiqF0W24j/9+lRdKurxP+KunDIMi8E/ZRpDYjbZ9T/J3AcubcbaPyffPV/Y/dw/5UySw1Oi0j+KkrEMrWP2P89bxf7CzNc/KFBJhnVIqz+wK9Nc16moP03fNnRw2N4/fosTnmYA9z/wyJmwJiDmPwg2sr5ztMM/iunI/ueX3T+houutZ3zhP77RzGJqAeI/dpr4D3jw5T9s6Ri6uh3sP/j6LtEBtrI/Z9BBsoOH2j9CVsaihQjhP17cKdqkuNU/K+BfocGb8j+wPdjc3tXKP5RHQtKbfsw/eQD8TA960T/bWY5uUHDsP4oJgKuOX9A/g2PYTtni2j9WmhGQdhf1P4aOvLsVytc/CTV15h/F8z+bE4Cx6a/yPzBGV7SdNeA/nWjOpru76T8Q+YZ4Y7T1P3XMsDylLNQ/jSV0lHFi1j+qMTHWICH1P+Wy0LVE798/iMEfLUy37T9g7/CD8IeqPwaCRapEfc0/v5io5GTN9z9NCtJxUqX2P3lXp4sZ3vI/svtG4Ml86T8aYbCDgXvaP5oabnkzH/A/Bn8K3KEa8z/4TlnY/sXyPy9oJ0rKOOU/xeNwKjvg2z/aIp2WRBD3P3DVYTTi5OI/tfbUBPem5T9vsNkCqOrWP7jNVjCA1fY/EsfBgyVH9T+42MUbYJr1P4Jct1LbS+s/0AophFyVnD+k3baH6ee5P5Dqu2Th+Ok/bM0CeSKsuD/znSQiX03ePx6+yizJq+k/pFOpFKrg7j+Sl9y+3XLEP2MCrMbJl/I/AB2JZxSW2j8mYt1Rxz3yPya2i4iSZNI/98oSHpf86D/a768l5abiP2CRcjrqHMs/463XrZQw9j/gkELR35eIP+9nxaRMQ94/ImOj3k7YzD/4990tc1nxP/S7vIm4O/Q/lAOpT0l23z9cjFIQzzrtP9JlHxhr8NA/+UKrcURr6z+W70+CexHtP4j6h0j86dQ/PPLkiH0n5T8JZMfpVRzePxihwPgf9Og/are8PVly5j+pLu7hy2HxP371Van7Cuw/MTkYARKp2z8lluwiQq/cP5rk2gFmGO8//7mnmBbo4z9Iv0ZBG5XnP9wUirdAmvE/jhAmbRKQ8z8ToqUxjWrxP6LYSZCZzME/MHBWSESh3T+EYBgchmPOP3rXOEehZ/A/3gihTqO66T9YW0swYFrPP2D4SVw5DfQ/BuSvuMU68T8YbfG0Ksi6Pz2gkqij5+A/9qqN0ouMzz9oZVRQkJz2P2J0qLFBhec/m76dcJ6R8T+bjo+cF8DUP6LvhfLfXfA/ltH64Nfj5z+l8kP0Hy3pPwD3hQ1YZeI/C/Zg800d8T9uAaYJhJDoPxqAfH9vIuk/FujJFoeF9D9QC/h83hLmPwK5WO42kPY/TJ0QKmAd4T8C9itEwEXwP5J73ZoMVu4/zA14I/JT9j/f3A+HonTkPzxgMHcNh+k/l3miNqSE4T8NG6l7BBn0P9FBleOykeo/YL6F9isz7j+wO1DoAq/uP6bJ7B8hN/U/xn9UB7JQ0z8urebn0Pn0PxwAN7ZAS/E//HbtAdnq8D/KWGJGYKbxP8LfHY0Zmcg/mKk7TBpx9T+u4wNYCxj0PwtMgYdRYtw/MAxLonseyz+M0W2esF/GP35Hh25qm/Q/KJ1Nmnix6T/RO5zUQav2P4KF40HnY9s/SCPxwoCGqz+4oF3tWjHnP5hr2GPLYMI/pIO9lngz9T+hqrcFTxjqP+hYM2SMVdI/WLWgzT0ouD8Rk3z4P7rjPzGHsmemUN4/T6DzJiZK8D8iL+AQMBDjPxqbFoDmXfA/DMxNnu6I7D/uNt1gAR7tP3pRz7dwTt4/Z5PHZohv9z+3AFXEeyvoPwrq2cd7yfM/PiC47GHy6T+omgdur2LqP2++VFQzr/E/zvNwo2lZ9D8eUN82po3HPyxAxOUcd7A/V/fiOeCI9T8kPzCNKG67P62BwhTaV/I/GJM8kZZ89j/dGUWxFQTdP+dijBelFPc/tUzZ2rCZ0T/0CWpFtAK9PzAJNBme0dg/IgZIOcNi9j8Os+vRz1P2P0Z//qwwsPU/wUrUtGlg6T/M0GXMZRDwP5k6VSFW9NY/6ADslItr3T/4aeDZx5jnPzTL19GOjPE/kaM3pExZ4z881CqecfHoP6JQYQwAPew/OqTu8xOXyD93VU+s/KzYP1ivhodFGr4/mbVzZUIr8z8AGn/N5EZGPwjtTpubtvc/LGpXyoMn8T82boLgF5L1P+p4mNenAeg/FFalaTBDvD8A6AMD36JJPxrInDt5ksI/9Zd2kcou1z+Blb5hOJjyP46obSmnoO8/1dQSBAYE7T/AoEtTSAHzPwaZkjyGD/M/RqaePQ5G0D9rZtbq3AH1P1v99qd4rtQ/cgCbfxID0j8OdikudRTnP+xFV3SNEO8/lyVDDp+K7z+59A7zXDH1P3JuFaRbgek/FpI7W5IJ7D/WtrJcJjzWPyX8T3cbnPc/iAwRQAsEqj/NWESbr6HVP5dY77O3M/c/cOEeLs6l9D/5HOGnQzvYPzoROCgO8Og/jelv5ewh8j/xz8SBnO7bP0ukuEQ9ZvE/ICfNLjgtgj/8wGQyy+z1P2N6Gg8+jtE/Poo6/ooL9j8f3o+rud/wP+z8kycKcLc/VdsvwlfK7j/PArN3FaHWPy2yULyF2OU/alLUkhwq4z9kV1zdMDn1P0VrXkS3gvc/lLcI2bw8zj/4A4vATXD0P+HSgJ28pew/NeFWsN7t0j8rDnytJKXoP9Lqw+3WtvA/OrnXQ/3f1j+dAxZPv37vP7ECah3pod4/OI/TS4gj8T9+7zw87/7SP2McumurEvE/Ga2QzGJT9T/UsSOkrMXCPxD+aXGJicU/OYjhQyvt6D8DwEfe0RTyP1jyDrfCBe0/mOG74xWj5D8A+0mqb+3wPyeyO8PYBvc/ynYIuWp/8D+AauRBXziLP7Yd8OPP49A/RKSxd0uQ8j/ad0Wm8mTgP7ZowHTg5O8/kZblwmtM5D+yOy/rkY7yPxTziXdDPOs/2WPwnGxC8D8RzrHC5hLzP6K8/YFXxs4/lCvXQ31t8z9E6pCnr7vbP/Z+hsAZX+E/JNCWa2Qn3T8u/MMamQPlPwCD10KxK/I/jerEsrJZ7z+0B/OoYtjtP0s0WghFsdg/SMpcQgH99D+4px6s7xX3P7C0Gx4LvOQ/WlCHsZNt5D+Z5+4ObOvnPx48WzQt1uQ/o1aXB2tX8z9sgjJc3XO/Pw+cvmUGzfI/nXrV51du8j8GkFbZmGTyP+jbUmvq0PI/VIVwGGFv8D8jUrRKBfvYP8oL8GQYRdE/1JmKbcH58T+AkyoMyG7wP8XW/cHuquY/eNEpc3NC4T/oB6SBHP3bP0C9ZgH0gYU/pkwWCut19D840rE2sgmuPw5myRAmquY/L6tzg3GD7j+r1TsR+wDrP0Ls/bHxwvM/Mpu3uFFw3j9ugQvJijD2P7p/IwhYZvM/uuwB+IWw6j/quL4QXVD1P2Kbj6DKLts/aPUJuzNO8T9osl4YfG3xP5A86QbfX+o/HUw3Uu3q0D8ezqgcWKDyPym6bfaCtvU/+Q3is0vt8D8yJ8PLnjPtP095oQxCuuQ/brh70ilt3j/Qc5xuV3TtP8vn5PZDmPE/tE2zhsaZ9j8mIkGGTArOP13FW3gbAPY/lgDj5lT54j8KeziRLRn1P+XpFTA/Q/Y/zhxBT4IyyD+GuGI70KnyP6YXEESdIPI/mssBk2cg4T9iMHdWrzPkP+1XCCzRnvQ/LypeWXxg8T8b52D8uwjlP+DrH7T8T+4/bN9uUIYH7T+uyikJT/3yP8IC8c+AKPI/bHmd/Lsc9j8IaaBvnfPjP7p9yyWf1vY/ZnDDmtU/4D/QW2TkaFPzP9R1ifYBePY/5K20kvQW8D98iOHTOuLrP/I1bBqHE/c/oOsYdZXWiT9KUKs4d73nP2hMM2+QLNk/Td7yEQWp6D9OrKZNPN7RP5u+LJeQZew/EMr0Lm1RwD/U08NrLOfKP+6phxoRtOQ/AP8wamH8lj9KNmPgs0L3P4/PoNwBxu8/bup89Wx26j9gdZosFQjxP84VVrL9LeY/lXHWflkN1j/6qQw/1eDBPxHRFzr3uPM/aGlb6Hr77T8jFu47xPHcPyKem9UAvMc/92sLS3Fk2T8zXMVhKeX1P/XS4s4SkOY/Zg4bV4TqzD+FOf9RgWnhPylKJKeBkeE/UKsGfQINpz+bif451x30Pz4OMUB8svU/nmy/Np6k6j8a9VTSh1bsPwJjkGv2+uE/VuRMsH0j7D9yP3QB00HwPx5CRvdq6/M/qVRsduGH0D9tCawZnk/oP75ykjIUY+U/SMGnZjRi6D+1EHFOy9LyP9DN3bqpa50/8LJKBkhw9T/r7wAvCTPvP9MKcMnehvA/wsZF1ZHH4z/AjUyX2qqOPzNduCcUyvE/6KJtSRR+8D9XN4PieXjZPyDOOCNpMO4/2wqrE8p00z+AvSde8J2kP5fx/Aq2vfA/PfW3A2bI8T+Mj15uc4nBP8cwB1rX4NI/cF07LRLa6j/WziO0BPbxP2hYyYID3O8/a5hU5vJX8D8qRC9mrIvrPzR+5INWwM8/8KmDdFzVmj/e3MoaVDDaP+AcoClVEPI/nfsvKC6K1z9TuizxtYbwP61OajRr6eA/Q2/ijhTK6D/Nxe57FtXsP1LHvw8Rb8s/3L8ixsShxz8bzmCjbdz0PxDt0Kxqycc/iOVr+DZ62T9ibM/xn3bBPzEZBwDDoPc/gjn5QkTf4j/NlBbdruj0PwDKbf/OeZw/AFyqh6ubiz/AfxFAB//vP6BgGxCTaaA/XABdj01/sT9+3W8njwzxPwgxv8ZSDc0/MeaM4+Sx9z8P2bnBUrrmPwHHLbiH+9Y//ooj+RhO4T8Qrr25G1TjP3du4CtCsuY/auMqclkf9j8XdgY0g47UP5kNBatdyOk/eg1qkafd4D/Gj+z3h3v3P76AAi8MWvA/qms1fyYS9j/Xw1HB9iLtP0idy4V+wOs/93PqVRFv7z+rtM8MAArzP6jxTd3f5uY/9AXPhrjr2j9BFDZXqxvRP5PZmr8sO/Y/gEIC+tnv7D/Yjxpo4WPzP+Zu7Y+bKe8/nii2uW6/2T9UXxl6rtnwP0wZywXh9u8/uH+SHxuX9D+Ade+X7M6SP7v/9F1C0fQ/MoZzy1so6z++hglMQ8/0P9py2WSJutg/YCbTr33qjj9JW/crDqr3PwKs6HGhse8/iOpIilHd9z8b1hdwVDTmP4Dyg22ISvY/lpMAv18Z6D9uoeuR5OnxP+SvvY3E59M/SVwGThQW2z+2fexMHebjP66vUBdIHfA/VM7nLIFW9T+Kk4TYg/H3P2b5UGn5Gfc/0PRzh2Kj8z+S1+99KuHfPxiPEphLD+U/vPQyHEh+8T9G2xWLu4HgP9LpwQp20Og/GZY70Mie9z+ULwOQAfDwP3zRQJbQcO4/qGAMmJg79D+gCqEXw3DXPyp5MHMUmsM/KirNWaL06T+88BJR22TzPyA0HorF+8Q/X4Zkb8h38D8M+R/v2tb2P4jpBBcMoaM/Vy9AubHX9z/PROKJ0hzbPwIixhBNUfI/OoNhOmSYxj/MhE3GGAi0P6IFVI+fveA/PtQ8svuN9T9BwjiYurv2P8JfmwheJ/E/PUNI9CO34D/C0q2A9wToPy9WIryKZNk/KLsfod+ttj85tLvIiXDrP9EUUfY6r/I/8ogEreE55z8vQBI4NiH3P75vZBwww+0/iQTDi5Wy9T/hxC2cdT/dP9QUL6YbA+A/aKPYDCyorz+8gZVZ2u3JP3ZoRaYeYPM/dQbMkyWN8D90bscLK0TUP+N/ZxxO/fE/UErnEX/vuD9zUGxGefH1P7CsKje5cOo/lN4w9Bw/9j9s2X5m35nyPw6HPlUHzfU/SYtZbkpA8T9N9HLiSK3bP27kstdtEOo/dJueAb3l9z8+2HlDpTPBP7zai2hX7PI/QG/PiAFA9j+qARk5NWjjP8rq8M/gr+4/oJ7BzWJs5j+3Zp6+Sq3yPy69EkW7Nek/ICV7sdHJzz/xNI6v8ifeP0SQP2MQX8A/ZKZCe8GD3D9mmY22R7r2P9gg/Ohz2fc/XuzWN19z6D/77za+nXf3P+KyPQQNgvE/qKRstnoR7z/u8dJXozrkP9rI5QXiZMg/eHkmyEpG6D9wOknUvojmP7BSvMO4J54/W96tprHW7D+f+a5aPRHwP9TXizMUFu0/X60cIl2Q6z/hTZeXo8bgP0qjACPFwO4/Rx9sHL7H3j9ALqunffi2PxT4wUiFVPY/an2b4x/J0z+/CMi8Lnz1PwZNUBuaa+E/VkdJKFMd5z/65/5zqKnwP9GjcAv2m+k/h3mnd0+59D9q86u41i72P2y+cpvfsOA/GYCW29Hc7j/p/R/uigr2P8xpKT+tmOs/3jpOwOJf7T8/7L6RIGrRPxAULq6tHfc/bYTVGu9f9j+QLFrg7UjzP4wR7HdQeuI/WqsTmJ5p0D9Y9NKRA8j2PxfwOBhAwPA/a5jooKi59T9f1Gp65Q7aP3cNeH8L9fM/V+G6fdtr8T9qj7I5QznwP+TjtkQ1yuA/+uhxaRNc8D9nagoofOT3PyXs7+Yw0/U/ynKI9acV1T9AEZL3jfvPP0Bf0/ALdcI/YEEXCI9zpT/jxyiUQ7z2P1h/3G8h6bM/Ogn2FBpI8z82UDz92hnmPyMYVfOjz9E/scsfM+rL0D+nw7Du3zjcPxB/Ip3cO+w/fyjvUY1t9T9yHTbqif/0P1GxeEkEF90/sojwZABy5D8YTTAwhTa7P1JlkudmCPM/vFNnA2kn9D+s6yvdAQbLP/6gGHq9zfI//KCTwSnZwz+5jcDTky7XP+J3Vuc/N/c/JifafJ9K7j9NtNloU+zzP9GJOUScatE//z7SHwG/8j/8S+01Av/hP7oyLSunYOo/gKCQFFJr7z/gCehaS12eP/T/vIUKxOQ/FR1Yhn7+0T8ujdsvZRjyP41NVBc2Dtg/mjwevAAS4D8Um3n929DkP8g8S36tL/I/7gYiwf5E9j8ElTpHbd3jP66SgcbrJdo/g3MHmFxi8D+629XzcszqP5xjYspPIeM/fpUVFuGz4z9yMwomaNz0PwabWuIlVvE/2juU2KLD7j/T8vHRrXDuP766iLc3WPA/agWTWuPqxj+ge2o1BQzVPxJiLOOXgMg/xveYqkPF8T9guluZfGz3P/4YaivyS/Q/LchHu58U9D+I3jLHtFjzP2U6uyGfAvI/2Oy/HNu08T+nl5/WS37aPwxmVwYrZfM/3TZXfHqZ7z/hzrtSx2/WP/jysvvNhqo/OEkeaL6Q6D8sVumPdZbJPwY6wy+D1M0/6TpExWNT7j/w/e8suIHoPzz6M2aXwMM/SMTpaT6C1T/ipQbMUdLXP8N0D1bIH+E/6RxxeiFk3z9AHKcupOLZPxR40eYKTNY//gIelVHM9D9g3AczkMmJP7Ay/Xvw2eY/HBhXfit+7z8asqIpZnXhP1Jm+8xftO0/dvW/2+wd3j/FWraMlqDRP36d4XhjBeY/VzI+MHPG4z8ezGOkpE7wP+SDVdfwmeM/Erfcynyl9j/+GX5gmlj2PyIjV5yvNfI/rmXisJhW8T+KMw8hVI7NPxAVy3LWSPA/SitoyMPh8j+yaN5Wbk72PwAVZ7qiqZM/7iiUTJz8yj+D0K3ljKHRP/R/iIqGmrs/ZCZwOi+Q8z8aLnqKnF7FPzQuHNwMr/M/ZOPNQuzs9D/IYzlfa9vtP+00uldovvA/i8sHsKRH8T+Olsdt3kLwP4BdxZ1Ym+o/rtfzSN6zwT9r5L52uuPVP4xEt7qQq9E/WFK/YxN06T99GsAx46LhP+imPRZoZu8/j6X7EbyA9j8gKwJl3WvsP7atgauTXfE/2QZf24IY8z9Unrd08Hr3PzHmRK6be/A/BpKCZ5Hb7j9648WAdpj0P6gVN8orD6U/hyBumsBl3T/Es6RYFEDoPxnk4dNrDvY/CmMBb/ok5D+8nwpo5BL1P3juCweP/NU/2MtKzovi4D8n9uQxq7jQP7yPi+6OJ9E/fnYnnI4W9D+DWcYhMIH2P77Tvuuquuk/4xjy3MCp6D9IvgavrRnvP0DHIVDnPu0/80Sfird08z8dgSjkTTf0PwUrXCuJreE/cqeMNWTK3z/CC0eiCzPuP6ox4Aw4nPY/JOBKDsLs9T8fEIr+nGbkP/dj+Yczwtg/lgSA+QvMzD/uopa1SkPMP84JYiaPLPY/Qe7WCYG01z8maf5UkLHlP0mYpry+4PA/w/zG8hhe9z/AriRF8mGoP9MD0fnWces/qWQrw6fo8z/L9Fe6Gs3zP8COVPeHQtM/kCkA5YCb9j8fzb4bFT/bP3DJX5kAL78/XTfHv1C69D/N69t/wSD0P3QxFn3MCNk/Zabvpzmb7j9DgkTdrfbWP1zqTdOBW9s/ipNciOPV9z8hyyS9laPjP8gNvk3mo7I/StuU18wXzT8rM+734/vUP2hMKyqyadM/rK3D/XpE5T9Ma60u9iLyP2F/WbAR+fc/pgAaAAZU9D/eXrCIDkffP/pTAgkcL+k/p/1qH3Hq8j9uHmd9c9L3P9dT7LLw8+0/AH6hzp809T9givxMlMmzPyjj2R2SzeE/qL197Pay9z/AKbK6w1blP/e87VTAU9w/1LPXCn1Xzj8jKtF59ALWPyDLm0VFw/A/fkJnFPmi9j8ogwy1D8nvP7DMgYfB3qU/gnVRDpeB7z8LJbFNLAHwP4IHwtphwNQ/+3kqcj1x3j9SSGuSNGX0P1jtIXpcSuM/3GA4pNHq2j84Ump3KQ/2P+iXnqLxPPY/+H5IkR8D1z8QBkzKXLXOP+S8UvlkT98/Qg4aFDvY9D/d+VbJa+nWP7o8kWXICfI/QBeP1ebMuj8z4ZC7Vh30P9Cc5Prayuc/NJEb5lo49z+Qp63IB0rgPzKbVzsv0uw/RnVrXCfa9D8AGFMjlOGwP0iAxJ7DY/A/PtkPQnV45D8g+6KRfYn3P9jgRtCKpeo/zOET4Zud9D8MKc1TsyLjP3gBeD4A6O4/zJWjo92JuT+QmqfA2Xf2P50O3MAniOA/DItKNi7e9T/ecTLXw3LSP8aWE+A1D/E/bSJ590Eo9j+Dkp3Xe0n0P1zwgxEznuw/MBXdyY+B1D8zL9hTtvbxPyLsiy1VgdY/tLTzbWKj7T/KEVnMLmrXP5bCQ20LmO8/CMXW1bfEoj8IXw3GCZjzP/Z/2P3GL/U/GKBKrTZ84T+WUu9MIo7YP1T5D6H3hPY/MPMSWG3Q4j8wHvwQT6TqP7tG0+h4MNQ/E7BCtasa8z+5EghYmdXcP0n+vX8YOuA/J8bb8n5N8D9bXm23UCryP+59Uwhm+/M/osDWMwpa0D+K7SyGdv7gP9bheRxdgso/ooc63jEO6j9ECpWWB+L2P4bR2oZOOeY/ZKDWdVlY4z9klGGo1azgP8WHYGckZug/fMOxalxI7T9YDhMCiDaxP/c22QKgcvQ/aE6kNUYX8D8SU7e0jEnuP4YX0OdG8u4/GG0NvrSKuz9UFC1/LILqP1Oyw7XSS+Q/DZWpxmdv7D+A5pF1J6RnP3a618avXOg/65IdlWlB7j+Z8TRJrzvuP8J6qMc0Z/c/LEz8ppIhyz+kFiRoTbDgP0VeNqR1NPI/iTZfcWnk6z8u7l95D1TcP+RPciinAfI/ZRdKHYRt5T9IazzuPsXvP3ov/xW81+4/VUveGtWn9D9R0NdCBGTvP3COmwhYTKY/1B6BCqAV8D8w6jRJn5/tP4yiaXaFluk/L6BzvSjo9D+vcuVYNAbaP7MjZrj/8/E/mFCtJyCioD+mXDaSnJLUPwdjRO13n/E/Kr5NCxmX8z90QIijSr/uP17+yUJoyec/4FFw8mc8uD82dNb4abr0P6YWIF6ImsE/79ekSY8Y8z9BVRqCTTTrP56ahqt5Feg/vXRWmQYb9j/2pS20dBzxP8pXqJWY6Pc/vc6M1GS90T8ATL4OUlj2P+jI0y1nWKg/lvlYVIdQ4z9Qq323J0DlPwZHY+IpNu4/kHHCvPp24z9cH+juK2C1P5d/GXAs0+0/xrqh9pSr7j9kyg0qCnzjP3BYNB7+Src/ciQvFqVA6T/AyBKWOa3aP1oG8ANVS8o/dtgxagSZyj9nZKF7MtP2PwaVR4k9m84/dPR5T0sT7D/UuMc4OwHOP6LUXTXvbc0/gBePO3+14D9LRX1d1mLQPzMyCBOy9us/ZCezP3IK8z+0jj5Y6qLwP7zSHeYuue8/MR64neKy8D+SOfCAMNTwP0xlMH4O++g/TTZPcuEy7z+O+I6ask7kP3ou/v84X/U/Fsw1ki712T94ytmbZM+/P4yZv4/p5uc/HjAj8hI89z9vjyiyjYb3P3uTi7MQufQ/sDrGnVq77D+YvYq9P0T2P151JRO6kuI//glk87N81T9CujLoZXnhP6Z8TlDtgsY/4Ifm5IoZ9j8XE6c47GzxPx5Su3fFIPc/KuE3YMlQzj/fLLYN9PPUPwBzk+Gqo+4/D5QZEwNA7T8ggNbgbpv3P3IbSVghMuo/aqMRtry75D/C3aT7ln3xP0AR1gQjlNw/Hq4Crw9g9z9fLzO4r3rsPzBYVjbzLOs/cB+YdiX74D+/gx5v9TfhP7vTp9dByfY/AgRDPUtlwT8ly4tRttL3Pxo/2enXwus/DPBNilb85j/C65PGY0XYPwrEeblvusY/koNRWQFS7z974/EODP7wPxTGrCB4nuU/yD+SLeJjsz9mXcDBfP3zP3pUrP27cPY/1wevZFCn6D9AouW8B5P0P5hBTEucVc4/azoFcnNm9z/9bB5vytnxPxd5+5GKQuI/uv1ssWT29D/2LBgO5IXgP+Ipt2DUaMc/arbH0Ulu7T/2XRsOThLlPylcZkyH6vQ/smV2yHsszD8OCj+SWVjWP+Z71qEr2PE/WEuyLiAH9z+iJMaFCbzhP8AlFnVOhqQ/wOphrb234T96eOiZdAvRPyYA2Ly9LuQ/390IsQqW1T/GcgFcYI71P4j/mIsAbug/weEtdn0g8j+7XhKOO9b3P4CLPQUeJdc/cleOrASC8j+ARE9mCOnwP5wfdXKBYOM/tQIYbQJn6j+sMzObZSXbP/smctYL3vQ//LWd7H0a8z/jm/NZYPf1P/Q2oeV+wec/rrCqMzrIxz8vV9rdMKPqPwEA2nRAt/I/FDXaFvh29j8uwjVPdnHwPy5jmwP3yu8/lhQ7WCmk9T9g6p1MsMrxP9AwWdwBdfQ/qyhnqVAq3D94IMOOSz7DP/oTEcEq4+0/QQ1LKU/u9z8/S1MOmfX3PwYbdgkVLPI///WMBa3Z8j9yO3B3TenFP+pHhquF7OE/aFjWZyVxqT+Wm7r4j4jKPxQ/9Wxnuuc/U8EdeOrQ4j/o8FKYdDbYP3JfOUe+rN4/GE779YJT6D8g7+X5+/X0P5fuwf9dwvQ/zVEjFpd20j/sIcq0BQXgPwDhC7d/6LQ/jJF8zNI3vD+X3S5a5lnWP5ADyLD83+M/oA8BrEHPgz9TLBDLpEjiPxEx/NKUmPc/upRg79om5z9KTusg9j7nP5T6faKAjLY/T17uTTZN6j+EnrvSJ33pPzCAQhdt6u8/hDAiFmH98D/m7zMKZyfnP4Q747imncE/6KBXmHR25j9HKz3Moh/TP2hXPLHRqt4/iLxP3FuD9z9Ij2X70XWwP7BIILf/oO0/dG1y4++79D9+KWhF/RvvP6TaegX4nbw/AhHho+St6z8+UEo2NIjiP0Vsdby97dA/yrgnf71B9T+4M4cstmHmPwzNZnryZPA/gL/eCYIo5z+kTn5PxGX1P30SZ2bysPc/6CbNkzZr9D8g8VaPcnbpP7zllNkCE/Q/auGplOVX9z/SXWeOMpj1P6DEE5v9X7k/iDSlF1Zuzz/wn6xA49/AP3Yw2AFgtuA/cEzkG78ezT/wbvplFfnWP4bVmRf77+4/jwWB8aQE9z9Q0CaZo2TyP7CjsxsQePY/8iEFYiEz5D8wPK+to5qpP4v9X6Q14+E/psN3rBq59z9lf7T9/x/cPzototEOv9o/TiJbrkqU5D+cT165PxnuP8fVUtWdkPY/GetRnA5P9T8ZgVmDDkvyP6ISO3MLLOg//c6271ro7z8U+yezT1z3P3KNdpKtc+U/ALSXxZW84T+dyBcf9O3nPyrUa9Dj/+k/cNQ+8+xZ5D+BsGFUGX7yP8Y2MsT8c8E/84I604GE0j+Q13mEIXSvP2CZPPzeWOA/CvOhHJSZ8D87YxYSb/DlP3JZajYIKPM/zrO+WXEk9T+EbyouT821P2nLdirtJfY/ERc7r+2H3T8UgJArrl7tP9Aeha7rZOw/lGEgbKGswT+ILjyQLPbKP4ca9/q5sPc/tmDA6dRs5D9eDzkmF5/jP+D7VjLLx+k/H+pH9GK/3z/uxUplCzH1P/6wIKUvuvU/VjNpkuFN9D/4OrHisTHxP0vvwXn0Td0/ZpceWd7x3T9reynH7wf1P12XNacmI/I/ih3XPsvh5j9s1Tot+PXrP+nJdVhG1uk/DNAxEriD8z/sOUb0bXSxP8oQtfW92es/EB6QwqrL7j8sQAd63ojEPzT+VJNxOOc/hUyzALKd2z8CazToNG3jP3jFoD127eA/Tdv6uYzW7D9yJdJ4qBzJPxpfIZ0isug/kG7z8wuksj+grBIX7dfmPy0ZhAAZD9A/RoZpW6Uf5T9mEMf787XzP0hpqGI/W+E/j05OI9l65z+2ISA0z4vCP3VrcZAfot8/eBfBYPJNpD+SG2sV1I/MPywXTEATMvc/byAxR8gl1j/4jnQoVUPyPyh/r1NP/qY/WnxW3ojUwj/epskwngnkP/LmDJ0VgOw/PSepE0Bc9T/+51EPaW7BPxKTVKeR8PQ/zX5lCegi8z9wQWIyQDLiP8qU1LbTj/U/s3DvPJm/7T+q+qNy2lvpP36oBtyiHtQ/BH25tYEe2z+jkXTEBZj2P3cQnZfzX+c/2LnWM/rZ9z+dJ3NiybXsPx01TauiGN4/osGJDLel6T/u5vZvp5jHP7wStIBxwu8/ZObF3Lrc7T/Nsw4coWnfP/x4DHyVfec/uvC76gty0j+4ugr009rmP7i8dhIbguc/YCc+RpHk4T/YtdgmoVzKPwwbdud6XeI/4H3iovEunT+OLG0UnNbgP0LWSarjFfI/ofSlRLPQ8D88a72ee8/tP8CrMq0TYqE/Dg54A/aj9T9AYhNtxLPzPyszCALuefU/Nn+funZY8D9Dfthyw2HsP1bCw8zSpMs/KllMpSv04z9bIjMBSjvxP7j0xafmPsQ/OV55CG2c0D+kI7jvZDTIP5RC5pUc87U/lMW93lBs1j8MBuZBE1TwP0XKUY5Y4PE/gFmBeBtOlz/bv6EERwX2PzF40Yfjo/M/giNtllyh4D8SNnXPbPvkP2RGftnnHuQ/ILMeBzQH7j86LIhI4mrLP15RuBF1quk/+NchlDKM1T/ktxHduHW2Pyc5h64mD9A/OUQUB5D64j9jmpa9oP7hP5WBdfm6zds/WujoCBwp5z/UEbPtX4z3P875oGNHQfY/REkGuLkg3D+Vgt3BC0XpP4JExGAEEfY/JHrKZLF04T8Y0LTVDbSmPxnUed4ePvA/fHU+HPHi5D/J9JteZ37zP+ANwmziK8Q/0Es+/HOe2D/adE5uUoPmP7iZ4EX/AeY/niv0Euxa9j98xK0vr/3DP/BE5icHTvE/siiQKHj89z97GEV7+vTWP6YaNey6c/c/KKUlpvjZ6j/z2zHTvA3WP1D4Q56KFe4/XjzqhVTtzD878624+9bTP4CqrGWLb6A/G/JNClaD2z89K/RWIFn0P8aZmnzq69s/3F8q7uyW8D/5v8m8ZQPuP8azNBcot8s/SQupjU5h9D/IQ9uoajf1PxPGNu5q4PQ/mUtmal8I4z9saqmyJ7ngP8/aO4HrRvQ/G38QiZnf8z/2sdRUqszlPwtcw457Je4/bjotr2ji1D9yfhpgmt7gP8lm+qoSFOY/nLNKhb+U6T8ZhLAD/IH1P7Fwsh2Kyec/QqAPRVsP0z8sk+AxdaT1PwwkQKSV7fQ/l1AXVISU9T/amikAvVrDP/GysBrZKeU/q5P+vl3J8D/GEDWT8SDnP53GnT6EbvE/fObOzvq6vD9aWNfPVtvpPwb6QPguwfM/Gnbyie/m8z+Ho1FtCUz1P97FVazxDdg/Jp2X+BNj3T/qdsBeA571PwbZSyJDGuk/YmzO2K+c6D9C0HuyX8fiP/DfYvD86M0/ei01gie64T/gJwDgIBi4P0QeKcc5W+0/tldlpwOp7z+2KRLNE2vJP5Ym0pHbquI/WoFRtuIn2D8AjrxhJe+KP7zpueLyM84/XaqoV6cN4z/sXGujZ2XmP/6bqe2xlvc/zsRtZN5sxj/JC7XRv7D2P+V67mSn7+U/LOtxdNBg2T/UKQOn1jX0P9nFO1a+Rt4/pEt7/t005T+aQlHqk7XlP4eUb7gipvE/iDL0uXJMuj9EddsnWA3yPy9fgMF2FuU/GI2jvBDy5T8g/oqqRO+9P1/wgqOgceE/0E+dDbFTqz8/L528o7rSP7rnbu7Y4vQ/EGJB9stG0z/rHylKQ/TsP7WnoFtNAvI/9ZFRsLM89T+BIMDsiofUP/DGGJfq/fQ/E0kNY20p4j/9n+JNH3jzP7woxac1QNc/clHriZEc4T+Pjj98tXHwPyBkDhRj6ug/BGB/Cfej4j/zPtWUVPDrP8HNVLEXHOw/9PhHWhzT1D9O//MW/kX2P1m2xT7l7e4/nHkjrKXb7z/qia6MfnXsP0cMIpWosvU/Jf6443Og8j/26QNgwJbJP86E+skv2fQ/sjAGudv3zT83wlK0nlDpP8yQurBj3Oo/ALd48o7z7j/1nVBoUiLbP6nD7N/XX9Y/M+qDPbnT1T8eFfAHXIr1PyRuw3/P4/U/yN8mGwza2j8+ryhqV/ztP47nFpeyxfA/zA6FgKMB1D9fhxnUfSTqP7IQYvdf+PM/cMttVwFC4T+AjxktJOCtP+JoQs9yRNA/iCMJZ67S1z9FUD4HwnLRPw6z0c3QCvc/CkWENUOv1j91UEd16JHyP0Y9B328RfI/dxvkV9qa8D+XKEkI7Az2P3WsHYl/m9Y/IAqPMweXtz9qe/6nyJ3QP6hl+ZkPRNc/gvdFhInK2T90C/Iz5w7iP9zyYT5lhvM/dCCw4Snq4T+GeBAMgmnUPzHxAW7gG/c/2DLPe3Z5tD8YubEiYuSgP2KaOcGavMc/eO8OiEVc2j8bWThhL7/0P9IejJp21PU/UqVDGNeA8D/qRA1eQJ7iPx6ltXPO+uQ/ZmcSln649z+qY64es6/kP0jEKMIg/+o/cgW9PvGX6D/AzqUbeuzyP4yQPAgjFLk/iE5j2wFb6T/AqTEjKF3xP+8FxrnUxdE/LCvC6hfZ7T9fMFAdMVvfP9iMpJvOw8A/nQXZNeDb8j86URagwQjmP4K94GxUPu8/yuQNIkSd1T/ItKTknrX1PxoTvtUeveA/xuDfAJBz8D/QIcri+dXmP9sW+Mzp/+w/1GnCvzGX7T9GufzUoD/2PxjfSrPGBPc/oHBp/a645D/wuwl3skrIP49PJBWPuOg/LWajTQb10D9qIVNkk7DOPz6eQ39ridQ/LCSRLgobvz9C0Tb7pDrKPwws2rxeAe4/IFw6dRzRkz90iwDEj2C4P5pqtiOWtvU/ghzvrvGp2z87CJhtMITXPzXgmky5iuA/Hrdka3CB0T+wxP7RS0/1P74sQLZVSeQ/SiUBZyXI9D8RwRMWRUvTP2uactvN7dc/mtNBHwYc6T+dQlHzu2/pPwTLxQRdidA/A6iT32mN9T/mmuvxz6fxP0RHrJ2EdOU/ybA3b6wy5T+irjZAVonMP8TIe9iewLk/Ji5D9D8H6j/Va8pZ4ivyPyf1HVzEGug/kHBaMYutkD87+w0nGLbXP4CFUul0W9g/NgW6xkcj7z+DLTNyMlnoP8SwO+zJx9A/GMBeppha8j+Y3eEfkAS1P+wC1Kol4MY/ANbyiojCqz8mV6Whv7riPzwplFwcxNE/1NtcYDBtwD96Jnws5LDnP1weh50OGbs/vABohEnn3D/IOKNuOt68P9RDPAFdA+Q/QA1XlaE43D8UfXIO5tjGP1JGLc8V+vY/fKl9TVqdyj+044K0grm1P/GQYGQtSfA/4BRaJk322T9WNVWkopTQP88/JgqQj9Y/cAWbRQtoyD9sIn96YnjCPyazTcMl/M0/MNg7vsIl0j9T3p0Lwe/cP6rkJYT7xu4/icLhkPWu3j+3KtzbhZH2P4x1nlTdNOU/tVUk5yQE9T9RbdF6t/f3P4BVI0DWi38/cH3jCwGLyz8psIIoAlHvP+htdBZkMPY/EcYPdwIy8z/AZcMPGO54PwDKP81q/oA/wBnAX6v9xz/ljYaHH9TwP1gxPwwIq8c/bYYOyAhY9j/udNQh1HLpP8LfM3Taues/YkR7rGu/8D/+24UWsvrjP5EyZ7mI59Q/y8ikPwux3z+8Yufdtp3eP7vERwS4OOk/dHM/bPGW6z+nkdmv9q73PzuVhNgS8PQ/020tm8pw6z9QyPTAT93iP7QYJcSwI+4/gDKCENEH4z+tIOrdSun0PyhTFvr+F+A/KZXMzmvR9T+4JLVEumvxPz/s8IkVVPM/oMcNTDog1z8KqeOK8xPgP8JOsUcdyOU/CEsiwoz9rD808F03hgPjP/DqsX3Pv+0/R7vsvY032D/B4onvXu/1P+DecPwemvU/OKBt7zsX8z8CUunFaCfmP144C3mEne8/rkKjv05V8D/BkPEEIqTSPxbN74P3l/E/TbZBP12O5D8X2zn4heDwP4JcbHB8V/U/BCeMpdeB8T8UG1zMlzqyP0sCGV4RgvM/qa4soueS3z/4+551D33WP5Qmpe9YUes/4FY89Vjg9z/mmMU+U/f2P2Zq1uaN/M0/APLYAlU5UD90D4WG4bP2P7w2G/ve+PU/PvJrAp0M8T+Kpu1e/vj0P4d3+zrfuPc/Wkk1S9XN4D8Nb7NmvgPxP7SRVvYDAvE/Je1TpHaQ9z8oblfc0yfQP2yd06o+Pec/QIcYbq7P9j++QHU7QFnoP94dtnDR+dQ/MEhFYk+SuT8MCjuYOlrSP6Yx/jBvyu4/UFx520eitz8bSd+yVtf0Pzkqt742dvU/5CEwkNub5D9Es+1fwqvrP1QOiazUue8/OvQrihRf7T8NCUD1UdHVP6XDEZ8I3ds/xa6xeoGo2j/e/iNDWevwP6afiNCucuk/mTMn+D6H0T9kq0q1XH/rP9rtZv7AxvU/HERalwiY4D+4J1bfZYXzP+Ls09mpbOY/0cyTVN7s2j8RTXM0Lg/kP+6YzbAq2dc/5SxSl6LR8D+sl0re8y/1P0QMEuM+E+Y/j974+E2z8T8q8L+ZWObjP2vdBTnvgN0/ShaxLMds3j9XJbJ0O4vkP+7mlX5vbsc/Kp/qWeWG9D/rDYDRH3nWP5DFjcNE2u4/EKzUSVcvnT+uHStamgPdP8jBbKZtXvQ/WvtospN68z+Ig/qpdY7kPwBW8WdRF+4/wavrJqqu7j9d4+EhESbeP8r/0l7NjuU/1hGtFqKj6z/SIhBbMSzVPzEOIiY86/Y/ushg7b2a8D9QAtFrV4HhP/hXddz5vfE/FSOxwfYj8T8I2MMAcT/zPzzO9s/w8+o/CORJ1jCu4D9K1cAddOjuP5+9QopqHto/hAseBCGnuT/WpIecv7PxP9Iv4REJpsw/oaT5pC2u9D/B9sTx//n3P2z0yDFpudI/RABWz9eU7j8k30HNiKX0P/hn0Ft8RfM/rJ0i9vfDwT88aGpAo97nP5xWIedvNe8/k+1cOD0G8j9SG6wyblT3P9JtTw6nZ9Q/kt0wM0ru7D+EoZSj2Bz2P94dpAbyTME/IOUC5sMkyj/qh3kgqoL3P5o+SJMUNsw/x7MOd9XE1j+2K9a6YLLlP061lTTQjtU//o51B3P84D98TyFRm8TcP+rKkUojfsI/pC+B+2ehyD84PVTRfzDuP3A5BL9V3/M/VPduTc+r5j9/WC3U6/7zP8Q3I6+43bw/Q4v3y6aL9z9zJZwtGg/qPxhOg00Z/K8/HKx7Skhc6D8sur1rvozyPx7uphI8T94/nXXMh0gD8z+oZ4oHIknUP/z8cLPMrPc/GNeXyqSf4j8wj/SwOMXxPyjwfLqbYOI/+xWmiXH+7j8g/EAzlk31PxYrvo/lOvE/r8o/Xztz9j94AOvdFSe7Pzw77j++AbM/ULupzout6j/4tR7PebWvP5wEYp/5X8k/PJCNy3XdtD9A7LNdg9+DP84Zl9vtyuk/plCrjgOk8T+Lskd7/ELaPyRzgMELWvQ/ltVyQS309j+Qx3GgmqzpPyA3tB42ofE/C7A38xyB2z+a+FQhDWP2PwY5ibqI2+M/dhb8GkWr5z/Egwnx8w6+PzHH39Gprug/A+bRsiu86T+S5zQGuK7uP7+wQVEYtfI/9eVbGtBo4j9oOWJxzfmhP4L/v58wJe8/StA8UQBowD+uV1P8Ihr0Pw5mSaXc+/I/3d0S6G037T/BpIfdT6baP7Pq9E7T99w//M6dt1598z8oKtPNID3pP4jLfN0zVPE/Agq239FO9j+RFV8pKPjwPyQGdnjNxb0/6BWALvy4tj9wpNtu2UHrP8mIjjdm+PQ/eU71/JWX2D9mOFLk7iDmP7gHPdKRxfA/05uJda1Y7D+UHn1Q0oT0P0LtlZKjH9I/ll8c6Jmkyz8on14WZyWwP9ZWWBkN/Os/9aOGFk0F8j9ei8g+o1fdP4JxwPlrqfY/hI8hH6xB5j9VX+ixpJnxP/Vbt3lUAPE/aOcB1exloT+Dyec4qO/iPxlGZVrG6eU/ZQC43/iA4z/+GXVPRD7yP0dc9uRwHOI/h2UmF0BF9z/E5TSdmJTsP05HPbDFJek/vgj89qB38T8mWcg6onP0P0V/lr2HFuw/ai+pMMWq9D9MiwE0dlXtPyaeuECJTPc/LFUPy2vq6T92Nt31SwbDPy6qMJ/pl9s/s99gPU1o3z8qSjOKsVngPywnLifyCfU/zOof0+sg8T+g9Fdy4YqQPyf7C4BnA/c/qmXNaFOr8T8qXCKet87wP4DNgvFBFPY/mhNLo8Ew4z8DCN1CPDXwP6VLjhOJDd8/FFnU57U5sT+jRynMXzfWP8bDqHzEF9o/a1T4PH9s8j/lGVCH2AzRP3Q8r0vU/fc/BGeoJhBdyT/AM74++zC8PzctXZ8yEOQ/LorVClwW4j9eEEnT6X7uP+Yy+UlgMec/XO92JzpMuj8fnrnnGDXdPzZQ2vvm1+E/zAEuf4m9sD/moV11WR3xP9dQAB0+SfA/KLOPtDw78z/HtK2JRY3pPxY7hGXwk+s/ahEE1FMhzD/oCZUs54vsP26gmSKdiPc/epN+rr9S6D+OVt3wNNTkP8abxBSlaPM/ct2SjasM4z/yJVP9PZnaP5rLu17+tdM/tHP3/E256z8GEA1f2sDeP2rq4OceS94/kMUYCEd8oT9OY9emNa7DP8TXBwC+8Ok/pMaUE6i1zD+lmyYC7u7fP8CnKdtFbZY/WoZYDBp87T/+6LySIqLfP4pVrHIufuQ/wFeqRHiMsj8m7UfrwsHwPwZQRNLu+PQ/Htiih2uw8T/izhHExhPyP7yZ9Oi5FPI/hr1tearJ9j9A1LNLm2/zP2nlJW43jfQ/6PnNrKQM3z+k0pMViX/iPw4qTpbdidI/LH824vmZ1D+5xbu+r7XZP3RABZ149+I/eUBInfcw6j/kP09I5aXWP3iNFVj/ucU/2nrm8qSQ9j/4etBGIpTgPwD+rIEaZMs/Oajmd2Hf8j/WhXNL+17uP4yrsIVEseU/L2rj3iZQ4j9dv40u4evdP1b9iWhpg/U/ghR8bULK3j/Sh/+VbHjwP8b+kGlC8eA/sHCv/i9W8D9cGiI+ZRe/P4QTYgCtou4/cw7A6AiA2T/O6gRzofnoPxFEPw9hj+Q/RayYeEZU2j96HiAdl+n3P88B334sBNY/AqUvwQQt7j9Sb99oaXn0P9zCmAJTO+M/dsdpY0Hj6j+7oulAsh7TP1BGXW6HLK0/jbEwD7Uz4T/sgqzn7IO/P0e0uRDYCNE/SiAu6qY08j9eAlBYiPjsPxgTHg2P+Ns/A8lVCxrA0z9P6hNza4fgP/u/LaVsWfI/poQCKJ7r9z8ywb6AOGPrP5xb+Nf7huw/koJDMHJk4D+/aCo2L8fhP9bHrfBiVuk/aEwOL5/e9T8EtOlLQKTnP3KeEVqIpOk/gzI0BH774z/MQTIO1pziP070qWyEpuA/YozWVQF08T+uLVuAnTHoP6pe873JIvY/cBPXwSkJ8z/smCANI4S1P4cVo9MC+dE/65rwST9O6z/tlJI/Mqb3P+5EMnN5tOw/xIQ++4n15z/YtsR9FgjhP8Qtp7uXius/11X5AGV72T/uWFRMaNLDPzhw/GzNSts/AKxMDPVVfD8SBe10hu/nP37G4H02ivU/+HkTRfVk6z82CaxfWovuP90qrX7bb/c/ov9nb6JI9z/azjGaWKbhP9BwfFYtoNI/zAU5rYzq8z8sovdNTl+9P59FY/viGdo/+y0RbF6S5D/y1Cmi01jyPylDq58ZJeA/HI8ou7ss8T/wB1Vl9fnuP8aqLwdo8vI/rWOuz7Wh1j8eJKVzNpXSPwD/zeVSDV0/VkGuvKzf9D++CV/u4ojyPybwyPk6Aes/IDFrB/T49T9Wxn4pHkj0P+i42OaS5ew/CpZLRn6P4T+/JDb59sTxP0oWvZxqkfE/2+EjB8e98D8xX5HRnRr3P6ugFsYwp9c/NtLD4X7G2z/onhbYkDjOP+yejnLYadk/aFMyMhqI4z8Mqn3faUa+P8g/Z52f+uI/4BeNpnJs4D/SspjvyTzWP1GnZI/ZfuU/QCYLUqn9cz+JNJKOmS/vP730Pr06VPM/3MkCbbtb8T8YqCaiNUHkP04+VWut9+k/tkizsBZm6T+qj079QCXBP4BhLdo5//c/KBRiJ/Se9D9IA1h/0EDtP7JJNUYbH+c/k/2O/Z+f9j/821tfxRK2PwVID3Ap/+w/Fl1eQ9KF9z+l7HXtgxvxPxQxx+MuIOc/bQ49fw+M9D8BWuzYTCPYP14SzY7zVvE/TBoPn+Ai9D8XIf5ubNX3P1rCPvJqXOU/foA9gcWk7z9YKMc6roXoPxx5L+ea+70/MK/Jpons7D9kUUO+/hHnP8xi25oyQrA/Ei1J3UOH9D+sJnffK0vzP32Saup9Sts/2J8nXm7CuT+jNMBMDEHfP5RASyUGVsw/oS2VNdSC9D8YKr/LUxaqPzEEyT3Yp/M/RSGFrCkr3D/1giSmIVLQPw9+s/D+U+U/hlzVX6Yu6j8g2QDeAyKtP4D0NM4tk5s/sig/ceOD3D9ARPoG3M+JP7r4xt2BJOc/HNsbNKEz3T8/lx6lut/0P/hgXr2bM6Y/pe9zTdpF8z8k9r4SuQTgPyybV/wAHLY/7oRCxvjN4j/MOYyCbt7ZPzKgZOsy3Ok/GJPedG8Byz/a9l/NY63EPzhOPKFMztc/zuY0dy/k8z87Q1ut4RbhPw2dfy7EIeY/CPtz4N0S8z85OK9bX3bwP8aQkM8Cs/U/10nDswQu8T9G9bRaiwndP115xg/UHOo/ZoLoJFbf5z9qrrA5bEHMP6CNEtNBwM0/RKTxRXYp0z+kUOcfNPTyP2rGH4PXQuw/pQWyRm249z/Sl2KZOf3aP7OizOXyfvE/3+QAEUIm8z9ymW5imLfLPwbCHp1jg+U/8BLnCtFU2D/qmk/vXHPzP8mwCNXlLvc/oKOJgbJ69j/05EmdJ+jHPzblp/Iw4eU/y97Q4Mea7T+zcrPZVWPYP8T4BEFU9rU/GcNgZk+A5z8UE/8acXroPwlTibuYKds/Z+C0elwj9z8pTNmtq+j2PxgpLbpmhKM/vGXTbat31j8r5Z8UJ8XVP6SZMCnSzPY/+sQSvv1B7z8kksaweIHvP6eB7yz3EN8/zjOYENCEyD/YUotaX4v2P5zGlZEJj9M/2G/OTM+ktj/mSNfY0dvzPzx5/fega8U/ACSDdVyYPj8p3mH6MnHxP6LbZ4idKdk/fqmfLLwL7z9wbOmw0a2+P1Bkpmv5I/Q/CMyOAWekrT/WGZ8IPa7mP+VVKI0xKeI/vy7mU+NH8z8BUP0d0eb3Pyiszpz/trs/0KUSG+81oz9hVPsJg6nzPxLjV/ecYco/BLYYpvh49D/E/TacnN7pP7iNqH//xNg/TC8ydw2T5z84YjbHr77XPz3u7+idqvc/sY8CrXyv7D/oUZW0NuHIP33jF60w9t8/1rC1uLkX7T9F2zWFKlz2PxyCZyJtLeU/8K0Kp1675z81rdjpNXnSP/GFhB9wX/c/jKYLktScwj/t3chClGvXP73vzzgebeY/Uixog5XI4D+enODf1wjzP8O4hRKhtdA/ysGF2bRL5T/AzoSx3QD2P2Hx0gLKWNI/uxFJbfrx6j/DaX4iIBjbP1CrqQy4X6U/ucnPolkT4D9BC3o/dp73P4QD+OxaVfQ/OtjlKYIs9T8MS9+UHN7jP/2RXZkV5uc/DjHb/Tqv4z+o8ASKIinXP6Vw77JWLvU/2Phvhy7d2T97GuMj2VXfPwhtKrwSIOw//uMKK6LO9T+jhQkAS+fQPyC4mUP3ju8/bre13wpt9D908T3T3TnUP+pamS1djOI/McZBgvzw8j8j9p+Z76nWP64Y6WGxJOA/gENSOUIAyj/iCBrMaE3rP9I7ZqieJ+g/ylj6YF3w7z90X9hsLoHJPyDkutbkCPU/KIVkkbA/1T/Et+ykkrTzPwc6+wYcytg//TuOPH1Z0z+AW4flgKDyP0o+Y+B0gOU/CIYUJx078z+aT+6rTVzjPzh0J8pBIcE/4MoxetnTvz89be0cKuf1P7SvB+eZpss/f8cJJXR47D8k75uWyTfAP6g5MpIyd/Q/jJyEhJV1vT8uqjZqNijWPxZxSA+szvI/Mglrraz18z/2awawvtrqP2bAW/rjl+k/yNOBP1AM6j9ofKxIAWXjP/xnTxOxYe8/Bng9Yg/24z/wVyVW28bIP1c9s+m1gfA/wwjhVR6h7D/e4r7pxjHkPzy0ozg7aO8/YGY7rqGdkz+E9LcFxWDMP+N+1neDp/c/4BPhMYlKsz/YlxbqjdnvPyxbCdG3F/Q/UbHcPPWh4D9N3ofEEIX3P8jG6v6zO8M/oGAr5TuPtD8OWVmIpQTkP/8aOzfZf90/b/rMbH3F9D/jqxQZuf/tP7nywk2offE/5o/grUuXwj+003ufKzvtP1AweG2TZKc/uuWINksh7j+cIrcP10/sP0AenU70GO8/VxHAt+uD7z/ArZWpAT/3PxUOjtcmJPA/2OTs/F0QuD9/gzeXFK3VPzCy0wnwjOw/LHDV4k/qzD8wcPVtz8GzP7Fx7ypgL9I/CDEI71fX8D9s+nnVBD72P6aGtpqUAfE/oOvATUqP0D+6juzvf8HqP1Z/1b/Y3+M//HqL2ylM7T/qu0ewQPnLP2MDRnuE3PE/g8/HGrfl8j/jREudiSbYP6duw03iNPU/P4GHd9Jv3z+ucdvXVjvDPwEUpeHSXdI/WooLu8Dd0z/yFzmmryfjP/D4m0ivzvI/ndvi9drc9z+OMiFkaXT2P9D5nORxqp8/YuvqGSvS9D8eDgGRNWnyP8SUQOuYzOc/kKKr2QWy1z8m1ClNZ7bvP+dHgwHIIeE/kWt4BNVj5z+eaKDFnpr2P6sxpRaJCNU/yBK73Gyi4z83nl5WZm7WPxY0sskiS/M/Lu0PMM437j+U9sh9nKfBP+lsE0+qFfA/niOK0LA56j+vgK+RmbPzP0F8RiHmF9M/j/TEzQIh4T+RhImrUBbzP7qjj0zFLfI/yBtpLoVqzz+ghmxn8C2tP+3/cxgKL/U/BTAAuNGw1z8Be3fKjsL2PxAFtnMf2u4/qHInDk47xz8h+vkDtir0PzLqKLecjds/DGi8Tegf9z/sc3X/7WjQPySt6Hi7lc4/yrVS4JyhxD8GA67mWbXAPwYyLfbAa/I/Ohp5SIl54j/2Ujc4khzNP2xmJTWWa8k/M2UcWWK+0D/3sZkhg0zwP0Q5DYiG+dg/ZB9ax+NPyz+yFOS6dwfzP+47zRnoH8o/zDKL17WC1D95N9YhTNzcP0YDWMA+0t0/0ClqCACppz+siSa5Gj/FPy40Cgv99/A/v+t2wE7g8j8ccJzyvzvhP9IqwNlPmeY/XofmsnFbzT+YSbuB6u/jP/7Ne9nRs/E/exiV0LT77D84K2E6BwL3P1S7W43Tl/Y/ZKSJvYVh6j8N4JJ/VLDmP2yqNPeDweA/BGeGQlMZ6z99Oq4hAEL0PzRah9R/feI/rCjhOOZg4j9odcIF6ovNP4iZxLyOHNs/h3ZY6u2i9z9IftsxbN/DP3UK1vvgwvY/SK9do3if7D8ejEBZpJ7oPwgsFR5mrvQ/QzZJKunB4z90fEYYndTkP2YigWMRN8o/ZkeaE0QnxT+8Dr2L53vWPzRulseS1NY/1GS0OAsqzT8AqDWvp5B2P40DZV448Nk/Lt9wyhG65z9OpMSJCqnoP3q6RMnTS+0/C7nhQZI89D+qNVsrJlDHP8hVKCoihOk/HBReiiW42z+SKcsgIEjoPzj/809SR6U/FGmlAQ9YvT8Ar+o5oYuqP1XHpDtI2uA/nylA67SZ9z9k5CapgzrXP/RxTnwc+uQ/mMFM/AwT5T+myKXeCibbP6JpJywOMvU/cWRxhy250T+Qc/IGhkSqPyCj8fmKKvA/vCT34rLu5D8Avky3W8aiP4dupyy03OQ/rj46gerg5j+UGbg2xQ33PzaK+Lq7ous/TEVSErRe4z80bhU7UqL3P24DoSZ6JPI/APphpoEJuz/86bML5broP5X3Bz2qW/M/KhGcyxDo6T8=\",\"dtype\":\"float64\",\"shape\":[4000]},\"x\":{\"__ndarray__\":\"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\",\"dtype\":\"float64\",\"shape\":[4000]},\"y\":{\"__ndarray__\":\"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\",\"dtype\":\"float64\",\"shape\":[4000]}},\"selected\":{\"id\":\"276684\",\"type\":\"Selection\"},\"selection_policy\":{\"id\":\"276685\",\"type\":\"UnionRenderers\"}},\"id\":\"273241\",\"type\":\"ColumnDataSource\"},{\"attributes\":{},\"id\":\"276677\",\"type\":\"BasicTickFormatter\"},{\"attributes\":{\"source\":{\"id\":\"273241\",\"type\":\"ColumnDataSource\"}},\"id\":\"273245\",\"type\":\"CDSView\"},{\"attributes\":{\"callback\":null},\"id\":\"273210\",\"type\":\"HoverTool\"},{\"attributes\":{\"bottom_units\":\"screen\",\"fill_alpha\":{\"value\":0.5},\"fill_color\":{\"value\":\"lightgrey\"},\"left_units\":\"screen\",\"level\":\"overlay\",\"line_alpha\":{\"value\":1.0},\"line_color\":{\"value\":\"black\"},\"line_dash\":[4,4],\"line_width\":{\"value\":2},\"render_mode\":\"css\",\"right_units\":\"screen\",\"top_units\":\"screen\"},\"id\":\"276680\",\"type\":\"BoxAnnotation\"},{\"attributes\":{},\"id\":\"273215\",\"type\":\"ZoomOutTool\"},{\"attributes\":{},\"id\":\"273211\",\"type\":\"CrosshairTool\"},{\"attributes\":{\"active_drag\":\"auto\",\"active_inspect\":\"auto\",\"active_multi\":null,\"active_scroll\":\"auto\",\"active_tap\":\"auto\",\"tools\":[{\"id\":\"273210\",\"type\":\"HoverTool\"},{\"id\":\"273211\",\"type\":\"CrosshairTool\"},{\"id\":\"273212\",\"type\":\"PanTool\"},{\"id\":\"273213\",\"type\":\"WheelZoomTool\"},{\"id\":\"273214\",\"type\":\"ZoomInTool\"},{\"id\":\"273215\",\"type\":\"ZoomOutTool\"},{\"id\":\"273216\",\"type\":\"BoxZoomTool\"},{\"id\":\"273217\",\"type\":\"UndoTool\"},{\"id\":\"273218\",\"type\":\"RedoTool\"},{\"id\":\"273219\",\"type\":\"ResetTool\"},{\"id\":\"273220\",\"type\":\"TapTool\"},{\"id\":\"273221\",\"type\":\"SaveTool\"},{\"id\":\"273222\",\"type\":\"BoxSelectTool\"},{\"id\":\"273223\",\"type\":\"PolySelectTool\"},{\"id\":\"273224\",\"type\":\"LassoSelectTool\"}]},\"id\":\"273225\",\"type\":\"Toolbar\"},{\"attributes\":{\"callback\":null,\"overlay\":{\"id\":\"276682\",\"type\":\"PolyAnnotation\"}},\"id\":\"273223\",\"type\":\"PolySelectTool\"},{\"attributes\":{},\"id\":\"273213\",\"type\":\"WheelZoomTool\"},{\"attributes\":{},\"id\":\"273214\",\"type\":\"ZoomInTool\"},{\"attributes\":{\"callback\":null},\"id\":\"273192\",\"type\":\"DataRange1d\"},{\"attributes\":{},\"id\":\"276679\",\"type\":\"BasicTickFormatter\"},{\"attributes\":{\"callback\":null},\"id\":\"273194\",\"type\":\"DataRange1d\"},{\"attributes\":{\"overlay\":{\"id\":\"276680\",\"type\":\"BoxAnnotation\"}},\"id\":\"273216\",\"type\":\"BoxZoomTool\"},{\"attributes\":{\"fill_alpha\":{\"value\":0.5},\"fill_color\":{\"value\":\"lightgrey\"},\"level\":\"overlay\",\"line_alpha\":{\"value\":1.0},\"line_color\":{\"value\":\"black\"},\"line_dash\":[4,4],\"line_width\":{\"value\":2},\"xs_units\":\"screen\",\"ys_units\":\"screen\"},\"id\":\"276683\",\"type\":\"PolyAnnotation\"},{\"attributes\":{},\"id\":\"273196\",\"type\":\"LinearScale\"},{\"attributes\":{},\"id\":\"273217\",\"type\":\"UndoTool\"},{\"attributes\":{},\"id\":\"273198\",\"type\":\"LinearScale\"},{\"attributes\":{},\"id\":\"273218\",\"type\":\"RedoTool\"},{\"attributes\":{},\"id\":\"276685\",\"type\":\"UnionRenderers\"},{\"attributes\":{\"formatter\":{\"id\":\"276679\",\"type\":\"BasicTickFormatter\"},\"ticker\":{\"id\":\"273201\",\"type\":\"BasicTicker\"}},\"id\":\"273200\",\"type\":\"LinearAxis\"},{\"attributes\":{},\"id\":\"273219\",\"type\":\"ResetTool\"},{\"attributes\":{},\"id\":\"273201\",\"type\":\"BasicTicker\"},{\"attributes\":{\"callback\":null},\"id\":\"273220\",\"type\":\"TapTool\"},{\"attributes\":{\"callback\":null,\"overlay\":{\"id\":\"276683\",\"type\":\"PolyAnnotation\"}},\"id\":\"273224\",\"type\":\"LassoSelectTool\"},{\"attributes\":{\"text\":\"\"},\"id\":\"276675\",\"type\":\"Title\"},{\"attributes\":{\"ticker\":{\"id\":\"273201\",\"type\":\"BasicTicker\"}},\"id\":\"273204\",\"type\":\"Grid\"},{\"attributes\":{},\"id\":\"273221\",\"type\":\"SaveTool\"},{\"attributes\":{\"formatter\":{\"id\":\"276677\",\"type\":\"BasicTickFormatter\"},\"ticker\":{\"id\":\"273206\",\"type\":\"BasicTicker\"}},\"id\":\"273205\",\"type\":\"LinearAxis\"},{\"attributes\":{},\"id\":\"273212\",\"type\":\"PanTool\"},{\"attributes\":{\"callback\":null,\"overlay\":{\"id\":\"276681\",\"type\":\"BoxAnnotation\"}},\"id\":\"273222\",\"type\":\"BoxSelectTool\"},{\"attributes\":{},\"id\":\"276684\",\"type\":\"Selection\"},{\"attributes\":{},\"id\":\"273206\",\"type\":\"BasicTicker\"},{\"attributes\":{\"dimension\":1,\"ticker\":{\"id\":\"273206\",\"type\":\"BasicTicker\"}},\"id\":\"273209\",\"type\":\"Grid\"}],\"root_ids\":[\"273191\"]},\"title\":\"Bokeh Application\",\"version\":\"1.4.0\"}};\n",
              "  var render_items = [{\"docid\":\"964498c0-444c-4ab5-ad96-54c823397819\",\"roots\":{\"273191\":\"1b182cc2-9d99-42a1-984c-c51119fe3091\"}}];\n",
              "  root.Bokeh.embed.embed_items_notebook(docs_json, render_items);\n",
              "\n",
              "  }\n",
              "  if (root.Bokeh !== undefined) {\n",
              "    embed_document(root);\n",
              "  } else {\n",
              "    var attempts = 0;\n",
              "    var timer = setInterval(function(root) {\n",
              "      if (root.Bokeh !== undefined) {\n",
              "        clearInterval(timer);\n",
              "        embed_document(root);\n",
              "      } else {\n",
              "        attempts++;\n",
              "        if (attempts > 100) {\n",
              "          clearInterval(timer);\n",
              "          console.log(\"Bokeh: ERROR: Unable to run BokehJS code because BokehJS library is missing\");\n",
              "        }\n",
              "      }\n",
              "    }, 10, root)\n",
              "  }\n",
              "})(window);"
            ],
            "application/vnd.bokehjs_exec.v0+json": ""
          },
          "metadata": {
            "tags": [],
            "application/vnd.bokehjs_exec.v0+json": {
              "id": "273191"
            }
          }
        }
      ]
    },
    {
      "cell_type": "code",
      "metadata": {
        "id": "6JmdTR0E0AKi",
        "colab_type": "code",
        "colab": {}
      },
      "source": [
        ""
      ],
      "execution_count": 0,
      "outputs": []
    },
    {
      "cell_type": "code",
      "metadata": {
        "id": "8LgyXSCZUU5f",
        "colab_type": "code",
        "colab": {}
      },
      "source": [
        "p.add_tools(HoverTool(\n",
        "    tooltips=[\n",
        "        ( 'date',   '@date{%F}'            ),\n",
        "        ( 'close',  '$@{adj close}{%0.2f}' ), # use @{ } for field names with spaces\n",
        "        ( 'volume', '@volume{0.00 a}'      ),\n",
        "    ],\n",
        "\n",
        "    formatters={\n",
        "        'date'      : 'datetime', # use 'datetime' formatter for 'date' field\n",
        "        'adj close' : 'printf',   # use 'printf' formatter for 'adj close' field\n",
        "                                  # use default 'numeral' formatter for other fields\n",
        "    },\n",
        "\n",
        "    # display a tooltip whenever the cursor is vertically in line with a glyph\n",
        "    mode='vline',\n",
        "))"
      ],
      "execution_count": 0,
      "outputs": []
    }
  ]
}